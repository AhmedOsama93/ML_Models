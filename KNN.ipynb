{
 "cells": [
  {
   "cell_type": "code",
   "execution_count": 66,
   "id": "c7df6f0c",
   "metadata": {},
   "outputs": [],
   "source": [
    "import numpy as np\n",
    "import pandas as pd\n",
    "from statistics import mode\n",
    "%matplotlib widget\n",
    "%matplotlib inline\n",
    "import matplotlib.pyplot as plt\n",
    "from pandas.plotting import scatter_matrix"
   ]
  },
  {
   "cell_type": "code",
   "execution_count": 67,
   "id": "9efefdc4",
   "metadata": {},
   "outputs": [],
   "source": [
    "df = pd.read_csv(\"BankNote_Authentication.csv\")"
   ]
  },
  {
   "cell_type": "code",
   "execution_count": 68,
   "id": "91865854",
   "metadata": {},
   "outputs": [
    {
     "data": {
      "text/html": [
       "<div>\n",
       "<style scoped>\n",
       "    .dataframe tbody tr th:only-of-type {\n",
       "        vertical-align: middle;\n",
       "    }\n",
       "\n",
       "    .dataframe tbody tr th {\n",
       "        vertical-align: top;\n",
       "    }\n",
       "\n",
       "    .dataframe thead th {\n",
       "        text-align: right;\n",
       "    }\n",
       "</style>\n",
       "<table border=\"1\" class=\"dataframe\">\n",
       "  <thead>\n",
       "    <tr style=\"text-align: right;\">\n",
       "      <th></th>\n",
       "      <th>variance</th>\n",
       "      <th>skewness</th>\n",
       "      <th>curtosis</th>\n",
       "      <th>entropy</th>\n",
       "      <th>class</th>\n",
       "    </tr>\n",
       "  </thead>\n",
       "  <tbody>\n",
       "    <tr>\n",
       "      <th>0</th>\n",
       "      <td>3.62160</td>\n",
       "      <td>8.6661</td>\n",
       "      <td>-2.8073</td>\n",
       "      <td>-0.44699</td>\n",
       "      <td>0</td>\n",
       "    </tr>\n",
       "    <tr>\n",
       "      <th>1</th>\n",
       "      <td>4.54590</td>\n",
       "      <td>8.1674</td>\n",
       "      <td>-2.4586</td>\n",
       "      <td>-1.46210</td>\n",
       "      <td>0</td>\n",
       "    </tr>\n",
       "    <tr>\n",
       "      <th>2</th>\n",
       "      <td>3.86600</td>\n",
       "      <td>-2.6383</td>\n",
       "      <td>1.9242</td>\n",
       "      <td>0.10645</td>\n",
       "      <td>0</td>\n",
       "    </tr>\n",
       "    <tr>\n",
       "      <th>3</th>\n",
       "      <td>3.45660</td>\n",
       "      <td>9.5228</td>\n",
       "      <td>-4.0112</td>\n",
       "      <td>-3.59440</td>\n",
       "      <td>0</td>\n",
       "    </tr>\n",
       "    <tr>\n",
       "      <th>4</th>\n",
       "      <td>0.32924</td>\n",
       "      <td>-4.4552</td>\n",
       "      <td>4.5718</td>\n",
       "      <td>-0.98880</td>\n",
       "      <td>0</td>\n",
       "    </tr>\n",
       "  </tbody>\n",
       "</table>\n",
       "</div>"
      ],
      "text/plain": [
       "   variance  skewness  curtosis  entropy  class\n",
       "0   3.62160    8.6661   -2.8073 -0.44699      0\n",
       "1   4.54590    8.1674   -2.4586 -1.46210      0\n",
       "2   3.86600   -2.6383    1.9242  0.10645      0\n",
       "3   3.45660    9.5228   -4.0112 -3.59440      0\n",
       "4   0.32924   -4.4552    4.5718 -0.98880      0"
      ]
     },
     "execution_count": 68,
     "metadata": {},
     "output_type": "execute_result"
    }
   ],
   "source": [
    "df.head()"
   ]
  },
  {
   "cell_type": "code",
   "execution_count": 69,
   "id": "65b04c33",
   "metadata": {},
   "outputs": [
    {
     "data": {
      "text/html": [
       "<div>\n",
       "<style scoped>\n",
       "    .dataframe tbody tr th:only-of-type {\n",
       "        vertical-align: middle;\n",
       "    }\n",
       "\n",
       "    .dataframe tbody tr th {\n",
       "        vertical-align: top;\n",
       "    }\n",
       "\n",
       "    .dataframe thead th {\n",
       "        text-align: right;\n",
       "    }\n",
       "</style>\n",
       "<table border=\"1\" class=\"dataframe\">\n",
       "  <thead>\n",
       "    <tr style=\"text-align: right;\">\n",
       "      <th></th>\n",
       "      <th>variance</th>\n",
       "      <th>skewness</th>\n",
       "      <th>curtosis</th>\n",
       "      <th>entropy</th>\n",
       "      <th>class</th>\n",
       "    </tr>\n",
       "  </thead>\n",
       "  <tbody>\n",
       "    <tr>\n",
       "      <th>count</th>\n",
       "      <td>1372.000000</td>\n",
       "      <td>1372.000000</td>\n",
       "      <td>1372.000000</td>\n",
       "      <td>1372.000000</td>\n",
       "      <td>1372.000000</td>\n",
       "    </tr>\n",
       "    <tr>\n",
       "      <th>mean</th>\n",
       "      <td>0.433735</td>\n",
       "      <td>1.922353</td>\n",
       "      <td>1.397627</td>\n",
       "      <td>-1.191657</td>\n",
       "      <td>0.444606</td>\n",
       "    </tr>\n",
       "    <tr>\n",
       "      <th>std</th>\n",
       "      <td>2.842763</td>\n",
       "      <td>5.869047</td>\n",
       "      <td>4.310030</td>\n",
       "      <td>2.101013</td>\n",
       "      <td>0.497103</td>\n",
       "    </tr>\n",
       "    <tr>\n",
       "      <th>min</th>\n",
       "      <td>-7.042100</td>\n",
       "      <td>-13.773100</td>\n",
       "      <td>-5.286100</td>\n",
       "      <td>-8.548200</td>\n",
       "      <td>0.000000</td>\n",
       "    </tr>\n",
       "    <tr>\n",
       "      <th>25%</th>\n",
       "      <td>-1.773000</td>\n",
       "      <td>-1.708200</td>\n",
       "      <td>-1.574975</td>\n",
       "      <td>-2.413450</td>\n",
       "      <td>0.000000</td>\n",
       "    </tr>\n",
       "    <tr>\n",
       "      <th>50%</th>\n",
       "      <td>0.496180</td>\n",
       "      <td>2.319650</td>\n",
       "      <td>0.616630</td>\n",
       "      <td>-0.586650</td>\n",
       "      <td>0.000000</td>\n",
       "    </tr>\n",
       "    <tr>\n",
       "      <th>75%</th>\n",
       "      <td>2.821475</td>\n",
       "      <td>6.814625</td>\n",
       "      <td>3.179250</td>\n",
       "      <td>0.394810</td>\n",
       "      <td>1.000000</td>\n",
       "    </tr>\n",
       "    <tr>\n",
       "      <th>max</th>\n",
       "      <td>6.824800</td>\n",
       "      <td>12.951600</td>\n",
       "      <td>17.927400</td>\n",
       "      <td>2.449500</td>\n",
       "      <td>1.000000</td>\n",
       "    </tr>\n",
       "  </tbody>\n",
       "</table>\n",
       "</div>"
      ],
      "text/plain": [
       "          variance     skewness     curtosis      entropy        class\n",
       "count  1372.000000  1372.000000  1372.000000  1372.000000  1372.000000\n",
       "mean      0.433735     1.922353     1.397627    -1.191657     0.444606\n",
       "std       2.842763     5.869047     4.310030     2.101013     0.497103\n",
       "min      -7.042100   -13.773100    -5.286100    -8.548200     0.000000\n",
       "25%      -1.773000    -1.708200    -1.574975    -2.413450     0.000000\n",
       "50%       0.496180     2.319650     0.616630    -0.586650     0.000000\n",
       "75%       2.821475     6.814625     3.179250     0.394810     1.000000\n",
       "max       6.824800    12.951600    17.927400     2.449500     1.000000"
      ]
     },
     "execution_count": 69,
     "metadata": {},
     "output_type": "execute_result"
    }
   ],
   "source": [
    "df.describe()"
   ]
  },
  {
   "cell_type": "code",
   "execution_count": 70,
   "id": "7b035f4c",
   "metadata": {},
   "outputs": [
    {
     "data": {
      "text/html": [
       "<div>\n",
       "<style scoped>\n",
       "    .dataframe tbody tr th:only-of-type {\n",
       "        vertical-align: middle;\n",
       "    }\n",
       "\n",
       "    .dataframe tbody tr th {\n",
       "        vertical-align: top;\n",
       "    }\n",
       "\n",
       "    .dataframe thead th {\n",
       "        text-align: right;\n",
       "    }\n",
       "</style>\n",
       "<table border=\"1\" class=\"dataframe\">\n",
       "  <thead>\n",
       "    <tr style=\"text-align: right;\">\n",
       "      <th></th>\n",
       "      <th>variance</th>\n",
       "      <th>skewness</th>\n",
       "      <th>curtosis</th>\n",
       "      <th>entropy</th>\n",
       "      <th>class</th>\n",
       "    </tr>\n",
       "  </thead>\n",
       "  <tbody>\n",
       "    <tr>\n",
       "      <th>0</th>\n",
       "      <td>1.169026</td>\n",
       "      <td>-1.251643</td>\n",
       "      <td>0.563308</td>\n",
       "      <td>-0.029007</td>\n",
       "      <td>0</td>\n",
       "    </tr>\n",
       "    <tr>\n",
       "      <th>1</th>\n",
       "      <td>0.850709</td>\n",
       "      <td>1.235064</td>\n",
       "      <td>-1.170230</td>\n",
       "      <td>-0.006208</td>\n",
       "      <td>0</td>\n",
       "    </tr>\n",
       "    <tr>\n",
       "      <th>2</th>\n",
       "      <td>0.484622</td>\n",
       "      <td>0.968530</td>\n",
       "      <td>-0.551371</td>\n",
       "      <td>-0.606918</td>\n",
       "      <td>0</td>\n",
       "    </tr>\n",
       "    <tr>\n",
       "      <th>3</th>\n",
       "      <td>-1.273844</td>\n",
       "      <td>-1.618313</td>\n",
       "      <td>2.429257</td>\n",
       "      <td>0.291653</td>\n",
       "      <td>1</td>\n",
       "    </tr>\n",
       "    <tr>\n",
       "      <th>4</th>\n",
       "      <td>1.652746</td>\n",
       "      <td>-0.332831</td>\n",
       "      <td>-0.248599</td>\n",
       "      <td>1.097926</td>\n",
       "      <td>0</td>\n",
       "    </tr>\n",
       "  </tbody>\n",
       "</table>\n",
       "</div>"
      ],
      "text/plain": [
       "   variance  skewness  curtosis   entropy  class\n",
       "0  1.169026 -1.251643  0.563308 -0.029007      0\n",
       "1  0.850709  1.235064 -1.170230 -0.006208      0\n",
       "2  0.484622  0.968530 -0.551371 -0.606918      0\n",
       "3 -1.273844 -1.618313  2.429257  0.291653      1\n",
       "4  1.652746 -0.332831 -0.248599  1.097926      0"
      ]
     },
     "execution_count": 70,
     "metadata": {},
     "output_type": "execute_result"
    }
   ],
   "source": [
    "#shuffle our data\n",
    "shuffled_df = normalized_df.sample(frac=1).reset_index(drop=True)\n",
    "shuffled_df.head()"
   ]
  },
  {
   "cell_type": "code",
   "execution_count": 71,
   "id": "baeaf466",
   "metadata": {},
   "outputs": [],
   "source": [
    "data_len = len(shuffled_df.index)"
   ]
  },
  {
   "cell_type": "code",
   "execution_count": 72,
   "id": "a307ae07",
   "metadata": {},
   "outputs": [],
   "source": [
    "split_at = int(data_len*0.3)\n",
    "test_data, train_data = shuffled_df[:split_at], shuffled_df[split_at:]"
   ]
  },
  {
   "cell_type": "code",
   "execution_count": 73,
   "id": "ae7e9f3f",
   "metadata": {},
   "outputs": [],
   "source": [
    "test_data = test_data.reset_index(drop=True)\n",
    "train_data = train_data.reset_index(drop=True)"
   ]
  },
  {
   "cell_type": "code",
   "execution_count": 74,
   "id": "bf45815a",
   "metadata": {},
   "outputs": [
    {
     "data": {
      "text/plain": [
       "411"
      ]
     },
     "execution_count": 74,
     "metadata": {},
     "output_type": "execute_result"
    }
   ],
   "source": [
    "len(test_data.index)"
   ]
  },
  {
   "cell_type": "code",
   "execution_count": 75,
   "id": "79455247",
   "metadata": {},
   "outputs": [
    {
     "data": {
      "text/plain": [
       "961"
      ]
     },
     "execution_count": 75,
     "metadata": {},
     "output_type": "execute_result"
    }
   ],
   "source": [
    "len(train_data.index)"
   ]
  },
  {
   "cell_type": "code",
   "execution_count": 76,
   "id": "4358d77c",
   "metadata": {},
   "outputs": [],
   "source": [
    "unnormalized_trin_class=train_data['class']\n",
    "unnormalized_test_class=test_data['class']\n",
    "\n",
    "mean = train_data.mean()\n",
    "std = train_data.std()\n",
    "\n",
    "normalized_train_df = (train_data-mean)/std\n",
    "normalized_test_df = (test_data-mean)/std\n",
    "\n",
    "\n",
    "normalized_train_df['class']=unnormalized_trin_class\n",
    "normalized_test_df['class']=unnormalized_test_class\n",
    "\n",
    "\n",
    "\n"
   ]
  },
  {
   "cell_type": "code",
   "execution_count": 77,
   "id": "19e3fdd8",
   "metadata": {},
   "outputs": [
    {
     "data": {
      "text/html": [
       "<div>\n",
       "<style scoped>\n",
       "    .dataframe tbody tr th:only-of-type {\n",
       "        vertical-align: middle;\n",
       "    }\n",
       "\n",
       "    .dataframe tbody tr th {\n",
       "        vertical-align: top;\n",
       "    }\n",
       "\n",
       "    .dataframe thead th {\n",
       "        text-align: right;\n",
       "    }\n",
       "</style>\n",
       "<table border=\"1\" class=\"dataframe\">\n",
       "  <thead>\n",
       "    <tr style=\"text-align: right;\">\n",
       "      <th></th>\n",
       "      <th>variance</th>\n",
       "      <th>skewness</th>\n",
       "      <th>curtosis</th>\n",
       "      <th>entropy</th>\n",
       "      <th>class</th>\n",
       "    </tr>\n",
       "  </thead>\n",
       "  <tbody>\n",
       "    <tr>\n",
       "      <th>0</th>\n",
       "      <td>-0.591645</td>\n",
       "      <td>-0.547243</td>\n",
       "      <td>0.198863</td>\n",
       "      <td>0.923815</td>\n",
       "      <td>1</td>\n",
       "    </tr>\n",
       "    <tr>\n",
       "      <th>1</th>\n",
       "      <td>-0.767682</td>\n",
       "      <td>-1.510870</td>\n",
       "      <td>1.346242</td>\n",
       "      <td>1.189207</td>\n",
       "      <td>1</td>\n",
       "    </tr>\n",
       "    <tr>\n",
       "      <th>2</th>\n",
       "      <td>-0.463942</td>\n",
       "      <td>0.182904</td>\n",
       "      <td>-0.636419</td>\n",
       "      <td>-0.136544</td>\n",
       "      <td>1</td>\n",
       "    </tr>\n",
       "    <tr>\n",
       "      <th>3</th>\n",
       "      <td>-0.489519</td>\n",
       "      <td>-1.107773</td>\n",
       "      <td>0.184133</td>\n",
       "      <td>0.798170</td>\n",
       "      <td>1</td>\n",
       "    </tr>\n",
       "    <tr>\n",
       "      <th>4</th>\n",
       "      <td>1.211693</td>\n",
       "      <td>-1.160493</td>\n",
       "      <td>0.465195</td>\n",
       "      <td>0.302935</td>\n",
       "      <td>0</td>\n",
       "    </tr>\n",
       "  </tbody>\n",
       "</table>\n",
       "</div>"
      ],
      "text/plain": [
       "   variance  skewness  curtosis   entropy  class\n",
       "0 -0.591645 -0.547243  0.198863  0.923815      1\n",
       "1 -0.767682 -1.510870  1.346242  1.189207      1\n",
       "2 -0.463942  0.182904 -0.636419 -0.136544      1\n",
       "3 -0.489519 -1.107773  0.184133  0.798170      1\n",
       "4  1.211693 -1.160493  0.465195  0.302935      0"
      ]
     },
     "execution_count": 77,
     "metadata": {},
     "output_type": "execute_result"
    }
   ],
   "source": [
    "normalized_train_df.head()"
   ]
  },
  {
   "cell_type": "code",
   "execution_count": 78,
   "id": "0638bf98",
   "metadata": {},
   "outputs": [
    {
     "data": {
      "text/html": [
       "<div>\n",
       "<style scoped>\n",
       "    .dataframe tbody tr th:only-of-type {\n",
       "        vertical-align: middle;\n",
       "    }\n",
       "\n",
       "    .dataframe tbody tr th {\n",
       "        vertical-align: top;\n",
       "    }\n",
       "\n",
       "    .dataframe thead th {\n",
       "        text-align: right;\n",
       "    }\n",
       "</style>\n",
       "<table border=\"1\" class=\"dataframe\">\n",
       "  <thead>\n",
       "    <tr style=\"text-align: right;\">\n",
       "      <th></th>\n",
       "      <th>variance</th>\n",
       "      <th>skewness</th>\n",
       "      <th>curtosis</th>\n",
       "      <th>entropy</th>\n",
       "      <th>class</th>\n",
       "    </tr>\n",
       "  </thead>\n",
       "  <tbody>\n",
       "    <tr>\n",
       "      <th>0</th>\n",
       "      <td>1.162299</td>\n",
       "      <td>-1.270232</td>\n",
       "      <td>0.566397</td>\n",
       "      <td>-0.036010</td>\n",
       "      <td>0</td>\n",
       "    </tr>\n",
       "    <tr>\n",
       "      <th>1</th>\n",
       "      <td>0.841203</td>\n",
       "      <td>1.259130</td>\n",
       "      <td>-1.191650</td>\n",
       "      <td>-0.013306</td>\n",
       "      <td>0</td>\n",
       "    </tr>\n",
       "    <tr>\n",
       "      <th>2</th>\n",
       "      <td>0.471920</td>\n",
       "      <td>0.988024</td>\n",
       "      <td>-0.564041</td>\n",
       "      <td>-0.611529</td>\n",
       "      <td>0</td>\n",
       "    </tr>\n",
       "    <tr>\n",
       "      <th>3</th>\n",
       "      <td>-1.301896</td>\n",
       "      <td>-1.643191</td>\n",
       "      <td>2.458727</td>\n",
       "      <td>0.283322</td>\n",
       "      <td>1</td>\n",
       "    </tr>\n",
       "    <tr>\n",
       "      <th>4</th>\n",
       "      <td>1.650242</td>\n",
       "      <td>-0.335659</td>\n",
       "      <td>-0.256988</td>\n",
       "      <td>1.086256</td>\n",
       "      <td>0</td>\n",
       "    </tr>\n",
       "  </tbody>\n",
       "</table>\n",
       "</div>"
      ],
      "text/plain": [
       "   variance  skewness  curtosis   entropy  class\n",
       "0  1.162299 -1.270232  0.566397 -0.036010      0\n",
       "1  0.841203  1.259130 -1.191650 -0.013306      0\n",
       "2  0.471920  0.988024 -0.564041 -0.611529      0\n",
       "3 -1.301896 -1.643191  2.458727  0.283322      1\n",
       "4  1.650242 -0.335659 -0.256988  1.086256      0"
      ]
     },
     "execution_count": 78,
     "metadata": {},
     "output_type": "execute_result"
    }
   ],
   "source": [
    "normalized_test_df.head()"
   ]
  },
  {
   "cell_type": "code",
   "execution_count": 79,
   "id": "3457b262",
   "metadata": {},
   "outputs": [],
   "source": [
    "def mean_squared_error(data,point):\n",
    "    m,n = data.shape\n",
    "    error=[]\n",
    "    for i in range(m):\n",
    "        row_error=0\n",
    "        for j in range(n):\n",
    "            row_error+= pow(data.loc[i][j] - point[j],2)\n",
    "        error.append(row_error)\n",
    "    return error"
   ]
  },
  {
   "cell_type": "code",
   "execution_count": 80,
   "id": "65333b27",
   "metadata": {},
   "outputs": [],
   "source": [
    "def knn(features,label,features_to_predict,k):\n",
    "    error = mean_squared_error(features,features_to_predict)\n",
    "    df = features.copy()\n",
    "    df['label']=label\n",
    "    df['error']=error\n",
    "    df = df.sort_values(by=['error'])\n",
    "    df_top_k = df.head(k)\n",
    "    return df_top_k['label'].mode()[0],list(df['label'])"
   ]
  },
  {
   "cell_type": "code",
   "execution_count": null,
   "id": "18ae997e",
   "metadata": {},
   "outputs": [],
   "source": [
    "n,m = test_data.shape\n",
    "correct_predections_list=[]\n",
    "train_features = normalized_train_df.iloc[:,:-1]\n",
    "train_label = normalized_train_df['class'].tolist()\n",
    "\n",
    "test_features = normalized_test_df.iloc[:,:-1]\n",
    "test_label = normalized_test_df['class']\n",
    "\n",
    "k_values_list = []\n",
    "for j in range(n):\n",
    "        predected_value,all_error_sorted = knn(train_features,train_label,test_features.iloc[j],1)\n",
    "        k_values_list.append(all_error_sorted)"
   ]
  },
  {
   "cell_type": "code",
   "execution_count": null,
   "id": "fc6d65a3",
   "metadata": {},
   "outputs": [],
   "source": [
    "for i in range (9):\n",
    "    correct_predections=0\n",
    "    for j in range(n):\n",
    "        predected_value = mode(k_values_list[j][0:i+1])\n",
    "        if(predected_value == test_label[j]):\n",
    "            correct_predections+=1\n",
    "    print('k value : ',i+1)\n",
    "    print('Number of correctly classified instances : ',correct_predections,'Total number of instances : ',len(test_data.index))\n",
    "    print('Accuracy : ',correct_predections/len(test_data.index)*100)\n",
    "    correct_predections_list.append(correct_predections)"
   ]
  },
  {
   "cell_type": "code",
   "execution_count": null,
   "id": "49929bf5",
   "metadata": {},
   "outputs": [],
   "source": [
    "correct_predections_list\n"
   ]
  },
  {
   "cell_type": "code",
   "execution_count": null,
   "id": "91e892b3",
   "metadata": {},
   "outputs": [],
   "source": []
  },
  {
   "cell_type": "code",
   "execution_count": null,
   "id": "9afb6753",
   "metadata": {},
   "outputs": [],
   "source": []
  },
  {
   "cell_type": "code",
   "execution_count": null,
   "id": "234ebbc1",
   "metadata": {},
   "outputs": [],
   "source": []
  }
 ],
 "metadata": {
  "kernelspec": {
   "display_name": "Python 3 (ipykernel)",
   "language": "python",
   "name": "python3"
  },
  "language_info": {
   "codemirror_mode": {
    "name": "ipython",
    "version": 3
   },
   "file_extension": ".py",
   "mimetype": "text/x-python",
   "name": "python",
   "nbconvert_exporter": "python",
   "pygments_lexer": "ipython3",
   "version": "3.9.2"
  }
 },
 "nbformat": 4,
 "nbformat_minor": 5
}
