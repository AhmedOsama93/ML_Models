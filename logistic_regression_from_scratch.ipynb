{
  "cells": [
    {
      "cell_type": "code",
      "execution_count": 28,
      "metadata": {
        "id": "44AvT-Bz5sjo"
      },
      "outputs": [],
      "source": [
        "import pandas as pd\n",
        "import numpy as np\n",
        "import matplotlib.pyplot as plot\n",
        "from sklearn import linear_model\n",
        "import seaborn as sns\n",
        "import math\n",
        "from sklearn.model_selection import train_test_split\n",
        "import copy"
      ],
      "id": "44AvT-Bz5sjo"
    },
    {
      "cell_type": "code",
      "execution_count": 29,
      "metadata": {
        "id": "5KOZg3Cj5sjy"
      },
      "outputs": [],
      "source": [
        "data = pd.read_csv('customer_data.csv')"
      ],
      "id": "5KOZg3Cj5sjy"
    },
    {
      "cell_type": "code",
      "execution_count": 30,
      "metadata": {
        "colab": {
          "base_uri": "https://localhost:8080/"
        },
        "id": "xKM2wZIa5sjz",
        "outputId": "f8eb039a-5dcc-4500-c808-c1ce283aeb5e"
      },
      "outputs": [
        {
          "output_type": "stream",
          "name": "stdout",
          "text": [
            "<class 'pandas.core.frame.DataFrame'>\n",
            "RangeIndex: 400 entries, 0 to 399\n",
            "Data columns (total 3 columns):\n",
            " #   Column     Non-Null Count  Dtype\n",
            "---  ------     --------------  -----\n",
            " 0   age        400 non-null    int64\n",
            " 1   salary     400 non-null    int64\n",
            " 2   purchased  400 non-null    int64\n",
            "dtypes: int64(3)\n",
            "memory usage: 9.5 KB\n"
          ]
        }
      ],
      "source": [
        "data.info()"
      ],
      "id": "xKM2wZIa5sjz"
    },
    {
      "cell_type": "code",
      "execution_count": 31,
      "metadata": {
        "scrolled": true,
        "colab": {
          "base_uri": "https://localhost:8080/",
          "height": 206
        },
        "id": "OYSG-js95sj1",
        "outputId": "e5186247-3555-4a7c-9443-4a93301d201b"
      },
      "outputs": [
        {
          "output_type": "execute_result",
          "data": {
            "text/plain": [
              "   age  salary  purchased\n",
              "0   44   39000          0\n",
              "1   32  120000          1\n",
              "2   38   50000          0\n",
              "3   32  135000          1\n",
              "4   52   21000          1"
            ],
            "text/html": [
              "\n",
              "  <div id=\"df-ffe134bd-154c-4c49-9dd0-f3be8623a5bc\">\n",
              "    <div class=\"colab-df-container\">\n",
              "      <div>\n",
              "<style scoped>\n",
              "    .dataframe tbody tr th:only-of-type {\n",
              "        vertical-align: middle;\n",
              "    }\n",
              "\n",
              "    .dataframe tbody tr th {\n",
              "        vertical-align: top;\n",
              "    }\n",
              "\n",
              "    .dataframe thead th {\n",
              "        text-align: right;\n",
              "    }\n",
              "</style>\n",
              "<table border=\"1\" class=\"dataframe\">\n",
              "  <thead>\n",
              "    <tr style=\"text-align: right;\">\n",
              "      <th></th>\n",
              "      <th>age</th>\n",
              "      <th>salary</th>\n",
              "      <th>purchased</th>\n",
              "    </tr>\n",
              "  </thead>\n",
              "  <tbody>\n",
              "    <tr>\n",
              "      <th>0</th>\n",
              "      <td>44</td>\n",
              "      <td>39000</td>\n",
              "      <td>0</td>\n",
              "    </tr>\n",
              "    <tr>\n",
              "      <th>1</th>\n",
              "      <td>32</td>\n",
              "      <td>120000</td>\n",
              "      <td>1</td>\n",
              "    </tr>\n",
              "    <tr>\n",
              "      <th>2</th>\n",
              "      <td>38</td>\n",
              "      <td>50000</td>\n",
              "      <td>0</td>\n",
              "    </tr>\n",
              "    <tr>\n",
              "      <th>3</th>\n",
              "      <td>32</td>\n",
              "      <td>135000</td>\n",
              "      <td>1</td>\n",
              "    </tr>\n",
              "    <tr>\n",
              "      <th>4</th>\n",
              "      <td>52</td>\n",
              "      <td>21000</td>\n",
              "      <td>1</td>\n",
              "    </tr>\n",
              "  </tbody>\n",
              "</table>\n",
              "</div>\n",
              "      <button class=\"colab-df-convert\" onclick=\"convertToInteractive('df-ffe134bd-154c-4c49-9dd0-f3be8623a5bc')\"\n",
              "              title=\"Convert this dataframe to an interactive table.\"\n",
              "              style=\"display:none;\">\n",
              "        \n",
              "  <svg xmlns=\"http://www.w3.org/2000/svg\" height=\"24px\"viewBox=\"0 0 24 24\"\n",
              "       width=\"24px\">\n",
              "    <path d=\"M0 0h24v24H0V0z\" fill=\"none\"/>\n",
              "    <path d=\"M18.56 5.44l.94 2.06.94-2.06 2.06-.94-2.06-.94-.94-2.06-.94 2.06-2.06.94zm-11 1L8.5 8.5l.94-2.06 2.06-.94-2.06-.94L8.5 2.5l-.94 2.06-2.06.94zm10 10l.94 2.06.94-2.06 2.06-.94-2.06-.94-.94-2.06-.94 2.06-2.06.94z\"/><path d=\"M17.41 7.96l-1.37-1.37c-.4-.4-.92-.59-1.43-.59-.52 0-1.04.2-1.43.59L10.3 9.45l-7.72 7.72c-.78.78-.78 2.05 0 2.83L4 21.41c.39.39.9.59 1.41.59.51 0 1.02-.2 1.41-.59l7.78-7.78 2.81-2.81c.8-.78.8-2.07 0-2.86zM5.41 20L4 18.59l7.72-7.72 1.47 1.35L5.41 20z\"/>\n",
              "  </svg>\n",
              "      </button>\n",
              "      \n",
              "  <style>\n",
              "    .colab-df-container {\n",
              "      display:flex;\n",
              "      flex-wrap:wrap;\n",
              "      gap: 12px;\n",
              "    }\n",
              "\n",
              "    .colab-df-convert {\n",
              "      background-color: #E8F0FE;\n",
              "      border: none;\n",
              "      border-radius: 50%;\n",
              "      cursor: pointer;\n",
              "      display: none;\n",
              "      fill: #1967D2;\n",
              "      height: 32px;\n",
              "      padding: 0 0 0 0;\n",
              "      width: 32px;\n",
              "    }\n",
              "\n",
              "    .colab-df-convert:hover {\n",
              "      background-color: #E2EBFA;\n",
              "      box-shadow: 0px 1px 2px rgba(60, 64, 67, 0.3), 0px 1px 3px 1px rgba(60, 64, 67, 0.15);\n",
              "      fill: #174EA6;\n",
              "    }\n",
              "\n",
              "    [theme=dark] .colab-df-convert {\n",
              "      background-color: #3B4455;\n",
              "      fill: #D2E3FC;\n",
              "    }\n",
              "\n",
              "    [theme=dark] .colab-df-convert:hover {\n",
              "      background-color: #434B5C;\n",
              "      box-shadow: 0px 1px 3px 1px rgba(0, 0, 0, 0.15);\n",
              "      filter: drop-shadow(0px 1px 2px rgba(0, 0, 0, 0.3));\n",
              "      fill: #FFFFFF;\n",
              "    }\n",
              "  </style>\n",
              "\n",
              "      <script>\n",
              "        const buttonEl =\n",
              "          document.querySelector('#df-ffe134bd-154c-4c49-9dd0-f3be8623a5bc button.colab-df-convert');\n",
              "        buttonEl.style.display =\n",
              "          google.colab.kernel.accessAllowed ? 'block' : 'none';\n",
              "\n",
              "        async function convertToInteractive(key) {\n",
              "          const element = document.querySelector('#df-ffe134bd-154c-4c49-9dd0-f3be8623a5bc');\n",
              "          const dataTable =\n",
              "            await google.colab.kernel.invokeFunction('convertToInteractive',\n",
              "                                                     [key], {});\n",
              "          if (!dataTable) return;\n",
              "\n",
              "          const docLinkHtml = 'Like what you see? Visit the ' +\n",
              "            '<a target=\"_blank\" href=https://colab.research.google.com/notebooks/data_table.ipynb>data table notebook</a>'\n",
              "            + ' to learn more about interactive tables.';\n",
              "          element.innerHTML = '';\n",
              "          dataTable['output_type'] = 'display_data';\n",
              "          await google.colab.output.renderOutput(dataTable, element);\n",
              "          const docLink = document.createElement('div');\n",
              "          docLink.innerHTML = docLinkHtml;\n",
              "          element.appendChild(docLink);\n",
              "        }\n",
              "      </script>\n",
              "    </div>\n",
              "  </div>\n",
              "  "
            ]
          },
          "metadata": {},
          "execution_count": 31
        }
      ],
      "source": [
        "data.head()"
      ],
      "id": "OYSG-js95sj1"
    },
    {
      "cell_type": "code",
      "source": [
        "data = data.sample(frac=1)"
      ],
      "metadata": {
        "id": "pbzQ9eYLOnKs"
      },
      "id": "pbzQ9eYLOnKs",
      "execution_count": 32,
      "outputs": []
    },
    {
      "cell_type": "code",
      "source": [
        "data.head()"
      ],
      "metadata": {
        "colab": {
          "base_uri": "https://localhost:8080/",
          "height": 206
        },
        "id": "KOk2f1rgOxOi",
        "outputId": "37531937-fecb-409a-c4ae-a0af154ba66f"
      },
      "id": "KOk2f1rgOxOi",
      "execution_count": 33,
      "outputs": [
        {
          "output_type": "execute_result",
          "data": {
            "text/plain": [
              "     age  salary  purchased\n",
              "249   29   43000          0\n",
              "97    59   42000          0\n",
              "56    57   74000          1\n",
              "84    41   80000          0\n",
              "206   29   83000          0"
            ],
            "text/html": [
              "\n",
              "  <div id=\"df-569aed10-0aeb-4b4f-9847-86c45d8584a4\">\n",
              "    <div class=\"colab-df-container\">\n",
              "      <div>\n",
              "<style scoped>\n",
              "    .dataframe tbody tr th:only-of-type {\n",
              "        vertical-align: middle;\n",
              "    }\n",
              "\n",
              "    .dataframe tbody tr th {\n",
              "        vertical-align: top;\n",
              "    }\n",
              "\n",
              "    .dataframe thead th {\n",
              "        text-align: right;\n",
              "    }\n",
              "</style>\n",
              "<table border=\"1\" class=\"dataframe\">\n",
              "  <thead>\n",
              "    <tr style=\"text-align: right;\">\n",
              "      <th></th>\n",
              "      <th>age</th>\n",
              "      <th>salary</th>\n",
              "      <th>purchased</th>\n",
              "    </tr>\n",
              "  </thead>\n",
              "  <tbody>\n",
              "    <tr>\n",
              "      <th>249</th>\n",
              "      <td>29</td>\n",
              "      <td>43000</td>\n",
              "      <td>0</td>\n",
              "    </tr>\n",
              "    <tr>\n",
              "      <th>97</th>\n",
              "      <td>59</td>\n",
              "      <td>42000</td>\n",
              "      <td>0</td>\n",
              "    </tr>\n",
              "    <tr>\n",
              "      <th>56</th>\n",
              "      <td>57</td>\n",
              "      <td>74000</td>\n",
              "      <td>1</td>\n",
              "    </tr>\n",
              "    <tr>\n",
              "      <th>84</th>\n",
              "      <td>41</td>\n",
              "      <td>80000</td>\n",
              "      <td>0</td>\n",
              "    </tr>\n",
              "    <tr>\n",
              "      <th>206</th>\n",
              "      <td>29</td>\n",
              "      <td>83000</td>\n",
              "      <td>0</td>\n",
              "    </tr>\n",
              "  </tbody>\n",
              "</table>\n",
              "</div>\n",
              "      <button class=\"colab-df-convert\" onclick=\"convertToInteractive('df-569aed10-0aeb-4b4f-9847-86c45d8584a4')\"\n",
              "              title=\"Convert this dataframe to an interactive table.\"\n",
              "              style=\"display:none;\">\n",
              "        \n",
              "  <svg xmlns=\"http://www.w3.org/2000/svg\" height=\"24px\"viewBox=\"0 0 24 24\"\n",
              "       width=\"24px\">\n",
              "    <path d=\"M0 0h24v24H0V0z\" fill=\"none\"/>\n",
              "    <path d=\"M18.56 5.44l.94 2.06.94-2.06 2.06-.94-2.06-.94-.94-2.06-.94 2.06-2.06.94zm-11 1L8.5 8.5l.94-2.06 2.06-.94-2.06-.94L8.5 2.5l-.94 2.06-2.06.94zm10 10l.94 2.06.94-2.06 2.06-.94-2.06-.94-.94-2.06-.94 2.06-2.06.94z\"/><path d=\"M17.41 7.96l-1.37-1.37c-.4-.4-.92-.59-1.43-.59-.52 0-1.04.2-1.43.59L10.3 9.45l-7.72 7.72c-.78.78-.78 2.05 0 2.83L4 21.41c.39.39.9.59 1.41.59.51 0 1.02-.2 1.41-.59l7.78-7.78 2.81-2.81c.8-.78.8-2.07 0-2.86zM5.41 20L4 18.59l7.72-7.72 1.47 1.35L5.41 20z\"/>\n",
              "  </svg>\n",
              "      </button>\n",
              "      \n",
              "  <style>\n",
              "    .colab-df-container {\n",
              "      display:flex;\n",
              "      flex-wrap:wrap;\n",
              "      gap: 12px;\n",
              "    }\n",
              "\n",
              "    .colab-df-convert {\n",
              "      background-color: #E8F0FE;\n",
              "      border: none;\n",
              "      border-radius: 50%;\n",
              "      cursor: pointer;\n",
              "      display: none;\n",
              "      fill: #1967D2;\n",
              "      height: 32px;\n",
              "      padding: 0 0 0 0;\n",
              "      width: 32px;\n",
              "    }\n",
              "\n",
              "    .colab-df-convert:hover {\n",
              "      background-color: #E2EBFA;\n",
              "      box-shadow: 0px 1px 2px rgba(60, 64, 67, 0.3), 0px 1px 3px 1px rgba(60, 64, 67, 0.15);\n",
              "      fill: #174EA6;\n",
              "    }\n",
              "\n",
              "    [theme=dark] .colab-df-convert {\n",
              "      background-color: #3B4455;\n",
              "      fill: #D2E3FC;\n",
              "    }\n",
              "\n",
              "    [theme=dark] .colab-df-convert:hover {\n",
              "      background-color: #434B5C;\n",
              "      box-shadow: 0px 1px 3px 1px rgba(0, 0, 0, 0.15);\n",
              "      filter: drop-shadow(0px 1px 2px rgba(0, 0, 0, 0.3));\n",
              "      fill: #FFFFFF;\n",
              "    }\n",
              "  </style>\n",
              "\n",
              "      <script>\n",
              "        const buttonEl =\n",
              "          document.querySelector('#df-569aed10-0aeb-4b4f-9847-86c45d8584a4 button.colab-df-convert');\n",
              "        buttonEl.style.display =\n",
              "          google.colab.kernel.accessAllowed ? 'block' : 'none';\n",
              "\n",
              "        async function convertToInteractive(key) {\n",
              "          const element = document.querySelector('#df-569aed10-0aeb-4b4f-9847-86c45d8584a4');\n",
              "          const dataTable =\n",
              "            await google.colab.kernel.invokeFunction('convertToInteractive',\n",
              "                                                     [key], {});\n",
              "          if (!dataTable) return;\n",
              "\n",
              "          const docLinkHtml = 'Like what you see? Visit the ' +\n",
              "            '<a target=\"_blank\" href=https://colab.research.google.com/notebooks/data_table.ipynb>data table notebook</a>'\n",
              "            + ' to learn more about interactive tables.';\n",
              "          element.innerHTML = '';\n",
              "          dataTable['output_type'] = 'display_data';\n",
              "          await google.colab.output.renderOutput(dataTable, element);\n",
              "          const docLink = document.createElement('div');\n",
              "          docLink.innerHTML = docLinkHtml;\n",
              "          element.appendChild(docLink);\n",
              "        }\n",
              "      </script>\n",
              "    </div>\n",
              "  </div>\n",
              "  "
            ]
          },
          "metadata": {},
          "execution_count": 33
        }
      ]
    },
    {
      "cell_type": "code",
      "execution_count": 34,
      "metadata": {
        "colab": {
          "base_uri": "https://localhost:8080/",
          "height": 803
        },
        "id": "dCDWE9lY5sj2",
        "outputId": "3b990e19-a92c-4336-813a-968be1f9d1d7"
      },
      "outputs": [
        {
          "output_type": "display_data",
          "data": {
            "text/plain": [
              "<Figure size 432x288 with 1 Axes>"
            ],
            "image/png": "[encoded data removed]"
          },
          "metadata": {
            "needs_background": "light"
          }
        },
        {
          "output_type": "display_data",
          "data": {
            "text/plain": [
              "<Figure size 432x288 with 1 Axes>"
            ],
            "image/png": "[encoded data removed]"
          },
          "metadata": {
            "needs_background": "light"
          }
        },
        {
          "output_type": "display_data",
          "data": {
            "text/plain": [
              "<Figure size 432x288 with 1 Axes>"
            ],
            "image/png": "[encoded data removed]"
          },
          "metadata": {
            "needs_background": "light"
          }
        }
      ],
      "source": [
        "getColor = lambda x: 'red' if x == 0 else 'blue'\n",
        "color = list(map(getColor, data['purchased']))\n",
        "\n",
        "data.plot(kind='scatter', x='age', y='salary', c=color)\n",
        "plot.show()\n",
        "\n",
        "data.plot(kind='scatter', x='age', y='purchased')\n",
        "plot.show()\n",
        "\n",
        "data.plot(kind='scatter', x='salary', y='purchased')\n",
        "plot.show()"
      ],
      "id": "dCDWE9lY5sj2"
    },
    {
      "cell_type": "code",
      "execution_count": 35,
      "metadata": {
        "colab": {
          "base_uri": "https://localhost:8080/",
          "height": 35
        },
        "id": "hJWPT4d95sj3",
        "outputId": "aed1dbdc-0284-4f80-d068-0da61ec099ee"
      },
      "outputs": [
        {
          "output_type": "execute_result",
          "data": {
            "text/plain": [
              "'x_train = x[0:320]\\ny_train = y[0:320]\\nx_test = x[320:]\\ny_test = y[320:]'"
            ],
            "application/vnd.google.colaboratory.intrinsic+json": {
              "type": "string"
            }
          },
          "metadata": {},
          "execution_count": 35
        }
      ],
      "source": [
        "x = data.drop(columns = ['purchased']).to_numpy().reshape((-1,2))\n",
        "y = data['purchased'].to_numpy()\n",
        "\n",
        "x_train, x_test, y_train, y_test = train_test_split(x, y)\n",
        "\n",
        "'''x_train = x[0:320]\n",
        "y_train = y[0:320]\n",
        "x_test = x[320:]\n",
        "y_test = y[320:]'''"
      ],
      "id": "hJWPT4d95sj3"
    },
    {
      "cell_type": "code",
      "execution_count": 36,
      "metadata": {
        "colab": {
          "base_uri": "https://localhost:8080/"
        },
        "id": "cloSeeUe5sj5",
        "outputId": "0c649aeb-e964-41ff-83f0-3f1287d7b4bb"
      },
      "outputs": [
        {
          "output_type": "execute_result",
          "data": {
            "text/plain": [
              "(300, 2)"
            ]
          },
          "metadata": {},
          "execution_count": 36
        }
      ],
      "source": [
        "x_train.shape"
      ],
      "id": "cloSeeUe5sj5"
    },
    {
      "cell_type": "code",
      "execution_count": 37,
      "metadata": {
        "colab": {
          "base_uri": "https://localhost:8080/"
        },
        "id": "BDerm2jU5sj6",
        "outputId": "6d85f253-c6d0-49cd-8f8d-fb5d9696e1a2"
      },
      "outputs": [
        {
          "output_type": "execute_result",
          "data": {
            "text/plain": [
              "(100, 2)"
            ]
          },
          "metadata": {},
          "execution_count": 37
        }
      ],
      "source": [
        "x_test.shape"
      ],
      "id": "BDerm2jU5sj6"
    },
    {
      "cell_type": "code",
      "execution_count": 38,
      "metadata": {
        "id": "Kt3AZVl55sj8"
      },
      "outputs": [],
      "source": [
        "def zscore_normalize_features(X):\n",
        "    \"\"\"\n",
        "    computes  X, zcore normalized by column\n",
        "    \n",
        "    Args:\n",
        "      X (ndarray (m,n))     : input data, m examples, n features\n",
        "      \n",
        "    Returns:\n",
        "      X_norm (ndarray (m,n)): input normalized by column\n",
        "      mu (ndarray (n,))     : mean of each feature\n",
        "      sigma (ndarray (n,))  : standard deviation of each feature\n",
        "    \"\"\"\n",
        "    # find the mean of each column/feature\n",
        "    mu     = np.mean(X, axis=0)                 # mu will have shape (n,)\n",
        "    # find the standard deviation of each column/feature\n",
        "    sigma  = np.std(X, axis=0)                  # sigma will have shape (n,)\n",
        "    # element-wise, subtract mu for that column from each example, divide by std for that column\n",
        "    X_norm = (X - mu) / sigma      \n",
        "\n",
        "    return (X_norm, mu, sigma)"
      ],
      "id": "Kt3AZVl55sj8"
    },
    {
      "cell_type": "code",
      "source": [
        "fig,ax=plot.subplots(1, 1, figsize=(12, 3))\n",
        "ax.scatter(x_train[:,0], x_train[:,1])\n",
        "ax.set_xlabel(\"age\"); ax.set_ylabel(\"salary\");\n",
        "ax.set_title(r\"original\")\n",
        "plot.axis('equal')\n",
        "plot.show()"
      ],
      "metadata": {
        "colab": {
          "base_uri": "https://localhost:8080/",
          "height": 241
        },
        "id": "xu-XCJRO69TD",
        "outputId": "c0bb0467-338e-4da4-99cf-316e9fa0cb31"
      },
      "id": "xu-XCJRO69TD",
      "execution_count": 39,
      "outputs": [
        {
          "output_type": "display_data",
          "data": {
            "text/plain": [
              "<Figure size 864x216 with 1 Axes>"
            ],
            "image/png": "[encoded data removed]"
          },
          "metadata": {
            "needs_background": "light"
          }
        }
      ]
    },
    {
      "cell_type": "code",
      "source": [
        "plot.scatter(x=x_train[:,0], y=x_train[:,1])\n",
        "plot.show()"
      ],
      "metadata": {
        "colab": {
          "base_uri": "https://localhost:8080/",
          "height": 265
        },
        "id": "dANptkQv8x9q",
        "outputId": "0c8542cf-39cf-4629-e1e0-96905000ccb7"
      },
      "id": "dANptkQv8x9q",
      "execution_count": 40,
      "outputs": [
        {
          "output_type": "display_data",
          "data": {
            "text/plain": [
              "<Figure size 432x288 with 1 Axes>"
            ],
            "image/png": "[encoded data removed]"
          },
          "metadata": {
            "needs_background": "light"
          }
        }
      ]
    },
    {
      "cell_type": "code",
      "execution_count": 41,
      "metadata": {
        "id": "z0Ahtz9t5sj-"
      },
      "outputs": [],
      "source": [
        "#normalize data using z-score\n",
        "x_norm, X_mu, X_sigma = zscore_normalize_features(x_train)"
      ],
      "id": "z0Ahtz9t5sj-"
    },
    {
      "cell_type": "code",
      "source": [
        "plot.scatter(x=x_norm[:,0], y=x_norm[:,1])\n",
        "plot.show()"
      ],
      "metadata": {
        "colab": {
          "base_uri": "https://localhost:8080/",
          "height": 268
        },
        "id": "t2ksRQVP9Oc8",
        "outputId": "a9846556-dce8-432f-9f71-72396b85904a"
      },
      "id": "t2ksRQVP9Oc8",
      "execution_count": 42,
      "outputs": [
        {
          "output_type": "display_data",
          "data": {
            "text/plain": [
              "<Figure size 432x288 with 1 Axes>"
            ],
            "image/png": "[encoded data removed]"
          },
          "metadata": {
            "needs_background": "light"
          }
        }
      ]
    },
    {
      "cell_type": "code",
      "execution_count": 43,
      "metadata": {
        "id": "IK35cZBA5sj_"
      },
      "outputs": [],
      "source": [
        "# UNQ_C1\n",
        "# GRADED FUNCTION: sigmoid\n",
        "\n",
        "def sigmoid(z):\n",
        "    return 1/(1+np.exp(-z))"
      ],
      "id": "IK35cZBA5sj_"
    },
    {
      "cell_type": "code",
      "execution_count": 44,
      "metadata": {
        "colab": {
          "base_uri": "https://localhost:8080/"
        },
        "id": "dEkNwVyP5skB",
        "outputId": "cf30aba9-ad4b-4052-e622-e86f557f31da"
      },
      "outputs": [
        {
          "output_type": "execute_result",
          "data": {
            "text/plain": [
              "0.5"
            ]
          },
          "metadata": {},
          "execution_count": 44
        }
      ],
      "source": [
        "sigmoid(0)"
      ],
      "id": "dEkNwVyP5skB"
    },
    {
      "cell_type": "code",
      "execution_count": 45,
      "metadata": {
        "id": "R2O_1sn65skC"
      },
      "outputs": [],
      "source": [
        "def compute_cost(X, y, w, b, lambda_= 1): # why lambda_ arg??\n",
        "    m, n = X.shape\n",
        "    cost = 0.0\n",
        "    \n",
        "    for i in range(m):\n",
        "        z = np.dot(X[i],w) + b\n",
        "        f_wb = sigmoid(z)\n",
        "        cost += -y[i] * np.log(f_wb) - (1-y[i])*np.log(1-f_wb) # we may get nan beacuase of log(1-1) = inf so we will normalize data first\n",
        "    total_cost = cost/m\n",
        "    return total_cost"
      ],
      "id": "R2O_1sn65skC"
    },
    {
      "cell_type": "code",
      "execution_count": 46,
      "metadata": {
        "colab": {
          "base_uri": "https://localhost:8080/"
        },
        "id": "NxDyj9um5skD",
        "outputId": "cd20806f-ff31-4fd0-f275-89ead15bb45a"
      },
      "outputs": [
        {
          "output_type": "stream",
          "name": "stdout",
          "text": [
            "Cost at initial w (zeros): 0.693\n"
          ]
        }
      ],
      "source": [
        "m, n = x_train.shape\n",
        "\n",
        "# Compute and display cost with w initialized to zeroes\n",
        "initial_w = np.zeros(n)\n",
        "initial_b = 0.\n",
        "cost = compute_cost(x_train, y_train, initial_w, initial_b)\n",
        "print('Cost at initial w (zeros): {:.3f}'.format(cost))"
      ],
      "id": "NxDyj9um5skD"
    },
    {
      "cell_type": "code",
      "execution_count": 47,
      "metadata": {
        "colab": {
          "base_uri": "https://localhost:8080/"
        },
        "id": "WS6a0l9b5skE",
        "outputId": "ce0bc8ff-06d9-44d6-a051-f2e18d07c1f3"
      },
      "outputs": [
        {
          "output_type": "stream",
          "name": "stdout",
          "text": [
            "Cost at test w,b: nan\n"
          ]
        },
        {
          "output_type": "stream",
          "name": "stderr",
          "text": [
            "<ipython-input-45-81ccabac3d52>:8: RuntimeWarning: divide by zero encountered in log\n",
            "  cost += -y[i] * np.log(f_wb) - (1-y[i])*np.log(1-f_wb) # we may get nan beacuase of log(1-1) = inf so we will normalize data first\n",
            "<ipython-input-45-81ccabac3d52>:8: RuntimeWarning: invalid value encountered in multiply\n",
            "  cost += -y[i] * np.log(f_wb) - (1-y[i])*np.log(1-f_wb) # we may get nan beacuase of log(1-1) = inf so we will normalize data first\n"
          ]
        }
      ],
      "source": [
        "w = np.array([0.2, 0.2])\n",
        "b = 0.5\n",
        "\n",
        "\n",
        "cost = compute_cost(x_train , y_train, w, b)\n",
        "\n",
        "print('Cost at test w,b: {:.3f}'.format(cost))"
      ],
      "id": "WS6a0l9b5skE"
    },
    {
      "cell_type": "code",
      "execution_count": 48,
      "metadata": {
        "id": "QUqgNuQu5skF"
      },
      "outputs": [],
      "source": [
        "def compute_gradient(X, y, w, b, lambda_=None): \n",
        "    m, n = X.shape\n",
        "    dj_dw = np.zeros(w.shape)\n",
        "    dj_db = 0.\n",
        "    for i in range(m):\n",
        "        f_wb_i = sigmoid(np.dot(X[i],w) + b)          \n",
        "        err_i  = f_wb_i  - y[i]                       \n",
        "        for j in range(n):\n",
        "            dj_dw[j] = dj_dw[j] + err_i * X[i,j]      \n",
        "        dj_db = dj_db + err_i\n",
        "    dj_dw = dj_dw/m                                   \n",
        "    dj_db = dj_db/m                                   \n",
        "        \n",
        "    return dj_db, dj_dw"
      ],
      "id": "QUqgNuQu5skF"
    },
    {
      "cell_type": "code",
      "execution_count": 49,
      "metadata": {
        "colab": {
          "base_uri": "https://localhost:8080/",
          "height": 174
        },
        "id": "2aLIwdR65skF",
        "outputId": "6d5548d5-5baa-4b39-e75e-c8f8df487bb0"
      },
      "outputs": [
        {
          "output_type": "execute_result",
          "data": {
            "text/plain": [
              "'def gradient_descent(X, y, w_in, b_in, cost_function, gradient_function, alpha, num_iters, lambda_): \\n    # number of training examples\\n    m = len(X)\\n    # An array to store cost J and w\\'s at each iteration primarily for graphing later\\n    J_history = []\\n    w_history = []\\n    for i in range(num_iters):\\n\\n        # Calculate the gradient and update the parameters\\n        dj_db, dj_dw = gradient_function(X, y, w_in, b_in, lambda_)   \\n\\n        # Update Parameters using w, b, alpha and gradient\\n        w_in = w_in - alpha * dj_dw               \\n        b_in = b_in - alpha * dj_db              \\n       \\n        # Save cost J at each iteration\\n        if i<100000:      # prevent resource exhaustion \\n            cost =  cost_function(X, y, w_in, b_in, lambda_)\\n            J_history.append(cost)\\n\\n        # Print cost every at intervals 10 times or as many iterations if < 10\\n        if i% math.ceil(num_iters/10) == 0 or i == (num_iters-1):\\n            w_history.apend(w_in)\\n            print(f\"Iteration {i:4}: Cost {float(J_history[-1]):8.2f}   \")\\n        \\n    return w_in, b_in, J_history, w_history #return w and J,w history for graphing'"
            ],
            "application/vnd.google.colaboratory.intrinsic+json": {
              "type": "string"
            }
          },
          "metadata": {},
          "execution_count": 49
        }
      ],
      "source": [
        "'''def gradient_descent(X, y, w_in, b_in, cost_function, gradient_function, alpha, num_iters, lambda_): \n",
        "    # number of training examples\n",
        "    m = len(X)\n",
        "    # An array to store cost J and w's at each iteration primarily for graphing later\n",
        "    J_history = []\n",
        "    w_history = []\n",
        "    for i in range(num_iters):\n",
        "\n",
        "        # Calculate the gradient and update the parameters\n",
        "        dj_db, dj_dw = gradient_function(X, y, w_in, b_in, lambda_)   \n",
        "\n",
        "        # Update Parameters using w, b, alpha and gradient\n",
        "        w_in = w_in - alpha * dj_dw               \n",
        "        b_in = b_in - alpha * dj_db              \n",
        "       \n",
        "        # Save cost J at each iteration\n",
        "        if i<100000:      # prevent resource exhaustion \n",
        "            cost =  cost_function(X, y, w_in, b_in, lambda_)\n",
        "            J_history.append(cost)\n",
        "\n",
        "        # Print cost every at intervals 10 times or as many iterations if < 10\n",
        "        if i% math.ceil(num_iters/10) == 0 or i == (num_iters-1):\n",
        "            w_history.apend(w_in)\n",
        "            print(f\"Iteration {i:4}: Cost {float(J_history[-1]):8.2f}   \")\n",
        "        \n",
        "    return w_in, b_in, J_history, w_history #return w and J,w history for graphing'''"
      ],
      "id": "2aLIwdR65skF"
    },
    {
      "cell_type": "code",
      "execution_count": 50,
      "metadata": {
        "id": "bQKY6D5X5skH"
      },
      "outputs": [],
      "source": [
        "def gradient_descent(X, y, w_in, b_in, alpha, num_iters): \n",
        "    \"\"\"\n",
        "    Performs batch gradient descent\n",
        "    \n",
        "    Args:\n",
        "      X (ndarray (m,n)   : Data, m examples with n features\n",
        "      y (ndarray (m,))   : target values\n",
        "      w_in (ndarray (n,)): Initial values of model parameters  \n",
        "      b_in (scalar)      : Initial values of model parameter\n",
        "      alpha (float)      : Learning rate\n",
        "      num_iters (scalar) : number of iterations to run gradient descent\n",
        "      \n",
        "    Returns:\n",
        "      w (ndarray (n,))   : Updated values of parameters\n",
        "      b (scalar)         : Updated value of parameter \n",
        "    \"\"\"\n",
        "    # An array to store cost J and w's at each iteration primarily for graphing later\n",
        "    J_history = []\n",
        "    w = copy.deepcopy(w_in)  #avoid modifying global w within function\n",
        "    b = b_in\n",
        "    \n",
        "    for i in range(num_iters):\n",
        "        # Calculate the gradient and update the parameters\n",
        "        dj_db, dj_dw = compute_gradient(X, y, w, b)   \n",
        "\n",
        "        # Update Parameters using w, b, alpha and gradient\n",
        "        w = w - alpha * dj_dw               \n",
        "        b = b - alpha * dj_db               \n",
        "      \n",
        "        # Save cost J at each iteration\n",
        "        if i<100000:      # prevent resource exhaustion \n",
        "            J_history.append( compute_cost(X, y, w, b) )\n",
        "\n",
        "        # Print cost every at intervals 10 times or as many iterations if < 10\n",
        "        if i% math.ceil(num_iters / 10) == 0:\n",
        "            print(f\"Iteration {i:4d}: Cost {J_history[-1]}   \")\n",
        "        \n",
        "    return w, b, J_history         #return final w,b and J history for graphing"
      ],
      "id": "bQKY6D5X5skH"
    },
    {
      "cell_type": "code",
      "execution_count": 51,
      "metadata": {
        "colab": {
          "base_uri": "https://localhost:8080/"
        },
        "id": "qsWYollV5skI",
        "outputId": "cc16c536-031a-4ebc-fb1b-7805e750a0c2"
      },
      "outputs": [
        {
          "output_type": "stream",
          "name": "stdout",
          "text": [
            "Iteration    0: Cost 0.6795562536088274   \n",
            "Iteration 1000: Cost 0.34652366372233917   \n",
            "Iteration 2000: Cost 0.34639263694679345   \n",
            "Iteration 3000: Cost 0.3463916236886853   \n",
            "Iteration 4000: Cost 0.3463916151020455   \n",
            "Iteration 5000: Cost 0.34639161502868876   \n",
            "Iteration 6000: Cost 0.3463916150280617   \n",
            "Iteration 7000: Cost 0.346391615028056   \n",
            "Iteration 8000: Cost 0.3463916150280564   \n",
            "Iteration 9000: Cost 0.3463916150280564   \n",
            "\n",
            "updated parameters: w:[2.50134926 1.25698595], b:-1.212166821861575\n"
          ]
        }
      ],
      "source": [
        "w_tmp  = np.zeros_like(x_norm[0])\n",
        "b_tmp  = 0.\n",
        "alph = 0.1\n",
        "iters = 10000\n",
        "lambda_ = 1\n",
        "\n",
        "w_out, b_out, J_history = gradient_descent(x_norm, y_train, w_tmp, b_tmp, alph, iters) \n",
        "print(f\"\\nupdated parameters: w:{w_out}, b:{b_out}\")"
      ],
      "id": "qsWYollV5skI"
    },
    {
      "cell_type": "code",
      "execution_count": 52,
      "metadata": {
        "colab": {
          "base_uri": "https://localhost:8080/"
        },
        "id": "0-LoDV5O5skJ",
        "outputId": "6407dcf0-ba5c-4af6-d9a0-e01b7b9fecdc"
      },
      "outputs": [
        {
          "output_type": "stream",
          "name": "stdout",
          "text": [
            "Iteration    0: Cost 0.6917708384309311   \n",
            "Iteration 1000: Cost 0.38867270876621457   \n",
            "Iteration 2000: Cost 0.3616093021602392   \n",
            "Iteration 3000: Cost 0.35337833957851633   \n",
            "Iteration 4000: Cost 0.3499649861131173   \n",
            "Iteration 5000: Cost 0.3483327683832806   \n",
            "Iteration 6000: Cost 0.3474867131759528   \n",
            "Iteration 7000: Cost 0.3470252854565019   \n",
            "Iteration 8000: Cost 0.3467648681688151   \n",
            "Iteration 9000: Cost 0.34661432125266645   \n",
            "\n",
            "updated parameters: w:[2.413336   1.21331011], b:-1.1757814384131227\n"
          ]
        }
      ],
      "source": [
        "w_tmp  = np.zeros_like(x_norm[0])\n",
        "b_tmp  = 0.\n",
        "alph = 0.01\n",
        "iters = 10000\n",
        "lambda_ = 1\n",
        "\n",
        "w_out, b_out, J_history = gradient_descent(x_norm, y_train, w_tmp, b_tmp, alph, iters) \n",
        "print(f\"\\nupdated parameters: w:{w_out}, b:{b_out}\")"
      ],
      "id": "0-LoDV5O5skJ"
    },
    {
      "cell_type": "code",
      "execution_count": 53,
      "metadata": {
        "colab": {
          "base_uri": "https://localhost:8080/",
          "height": 313
        },
        "id": "Vw_TQ-cP5skK",
        "outputId": "77d03f9b-e6d9-4c2b-a36e-efb41463a78e"
      },
      "outputs": [
        {
          "output_type": "display_data",
          "data": {
            "text/plain": [
              "<Figure size 864x288 with 1 Axes>"
            ],
            "image/png": "[encoded data removed]"
          },
          "metadata": {
            "needs_background": "light"
          }
        }
      ],
      "source": [
        "fig, ax1 = plot.subplots(1, 1, constrained_layout=True, figsize=(12,4))\n",
        "ax1.plot(J_history)\n",
        "plot.show()"
      ],
      "id": "Vw_TQ-cP5skK"
    },
    {
      "cell_type": "code",
      "source": [
        "w_tmp  = np.zeros_like(x_norm[0])\n",
        "b_tmp  = 0.\n",
        "alph = 0.001\n",
        "iters = 10000\n",
        "\n",
        "\n",
        "w_out, b_out, J_history = gradient_descent(x_norm, y_train, w_tmp, b_tmp, alph, iters) \n",
        "print(f\"\\nupdated parameters: w:{w_out}, b:{b_out}\")"
      ],
      "metadata": {
        "colab": {
          "base_uri": "https://localhost:8080/"
        },
        "id": "yq1bK4Of_1Dz",
        "outputId": "3f9a9973-92d0-4fdb-fc10-9b79d7586fd9"
      },
      "id": "yq1bK4Of_1Dz",
      "execution_count": 54,
      "outputs": [
        {
          "output_type": "stream",
          "name": "stdout",
          "text": [
            "Iteration    0: Cost 0.6930093738222435   \n",
            "Iteration 1000: Cost 0.5869905608866113   \n",
            "Iteration 2000: Cost 0.5237523596965173   \n",
            "Iteration 3000: Cost 0.48344700454014194   \n",
            "Iteration 4000: Cost 0.45607054019621085   \n",
            "Iteration 5000: Cost 0.43648526650076225   \n",
            "Iteration 6000: Cost 0.4218895216040077   \n",
            "Iteration 7000: Cost 0.41065586217999284   \n",
            "Iteration 8000: Cost 0.40178417307431535   \n",
            "Iteration 9000: Cost 0.3946296745294029   \n",
            "\n",
            "updated parameters: w:[1.25967119 0.65931167], b:-0.6484224627654813\n"
          ]
        }
      ]
    },
    {
      "cell_type": "code",
      "source": [
        "w_tmp  = np.zeros_like(x_norm[0])\n",
        "b_tmp  = 0.\n",
        "alph = 0.0001\n",
        "iters = 10000\n",
        "\n",
        "\n",
        "w_out, b_out, J_history = gradient_descent(x_norm, y_train, w_tmp, b_tmp, alph, iters) \n",
        "print(f\"\\nupdated parameters: w:{w_out}, b:{b_out}\")"
      ],
      "metadata": {
        "colab": {
          "base_uri": "https://localhost:8080/"
        },
        "id": "ZZgArQGDAO8f",
        "outputId": "724931eb-bbc9-4b7c-bfcc-d8e3f7b3fe86"
      },
      "id": "ZZgArQGDAO8f",
      "execution_count": 55,
      "outputs": [
        {
          "output_type": "stream",
          "name": "stdout",
          "text": [
            "Iteration    0: Cost 0.6931333981609246   \n",
            "Iteration 1000: Cost 0.6797276517048996   \n",
            "Iteration 2000: Cost 0.6670463768057692   \n",
            "Iteration 3000: Cost 0.6550484209079989   \n",
            "Iteration 4000: Cost 0.6436940668031819   \n",
            "Iteration 5000: Cost 0.6329452000189536   \n",
            "Iteration 6000: Cost 0.6227654248562479   \n",
            "Iteration 7000: Cost 0.6131201358707529   \n",
            "Iteration 8000: Cost 0.6039765516406337   \n",
            "Iteration 9000: Cost 0.5953037173869912   \n",
            "\n",
            "updated parameters: w:[0.25817051 0.14791137], b:-0.12995231152539224\n"
          ]
        }
      ]
    },
    {
      "cell_type": "code",
      "execution_count": 56,
      "metadata": {
        "id": "4THMCHLj5skK"
      },
      "outputs": [],
      "source": [
        "\n",
        "def predict(X, w, b): \n",
        "   \n",
        "    # number of training examples\n",
        "    m, n = X.shape   \n",
        "    p = np.zeros(m)\n",
        "   \n",
        "    ### START CODE HERE ### \n",
        "    # Loop over each example\n",
        "    for i in range(m):   \n",
        "        z_wb = np.dot(X[i],w) \n",
        "        # Loop over each feature\n",
        "        '''for j in range(n): \n",
        "            # Add the corresponding term to z_wb\n",
        "            z_wb += 0'''\n",
        "        \n",
        "        # Add bias term \n",
        "        z_wb += b\n",
        "        \n",
        "        # Calculate the prediction for this example\n",
        "        f_wb = sigmoid(z_wb)\n",
        "\n",
        "        # Apply the threshold\n",
        "        p[i] = 1 if f_wb>0.5 else 0\n",
        "        \n",
        "    ### END CODE HERE ### \n",
        "    return p"
      ],
      "id": "4THMCHLj5skK"
    },
    {
      "cell_type": "code",
      "execution_count": 57,
      "metadata": {
        "id": "giELzi6X5skL"
      },
      "outputs": [],
      "source": [
        "\n",
        "def accurecy(yPred, yTrue):\n",
        "  return 1- np.sum(np.abs(yPred-yTrue))/len(yPred)"
      ],
      "id": "giELzi6X5skL"
    },
    {
      "cell_type": "code",
      "source": [],
      "metadata": {
        "id": "TIAvkZSK-0-w"
      },
      "id": "TIAvkZSK-0-w",
      "execution_count": 57,
      "outputs": []
    },
    {
      "cell_type": "code",
      "execution_count": 58,
      "metadata": {
        "colab": {
          "base_uri": "https://localhost:8080/"
        },
        "id": "wV_j7e9C5skL",
        "outputId": "468bc71e-6ca5-45ce-c43b-64a6e2c1cbfe"
      },
      "outputs": [
        {
          "output_type": "stream",
          "name": "stdout",
          "text": [
            "accurecy= 0.87\n"
          ]
        }
      ],
      "source": [
        "normalizedInput = (x_test - X_mu)/X_sigma\n",
        "yPred = predict(normalizedInput, w_out, b_out)\n",
        "acc = accurecy(yPred, y_test)\n",
        "print(f\"accurecy= {acc}\")\n"
      ],
      "id": "wV_j7e9C5skL"
    },
    {
      "cell_type": "code",
      "execution_count": 60,
      "metadata": {
        "colab": {
          "base_uri": "https://localhost:8080/"
        },
        "id": "xdSKcpLi5skM",
        "outputId": "f6fe21ec-46de-4234-e925-66905f5e977a"
      },
      "outputs": [
        {
          "output_type": "stream",
          "name": "stdout",
          "text": [
            "accurecy= 0.83\n"
          ]
        }
      ],
      "source": [
        "yPred = predict(x_norm, w_out, b_out)\n",
        "acc = accurecy(yPred, y_train)\n",
        "print(f\"accurecy= {acc}\")\n"
      ],
      "id": "xdSKcpLi5skM"
    },
    {
      "cell_type": "code",
      "execution_count": 59,
      "metadata": {
        "id": "mbWO66dT5skM"
      },
      "outputs": [],
      "source": [],
      "id": "mbWO66dT5skM"
    },
    {
      "cell_type": "code",
      "execution_count": 59,
      "metadata": {
        "id": "XvNp5jKD5skM"
      },
      "outputs": [],
      "source": [],
      "id": "XvNp5jKD5skM"
    }
  ],
  "metadata": {
    "kernelspec": {
      "display_name": "Python 3",
      "language": "python",
      "name": "python3"
    },
    "language_info": {
      "codemirror_mode": {
        "name": "ipython",
        "version": 3
      },
      "file_extension": ".py",
      "mimetype": "text/x-python",
      "name": "python",
      "nbconvert_exporter": "python",
      "pygments_lexer": "ipython3",
      "version": "3.6.6"
    },
    "colab": {
      "provenance": []
    }
  },
  "nbformat": 4,
  "nbformat_minor": 5
}