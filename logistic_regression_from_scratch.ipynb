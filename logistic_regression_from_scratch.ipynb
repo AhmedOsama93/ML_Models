{
  "cells": [
    {
      "cell_type": "code",
      "execution_count": 110,
      "metadata": {
        "id": "44AvT-Bz5sjo"
      },
      "outputs": [],
      "source": [
        "import pandas as pd\n",
        "import numpy as np\n",
        "import matplotlib.pyplot as plot\n",
        "from sklearn import linear_model\n",
        "import seaborn as sns\n",
        "import math\n",
        "from sklearn.model_selection import train_test_split\n",
        "import copy"
      ],
      "id": "44AvT-Bz5sjo"
    },
    {
      "cell_type": "code",
      "execution_count": 111,
      "metadata": {
        "id": "5KOZg3Cj5sjy"
      },
      "outputs": [],
      "source": [
        "data = pd.read_csv('customer_data.csv')"
      ],
      "id": "5KOZg3Cj5sjy"
    },
    {
      "cell_type": "code",
      "execution_count": 112,
      "metadata": {
        "colab": {
          "base_uri": "https://localhost:8080/"
        },
        "id": "xKM2wZIa5sjz",
        "outputId": "e61cac38-549e-420e-b580-82255433dcdf"
      },
      "outputs": [
        {
          "output_type": "stream",
          "name": "stdout",
          "text": [
            "<class 'pandas.core.frame.DataFrame'>\n",
            "RangeIndex: 400 entries, 0 to 399\n",
            "Data columns (total 3 columns):\n",
            " #   Column     Non-Null Count  Dtype\n",
            "---  ------     --------------  -----\n",
            " 0   age        400 non-null    int64\n",
            " 1   salary     400 non-null    int64\n",
            " 2   purchased  400 non-null    int64\n",
            "dtypes: int64(3)\n",
            "memory usage: 9.5 KB\n"
          ]
        }
      ],
      "source": [
        "data.info()"
      ],
      "id": "xKM2wZIa5sjz"
    },
    {
      "cell_type": "code",
      "execution_count": 113,
      "metadata": {
        "scrolled": true,
        "colab": {
          "base_uri": "https://localhost:8080/",
          "height": 206
        },
        "id": "OYSG-js95sj1",
        "outputId": "a022206a-8c03-4cb5-df65-9c8cdd9ecc17"
      },
      "outputs": [
        {
          "output_type": "execute_result",
          "data": {
            "text/plain": [
              "   age  salary  purchased\n",
              "0   44   39000          0\n",
              "1   32  120000          1\n",
              "2   38   50000          0\n",
              "3   32  135000          1\n",
              "4   52   21000          1"
            ],
            "text/html": [
              "\n",
              "  <div id=\"df-2d96251f-0e79-46e7-924e-7083687416e1\">\n",
              "    <div class=\"colab-df-container\">\n",
              "      <div>\n",
              "<style scoped>\n",
              "    .dataframe tbody tr th:only-of-type {\n",
              "        vertical-align: middle;\n",
              "    }\n",
              "\n",
              "    .dataframe tbody tr th {\n",
              "        vertical-align: top;\n",
              "    }\n",
              "\n",
              "    .dataframe thead th {\n",
              "        text-align: right;\n",
              "    }\n",
              "</style>\n",
              "<table border=\"1\" class=\"dataframe\">\n",
              "  <thead>\n",
              "    <tr style=\"text-align: right;\">\n",
              "      <th></th>\n",
              "      <th>age</th>\n",
              "      <th>salary</th>\n",
              "      <th>purchased</th>\n",
              "    </tr>\n",
              "  </thead>\n",
              "  <tbody>\n",
              "    <tr>\n",
              "      <th>0</th>\n",
              "      <td>44</td>\n",
              "      <td>39000</td>\n",
              "      <td>0</td>\n",
              "    </tr>\n",
              "    <tr>\n",
              "      <th>1</th>\n",
              "      <td>32</td>\n",
              "      <td>120000</td>\n",
              "      <td>1</td>\n",
              "    </tr>\n",
              "    <tr>\n",
              "      <th>2</th>\n",
              "      <td>38</td>\n",
              "      <td>50000</td>\n",
              "      <td>0</td>\n",
              "    </tr>\n",
              "    <tr>\n",
              "      <th>3</th>\n",
              "      <td>32</td>\n",
              "      <td>135000</td>\n",
              "      <td>1</td>\n",
              "    </tr>\n",
              "    <tr>\n",
              "      <th>4</th>\n",
              "      <td>52</td>\n",
              "      <td>21000</td>\n",
              "      <td>1</td>\n",
              "    </tr>\n",
              "  </tbody>\n",
              "</table>\n",
              "</div>\n",
              "      <button class=\"colab-df-convert\" onclick=\"convertToInteractive('df-2d96251f-0e79-46e7-924e-7083687416e1')\"\n",
              "              title=\"Convert this dataframe to an interactive table.\"\n",
              "              style=\"display:none;\">\n",
              "        \n",
              "  <svg xmlns=\"http://www.w3.org/2000/svg\" height=\"24px\"viewBox=\"0 0 24 24\"\n",
              "       width=\"24px\">\n",
              "    <path d=\"M0 0h24v24H0V0z\" fill=\"none\"/>\n",
              "    <path d=\"M18.56 5.44l.94 2.06.94-2.06 2.06-.94-2.06-.94-.94-2.06-.94 2.06-2.06.94zm-11 1L8.5 8.5l.94-2.06 2.06-.94-2.06-.94L8.5 2.5l-.94 2.06-2.06.94zm10 10l.94 2.06.94-2.06 2.06-.94-2.06-.94-.94-2.06-.94 2.06-2.06.94z\"/><path d=\"M17.41 7.96l-1.37-1.37c-.4-.4-.92-.59-1.43-.59-.52 0-1.04.2-1.43.59L10.3 9.45l-7.72 7.72c-.78.78-.78 2.05 0 2.83L4 21.41c.39.39.9.59 1.41.59.51 0 1.02-.2 1.41-.59l7.78-7.78 2.81-2.81c.8-.78.8-2.07 0-2.86zM5.41 20L4 18.59l7.72-7.72 1.47 1.35L5.41 20z\"/>\n",
              "  </svg>\n",
              "      </button>\n",
              "      \n",
              "  <style>\n",
              "    .colab-df-container {\n",
              "      display:flex;\n",
              "      flex-wrap:wrap;\n",
              "      gap: 12px;\n",
              "    }\n",
              "\n",
              "    .colab-df-convert {\n",
              "      background-color: #E8F0FE;\n",
              "      border: none;\n",
              "      border-radius: 50%;\n",
              "      cursor: pointer;\n",
              "      display: none;\n",
              "      fill: #1967D2;\n",
              "      height: 32px;\n",
              "      padding: 0 0 0 0;\n",
              "      width: 32px;\n",
              "    }\n",
              "\n",
              "    .colab-df-convert:hover {\n",
              "      background-color: #E2EBFA;\n",
              "      box-shadow: 0px 1px 2px rgba(60, 64, 67, 0.3), 0px 1px 3px 1px rgba(60, 64, 67, 0.15);\n",
              "      fill: #174EA6;\n",
              "    }\n",
              "\n",
              "    [theme=dark] .colab-df-convert {\n",
              "      background-color: #3B4455;\n",
              "      fill: #D2E3FC;\n",
              "    }\n",
              "\n",
              "    [theme=dark] .colab-df-convert:hover {\n",
              "      background-color: #434B5C;\n",
              "      box-shadow: 0px 1px 3px 1px rgba(0, 0, 0, 0.15);\n",
              "      filter: drop-shadow(0px 1px 2px rgba(0, 0, 0, 0.3));\n",
              "      fill: #FFFFFF;\n",
              "    }\n",
              "  </style>\n",
              "\n",
              "      <script>\n",
              "        const buttonEl =\n",
              "          document.querySelector('#df-2d96251f-0e79-46e7-924e-7083687416e1 button.colab-df-convert');\n",
              "        buttonEl.style.display =\n",
              "          google.colab.kernel.accessAllowed ? 'block' : 'none';\n",
              "\n",
              "        async function convertToInteractive(key) {\n",
              "          const element = document.querySelector('#df-2d96251f-0e79-46e7-924e-7083687416e1');\n",
              "          const dataTable =\n",
              "            await google.colab.kernel.invokeFunction('convertToInteractive',\n",
              "                                                     [key], {});\n",
              "          if (!dataTable) return;\n",
              "\n",
              "          const docLinkHtml = 'Like what you see? Visit the ' +\n",
              "            '<a target=\"_blank\" href=https://colab.research.google.com/notebooks/data_table.ipynb>data table notebook</a>'\n",
              "            + ' to learn more about interactive tables.';\n",
              "          element.innerHTML = '';\n",
              "          dataTable['output_type'] = 'display_data';\n",
              "          await google.colab.output.renderOutput(dataTable, element);\n",
              "          const docLink = document.createElement('div');\n",
              "          docLink.innerHTML = docLinkHtml;\n",
              "          element.appendChild(docLink);\n",
              "        }\n",
              "      </script>\n",
              "    </div>\n",
              "  </div>\n",
              "  "
            ]
          },
          "metadata": {},
          "execution_count": 113
        }
      ],
      "source": [
        "data.head()"
      ],
      "id": "OYSG-js95sj1"
    },
    {
      "cell_type": "code",
      "source": [
        "# shuffling data\n",
        "data = data.sample(frac=1)"
      ],
      "metadata": {
        "id": "pbzQ9eYLOnKs"
      },
      "id": "pbzQ9eYLOnKs",
      "execution_count": 114,
      "outputs": []
    },
    {
      "cell_type": "code",
      "source": [
        "data.head()"
      ],
      "metadata": {
        "colab": {
          "base_uri": "https://localhost:8080/",
          "height": 206
        },
        "id": "KOk2f1rgOxOi",
        "outputId": "0607d212-8326-45c5-ba78-6a2501c5903a"
      },
      "id": "KOk2f1rgOxOi",
      "execution_count": 115,
      "outputs": [
        {
          "output_type": "execute_result",
          "data": {
            "text/plain": [
              "     age  salary  purchased\n",
              "230   30  116000          0\n",
              "146   39   71000          0\n",
              "78    52  138000          1\n",
              "273   20   23000          0\n",
              "124   48  141000          0"
            ],
            "text/html": [
              "\n",
              "  <div id=\"df-ff7e6dfa-3ac4-4b46-98c5-f72a4666a163\">\n",
              "    <div class=\"colab-df-container\">\n",
              "      <div>\n",
              "<style scoped>\n",
              "    .dataframe tbody tr th:only-of-type {\n",
              "        vertical-align: middle;\n",
              "    }\n",
              "\n",
              "    .dataframe tbody tr th {\n",
              "        vertical-align: top;\n",
              "    }\n",
              "\n",
              "    .dataframe thead th {\n",
              "        text-align: right;\n",
              "    }\n",
              "</style>\n",
              "<table border=\"1\" class=\"dataframe\">\n",
              "  <thead>\n",
              "    <tr style=\"text-align: right;\">\n",
              "      <th></th>\n",
              "      <th>age</th>\n",
              "      <th>salary</th>\n",
              "      <th>purchased</th>\n",
              "    </tr>\n",
              "  </thead>\n",
              "  <tbody>\n",
              "    <tr>\n",
              "      <th>230</th>\n",
              "      <td>30</td>\n",
              "      <td>116000</td>\n",
              "      <td>0</td>\n",
              "    </tr>\n",
              "    <tr>\n",
              "      <th>146</th>\n",
              "      <td>39</td>\n",
              "      <td>71000</td>\n",
              "      <td>0</td>\n",
              "    </tr>\n",
              "    <tr>\n",
              "      <th>78</th>\n",
              "      <td>52</td>\n",
              "      <td>138000</td>\n",
              "      <td>1</td>\n",
              "    </tr>\n",
              "    <tr>\n",
              "      <th>273</th>\n",
              "      <td>20</td>\n",
              "      <td>23000</td>\n",
              "      <td>0</td>\n",
              "    </tr>\n",
              "    <tr>\n",
              "      <th>124</th>\n",
              "      <td>48</td>\n",
              "      <td>141000</td>\n",
              "      <td>0</td>\n",
              "    </tr>\n",
              "  </tbody>\n",
              "</table>\n",
              "</div>\n",
              "      <button class=\"colab-df-convert\" onclick=\"convertToInteractive('df-ff7e6dfa-3ac4-4b46-98c5-f72a4666a163')\"\n",
              "              title=\"Convert this dataframe to an interactive table.\"\n",
              "              style=\"display:none;\">\n",
              "        \n",
              "  <svg xmlns=\"http://www.w3.org/2000/svg\" height=\"24px\"viewBox=\"0 0 24 24\"\n",
              "       width=\"24px\">\n",
              "    <path d=\"M0 0h24v24H0V0z\" fill=\"none\"/>\n",
              "    <path d=\"M18.56 5.44l.94 2.06.94-2.06 2.06-.94-2.06-.94-.94-2.06-.94 2.06-2.06.94zm-11 1L8.5 8.5l.94-2.06 2.06-.94-2.06-.94L8.5 2.5l-.94 2.06-2.06.94zm10 10l.94 2.06.94-2.06 2.06-.94-2.06-.94-.94-2.06-.94 2.06-2.06.94z\"/><path d=\"M17.41 7.96l-1.37-1.37c-.4-.4-.92-.59-1.43-.59-.52 0-1.04.2-1.43.59L10.3 9.45l-7.72 7.72c-.78.78-.78 2.05 0 2.83L4 21.41c.39.39.9.59 1.41.59.51 0 1.02-.2 1.41-.59l7.78-7.78 2.81-2.81c.8-.78.8-2.07 0-2.86zM5.41 20L4 18.59l7.72-7.72 1.47 1.35L5.41 20z\"/>\n",
              "  </svg>\n",
              "      </button>\n",
              "      \n",
              "  <style>\n",
              "    .colab-df-container {\n",
              "      display:flex;\n",
              "      flex-wrap:wrap;\n",
              "      gap: 12px;\n",
              "    }\n",
              "\n",
              "    .colab-df-convert {\n",
              "      background-color: #E8F0FE;\n",
              "      border: none;\n",
              "      border-radius: 50%;\n",
              "      cursor: pointer;\n",
              "      display: none;\n",
              "      fill: #1967D2;\n",
              "      height: 32px;\n",
              "      padding: 0 0 0 0;\n",
              "      width: 32px;\n",
              "    }\n",
              "\n",
              "    .colab-df-convert:hover {\n",
              "      background-color: #E2EBFA;\n",
              "      box-shadow: 0px 1px 2px rgba(60, 64, 67, 0.3), 0px 1px 3px 1px rgba(60, 64, 67, 0.15);\n",
              "      fill: #174EA6;\n",
              "    }\n",
              "\n",
              "    [theme=dark] .colab-df-convert {\n",
              "      background-color: #3B4455;\n",
              "      fill: #D2E3FC;\n",
              "    }\n",
              "\n",
              "    [theme=dark] .colab-df-convert:hover {\n",
              "      background-color: #434B5C;\n",
              "      box-shadow: 0px 1px 3px 1px rgba(0, 0, 0, 0.15);\n",
              "      filter: drop-shadow(0px 1px 2px rgba(0, 0, 0, 0.3));\n",
              "      fill: #FFFFFF;\n",
              "    }\n",
              "  </style>\n",
              "\n",
              "      <script>\n",
              "        const buttonEl =\n",
              "          document.querySelector('#df-ff7e6dfa-3ac4-4b46-98c5-f72a4666a163 button.colab-df-convert');\n",
              "        buttonEl.style.display =\n",
              "          google.colab.kernel.accessAllowed ? 'block' : 'none';\n",
              "\n",
              "        async function convertToInteractive(key) {\n",
              "          const element = document.querySelector('#df-ff7e6dfa-3ac4-4b46-98c5-f72a4666a163');\n",
              "          const dataTable =\n",
              "            await google.colab.kernel.invokeFunction('convertToInteractive',\n",
              "                                                     [key], {});\n",
              "          if (!dataTable) return;\n",
              "\n",
              "          const docLinkHtml = 'Like what you see? Visit the ' +\n",
              "            '<a target=\"_blank\" href=https://colab.research.google.com/notebooks/data_table.ipynb>data table notebook</a>'\n",
              "            + ' to learn more about interactive tables.';\n",
              "          element.innerHTML = '';\n",
              "          dataTable['output_type'] = 'display_data';\n",
              "          await google.colab.output.renderOutput(dataTable, element);\n",
              "          const docLink = document.createElement('div');\n",
              "          docLink.innerHTML = docLinkHtml;\n",
              "          element.appendChild(docLink);\n",
              "        }\n",
              "      </script>\n",
              "    </div>\n",
              "  </div>\n",
              "  "
            ]
          },
          "metadata": {},
          "execution_count": 115
        }
      ]
    },
    {
      "cell_type": "code",
      "execution_count": 116,
      "metadata": {
        "colab": {
          "base_uri": "https://localhost:8080/",
          "height": 803
        },
        "id": "dCDWE9lY5sj2",
        "outputId": "e29f3232-e605-48d2-9128-3fc75850ebb8"
      },
      "outputs": [
        {
          "output_type": "display_data",
          "data": {
            "text/plain": [
              "<Figure size 432x288 with 1 Axes>"
            ],
            "image/png": "[encoded data removed]"
          },
          "metadata": {
            "needs_background": "light"
          }
        },
        {
          "output_type": "display_data",
          "data": {
            "text/plain": [
              "<Figure size 432x288 with 1 Axes>"
            ],
            "image/png": "[encoded data removed]"
          },
          "metadata": {
            "needs_background": "light"
          }
        },
        {
          "output_type": "display_data",
          "data": {
            "text/plain": [
              "<Figure size 432x288 with 1 Axes>"
            ],
            "image/png": "[encoded data removed]"
          },
          "metadata": {
            "needs_background": "light"
          }
        }
      ],
      "source": [
        "getColor = lambda x: 'red' if x == 0 else 'blue'\n",
        "color = list(map(getColor, data['purchased']))\n",
        "\n",
        "data.plot(kind='scatter', x='age', y='salary', c=color)\n",
        "plot.show()\n",
        "\n",
        "data.plot(kind='scatter', x='age', y='purchased')\n",
        "plot.show()\n",
        "\n",
        "data.plot(kind='scatter', x='salary', y='purchased')\n",
        "plot.show()"
      ],
      "id": "dCDWE9lY5sj2"
    },
    {
      "cell_type": "code",
      "execution_count": 117,
      "metadata": {
        "colab": {
          "base_uri": "https://localhost:8080/",
          "height": 36
        },
        "id": "hJWPT4d95sj3",
        "outputId": "95c6c1ce-abbd-4efb-8225-4084c6c749b9"
      },
      "outputs": [
        {
          "output_type": "execute_result",
          "data": {
            "text/plain": [
              "'\\nx_train = x[0:320]\\ny_train = y[0:320]\\nx_test = x[320:]\\ny_test = y[320:]'"
            ],
            "application/vnd.google.colaboratory.intrinsic+json": {
              "type": "string"
            }
          },
          "metadata": {},
          "execution_count": 117
        }
      ],
      "source": [
        "# splitting data\n",
        "x = data.drop(columns = ['purchased']).to_numpy().reshape((-1,2))\n",
        "y = data['purchased'].to_numpy()\n",
        "\n",
        "x_train, x_test, y_train, y_test = train_test_split(x, y)\n",
        "\n",
        "'''\n",
        "x_train = x[0:320]\n",
        "y_train = y[0:320]\n",
        "x_test = x[320:]\n",
        "y_test = y[320:]'''"
      ],
      "id": "hJWPT4d95sj3"
    },
    {
      "cell_type": "code",
      "execution_count": 118,
      "metadata": {
        "colab": {
          "base_uri": "https://localhost:8080/"
        },
        "id": "cloSeeUe5sj5",
        "outputId": "ef7f1da1-c820-42fd-af38-9c890d214b3d"
      },
      "outputs": [
        {
          "output_type": "execute_result",
          "data": {
            "text/plain": [
              "(300, 2)"
            ]
          },
          "metadata": {},
          "execution_count": 118
        }
      ],
      "source": [
        "x_train.shape"
      ],
      "id": "cloSeeUe5sj5"
    },
    {
      "cell_type": "code",
      "execution_count": 119,
      "metadata": {
        "colab": {
          "base_uri": "https://localhost:8080/"
        },
        "id": "BDerm2jU5sj6",
        "outputId": "95ef28fb-5a75-470b-8e4f-e33d2e47b995"
      },
      "outputs": [
        {
          "output_type": "execute_result",
          "data": {
            "text/plain": [
              "(100, 2)"
            ]
          },
          "metadata": {},
          "execution_count": 119
        }
      ],
      "source": [
        "x_test.shape"
      ],
      "id": "BDerm2jU5sj6"
    },
    {
      "cell_type": "code",
      "execution_count": 120,
      "metadata": {
        "id": "Kt3AZVl55sj8"
      },
      "outputs": [],
      "source": [
        "def zscore_norm(X):\n",
        "    mu = np.mean(X, axis=0)\n",
        "    sigma = np.std(X, axis=0)\n",
        "    x_norm = (X - mu) / sigma      \n",
        "\n",
        "    return (x_norm, mu, sigma)"
      ],
      "id": "Kt3AZVl55sj8"
    },
    {
      "cell_type": "code",
      "source": [
        "fig,ax=plot.subplots(1, 1, figsize=(12, 3))\n",
        "ax.scatter(x_train[:,0], x_train[:,1])\n",
        "ax.set_xlabel(\"age\"); ax.set_ylabel(\"salary\");\n",
        "ax.set_title(r\"original\")\n",
        "plot.axis('equal')\n",
        "plot.show()"
      ],
      "metadata": {
        "colab": {
          "base_uri": "https://localhost:8080/",
          "height": 241
        },
        "id": "xu-XCJRO69TD",
        "outputId": "1c25eb36-13f2-4cae-cee2-0abe6e6c235e"
      },
      "id": "xu-XCJRO69TD",
      "execution_count": 121,
      "outputs": [
        {
          "output_type": "display_data",
          "data": {
            "text/plain": [
              "<Figure size 864x216 with 1 Axes>"
            ],
            "image/png": "[encoded data removed]"
          },
          "metadata": {
            "needs_background": "light"
          }
        }
      ]
    },
    {
      "cell_type": "code",
      "source": [
        "plot.scatter(x=x_train[:,0], y=x_train[:,1])\n",
        "plot.show()"
      ],
      "metadata": {
        "colab": {
          "base_uri": "https://localhost:8080/",
          "height": 265
        },
        "id": "dANptkQv8x9q",
        "outputId": "82b9ec7d-f84a-46dc-84ca-ecf5f9773252"
      },
      "id": "dANptkQv8x9q",
      "execution_count": 122,
      "outputs": [
        {
          "output_type": "display_data",
          "data": {
            "text/plain": [
              "<Figure size 432x288 with 1 Axes>"
            ],
            "image/png": "[encoded data removed]"
          },
          "metadata": {
            "needs_background": "light"
          }
        }
      ]
    },
    {
      "cell_type": "code",
      "execution_count": 123,
      "metadata": {
        "id": "z0Ahtz9t5sj-"
      },
      "outputs": [],
      "source": [
        "#normalize data using z-score\n",
        "x_norm, X_mu, X_sigma = zscore_norm(x_train)\n",
        "x_train = x_norm"
      ],
      "id": "z0Ahtz9t5sj-"
    },
    {
      "cell_type": "code",
      "source": [
        "plot.scatter(x=x_norm[:,0], y=x_norm[:,1])\n",
        "plot.show()"
      ],
      "metadata": {
        "colab": {
          "base_uri": "https://localhost:8080/",
          "height": 268
        },
        "id": "t2ksRQVP9Oc8",
        "outputId": "d540318f-23a2-48e8-fd78-1a2620eeb989"
      },
      "id": "t2ksRQVP9Oc8",
      "execution_count": 124,
      "outputs": [
        {
          "output_type": "display_data",
          "data": {
            "text/plain": [
              "<Figure size 432x288 with 1 Axes>"
            ],
            "image/png": "[encoded data removed]"
          },
          "metadata": {
            "needs_background": "light"
          }
        }
      ]
    },
    {
      "cell_type": "code",
      "execution_count": 125,
      "metadata": {
        "id": "IK35cZBA5sj_"
      },
      "outputs": [],
      "source": [
        "# UNQ_C1\n",
        "# GRADED FUNCTION: sigmoid\n",
        "\n",
        "def sigmoid(z):\n",
        "    return 1/(1+np.exp(-z))"
      ],
      "id": "IK35cZBA5sj_"
    },
    {
      "cell_type": "code",
      "execution_count": 126,
      "metadata": {
        "colab": {
          "base_uri": "https://localhost:8080/"
        },
        "id": "dEkNwVyP5skB",
        "outputId": "3242b1c6-61f1-4a2f-b8a0-2b1f6568c770"
      },
      "outputs": [
        {
          "output_type": "execute_result",
          "data": {
            "text/plain": [
              "0.5"
            ]
          },
          "metadata": {},
          "execution_count": 126
        }
      ],
      "source": [
        "sigmoid(0)"
      ],
      "id": "dEkNwVyP5skB"
    },
    {
      "cell_type": "code",
      "execution_count": 127,
      "metadata": {
        "id": "R2O_1sn65skC"
      },
      "outputs": [],
      "source": [
        "def compute_cost(X, y, w, b, lambda_= 1):\n",
        "    m, n = X.shape\n",
        "    cost = 0.0\n",
        "    \n",
        "    for i in range(m):\n",
        "        z = np.dot(X[i],w) + b\n",
        "        f_wb = sigmoid(z)\n",
        "        cost += -y[i] * np.log(f_wb) - (1-y[i])*np.log(1-f_wb)\n",
        "    total_cost = cost/m\n",
        "    return total_cost"
      ],
      "id": "R2O_1sn65skC"
    },
    {
      "cell_type": "code",
      "execution_count": 128,
      "metadata": {
        "colab": {
          "base_uri": "https://localhost:8080/"
        },
        "id": "NxDyj9um5skD",
        "outputId": "2623eb0a-e374-4a0d-e5fe-aa12828eee24"
      },
      "outputs": [
        {
          "output_type": "stream",
          "name": "stdout",
          "text": [
            "Cost at initial w (zeros): 0.693\n"
          ]
        }
      ],
      "source": [
        "m, n = x_train.shape\n",
        "\n",
        "# Compute and display cost with w initialized to zeroes\n",
        "initial_w = np.zeros(n)\n",
        "initial_b = 0.\n",
        "cost = compute_cost(x_train, y_train, initial_w, initial_b)\n",
        "print('Cost at initial w (zeros): {:.3f}'.format(cost))"
      ],
      "id": "NxDyj9um5skD"
    },
    {
      "cell_type": "code",
      "execution_count": 129,
      "metadata": {
        "colab": {
          "base_uri": "https://localhost:8080/"
        },
        "id": "WS6a0l9b5skE",
        "outputId": "b3b6ee34-23e7-4308-d69c-c66cacea2d45"
      },
      "outputs": [
        {
          "output_type": "stream",
          "name": "stdout",
          "text": [
            "Cost at test w,b: 0.705\n"
          ]
        }
      ],
      "source": [
        "w = np.array([0.2, 0.2])\n",
        "b = 0.5\n",
        "\n",
        "\n",
        "cost = compute_cost(x_train , y_train, w, b)\n",
        "\n",
        "print('Cost at test w,b: {:.3f}'.format(cost))"
      ],
      "id": "WS6a0l9b5skE"
    },
    {
      "cell_type": "code",
      "execution_count": 130,
      "metadata": {
        "id": "QUqgNuQu5skF"
      },
      "outputs": [],
      "source": [
        "def compute_gradient(X, y, w, b, lambda_=None): \n",
        "    m, n = X.shape\n",
        "    dj_dw = np.zeros(w.shape)\n",
        "    dj_db = 0.\n",
        "    for i in range(m):\n",
        "        f_wb_i = sigmoid(np.dot(X[i],w) + b)          \n",
        "        err_i  = f_wb_i  - y[i]                       \n",
        "        for j in range(n):\n",
        "            dj_dw[j] = dj_dw[j] + err_i * X[i,j]      \n",
        "        dj_db = dj_db + err_i\n",
        "    dj_dw = dj_dw/m                                   \n",
        "    dj_db = dj_db/m                                   \n",
        "        \n",
        "    return dj_db, dj_dw"
      ],
      "id": "QUqgNuQu5skF"
    },
    {
      "cell_type": "code",
      "execution_count": 131,
      "metadata": {
        "id": "bQKY6D5X5skH"
      },
      "outputs": [],
      "source": [
        "def gradient_descent(X, y, w_in, b_in, alpha, iters): \n",
        "    jList = []\n",
        "    w = copy.deepcopy(w_in)\n",
        "    b = b_in\n",
        "    \n",
        "    for i in range(iters):\n",
        "        # Calculate the gradient and update the parameters\n",
        "        dj_db, dj_dw = compute_gradient(X, y, w, b)   \n",
        "\n",
        "        # Update Parameters using w, b, alpha and gradient\n",
        "        w = w - alpha * dj_dw               \n",
        "        b = b - alpha * dj_db               \n",
        "      \n",
        "        # Save cost J at each iteration\n",
        "        jList.append( compute_cost(X, y, w, b) )\n",
        "\n",
        "        # Print cost in interval of 1000 iteration\n",
        "        if i% math.ceil(iters / 10) == 0:\n",
        "            print(f\"Iteration {i:4d}: Cost {jList[-1]}   \")\n",
        "        \n",
        "    return w, b, jList         #return final w,b and J history for graphing"
      ],
      "id": "bQKY6D5X5skH"
    },
    {
      "cell_type": "code",
      "source": [
        "def predict(X, w, b): \n",
        "      \n",
        "    m, n = X.shape   \n",
        "    yPred = np.zeros(m)\n",
        "   \n",
        "    for i in range(m):   \n",
        "        z_wb = np.dot(X[i],w) \n",
        "        z_wb += b\n",
        "        f_wb = sigmoid(z_wb)\n",
        "\n",
        "        # Apply the threshold\n",
        "        yPred[i] = 1 if f_wb>=0.5 else 0\n",
        "    \n",
        "    return yPred"
      ],
      "metadata": {
        "id": "5gboiuXwWuVq"
      },
      "id": "5gboiuXwWuVq",
      "execution_count": 140,
      "outputs": []
    },
    {
      "cell_type": "code",
      "source": [
        "def accuracy(yPred, yTrue):\n",
        "  return 1- np.sum(np.abs(yPred-yTrue))/len(yPred)"
      ],
      "metadata": {
        "id": "3JhYMq29WwxX"
      },
      "id": "3JhYMq29WwxX",
      "execution_count": 133,
      "outputs": []
    },
    {
      "cell_type": "code",
      "execution_count": 134,
      "metadata": {
        "colab": {
          "base_uri": "https://localhost:8080/"
        },
        "id": "qsWYollV5skI",
        "outputId": "1f9844ec-0572-4eb9-9abf-a6dadcb1599c"
      },
      "outputs": [
        {
          "output_type": "stream",
          "name": "stdout",
          "text": [
            "Iteration    0: Cost 0.6804385969760474   \n",
            "Iteration 1000: Cost 0.3652583976210828   \n",
            "Iteration 2000: Cost 0.36519131017682727   \n",
            "Iteration 3000: Cost 0.36519105386981976   \n",
            "Iteration 4000: Cost 0.36519105282381614   \n",
            "Iteration 5000: Cost 0.3651910528195295   \n",
            "Iteration 6000: Cost 0.3651910528195123   \n",
            "Iteration 7000: Cost 0.36519105281951203   \n",
            "Iteration 8000: Cost 0.3651910528195123   \n",
            "Iteration 9000: Cost 0.36519105281951214   \n",
            "\n",
            "updated parameters: w:[2.40878704 1.2178633 ], b:-0.9881381651891498\n"
          ]
        }
      ],
      "source": [
        "w_tmp  = np.zeros_like(x_train[0])\n",
        "b_tmp  = 0.\n",
        "alph = 0.1\n",
        "iters = 10000\n",
        "lambda_ = 1\n",
        "\n",
        "w_out, b_out, J_history = gradient_descent(x_train, y_train, w_tmp, b_tmp, alph, iters) \n",
        "print(f\"\\nupdated parameters: w:{w_out}, b:{b_out}\")"
      ],
      "id": "qsWYollV5skI"
    },
    {
      "cell_type": "code",
      "source": [
        "# accuracy of test set\n",
        "normalizedInput = (x_test - X_mu)/X_sigma\n",
        "\n",
        "yPred = predict(normalizedInput, w_out, b_out)\n",
        "acc = accuracy(yPred, y_test)\n",
        "print(f\"accuracy of test set = {acc}\")\n",
        "\n",
        "# accuracy of training set\n",
        "yPred = predict(x_train, w_out, b_out)\n",
        "acc = accuracy(yPred, y_train)\n",
        "print(f\"accuracy of training set = {acc}\")"
      ],
      "metadata": {
        "colab": {
          "base_uri": "https://localhost:8080/"
        },
        "id": "arOBs_RCXrle",
        "outputId": "742c59d0-0022-4b96-9857-3c676d657a81"
      },
      "id": "arOBs_RCXrle",
      "execution_count": 142,
      "outputs": [
        {
          "output_type": "stream",
          "name": "stdout",
          "text": [
            "accuracy of test set = 0.9\n",
            "accuracy of training set = 0.8366666666666667\n"
          ]
        }
      ]
    },
    {
      "cell_type": "code",
      "execution_count": 143,
      "metadata": {
        "colab": {
          "base_uri": "https://localhost:8080/"
        },
        "id": "0-LoDV5O5skJ",
        "outputId": "0e5bef3a-f025-4954-9645-80d599bdeb19"
      },
      "outputs": [
        {
          "output_type": "stream",
          "name": "stdout",
          "text": [
            "Iteration    0: Cost 0.6918606480849567   \n",
            "Iteration 1000: Cost 0.40343818941389537   \n",
            "Iteration 2000: Cost 0.3781298514151974   \n",
            "Iteration 3000: Cost 0.3707790599138384   \n",
            "Iteration 4000: Cost 0.36787929194640284   \n",
            "Iteration 5000: Cost 0.3665637803144701   \n",
            "Iteration 6000: Cost 0.36591836157098756   \n",
            "Iteration 7000: Cost 0.3655858959348085   \n",
            "Iteration 8000: Cost 0.3654090254576803   \n",
            "Iteration 9000: Cost 0.365312817733553   \n",
            "\n",
            "updated parameters: w:[2.34947665 1.18665077], b:-0.967746221810799\n"
          ]
        }
      ],
      "source": [
        "w_tmp  = np.zeros_like(x_train[0])\n",
        "b_tmp  = 0.\n",
        "alph = 0.01\n",
        "iters = 10000\n",
        "lambda_ = 1\n",
        "\n",
        "w_out, b_out, J_history = gradient_descent(x_train, y_train, w_tmp, b_tmp, alph, iters) \n",
        "print(f\"\\nupdated parameters: w:{w_out}, b:{b_out}\")"
      ],
      "id": "0-LoDV5O5skJ"
    },
    {
      "cell_type": "code",
      "source": [
        "# accuracy of test set\n",
        "normalizedInput = (x_test - X_mu)/X_sigma\n",
        "yPred = predict(normalizedInput, w_out, b_out)\n",
        "acc = accuracy(yPred, y_test)\n",
        "print(f\"accuracy of test set = {acc}\")\n",
        "\n",
        "\n",
        "# accuracy of training set\n",
        "yPred = predict(x_train, w_out, b_out)\n",
        "acc = accuracy(yPred, y_train)\n",
        "print(f\"accuracy of training set = {acc}\")\n"
      ],
      "metadata": {
        "colab": {
          "base_uri": "https://localhost:8080/"
        },
        "id": "8eOQigr3XvBI",
        "outputId": "9552c1f9-5671-46d9-bc14-732a26f823d3"
      },
      "id": "8eOQigr3XvBI",
      "execution_count": 144,
      "outputs": [
        {
          "output_type": "stream",
          "name": "stdout",
          "text": [
            "accuracy of test set = 0.9\n",
            "accuracy of training set = 0.8366666666666667\n"
          ]
        }
      ]
    },
    {
      "cell_type": "code",
      "execution_count": 145,
      "metadata": {
        "colab": {
          "base_uri": "https://localhost:8080/",
          "height": 313
        },
        "id": "Vw_TQ-cP5skK",
        "outputId": "716bdbc7-2905-4847-c3b2-e2fb64500bdd"
      },
      "outputs": [
        {
          "output_type": "display_data",
          "data": {
            "text/plain": [
              "<Figure size 864x288 with 1 Axes>"
            ],
            "image/png": "[encoded data removed]"
          },
          "metadata": {
            "needs_background": "light"
          }
        }
      ],
      "source": [
        "fig, ax1 = plot.subplots(1, 1, constrained_layout=True, figsize=(12,4))\n",
        "ax1.plot(J_history)\n",
        "plot.show()"
      ],
      "id": "Vw_TQ-cP5skK"
    },
    {
      "cell_type": "code",
      "source": [
        "w_tmp  = np.zeros_like(x_train[0])\n",
        "b_tmp  = 0.\n",
        "alph = 0.001\n",
        "iters = 10000\n",
        "\n",
        "\n",
        "w_out, b_out, J_history = gradient_descent(x_train, y_train, w_tmp, b_tmp, alph, iters) \n",
        "print(f\"\\nupdated parameters: w:{w_out}, b:{b_out}\")"
      ],
      "metadata": {
        "colab": {
          "base_uri": "https://localhost:8080/"
        },
        "id": "yq1bK4Of_1Dz",
        "outputId": "a5807653-7e4e-42df-9e10-1c1b41a87a2f"
      },
      "id": "yq1bK4Of_1Dz",
      "execution_count": 146,
      "outputs": [
        {
          "output_type": "stream",
          "name": "stdout",
          "text": [
            "Iteration    0: Cost 0.6930183705454538   \n",
            "Iteration 1000: Cost 0.5932557603183981   \n",
            "Iteration 2000: Cost 0.5330427007781948   \n",
            "Iteration 3000: Cost 0.49440333357026334   \n",
            "Iteration 4000: Cost 0.4680786469248265   \n",
            "Iteration 5000: Cost 0.44923403774359105   \n",
            "Iteration 6000: Cost 0.43520270055247806   \n",
            "Iteration 7000: Cost 0.4244234676777789   \n",
            "Iteration 8000: Cost 0.41593194590151894   \n",
            "Iteration 9000: Cost 0.40910423052027106   \n",
            "\n",
            "updated parameters: w:[1.27506423 0.63817856], b:-0.546041829016243\n"
          ]
        }
      ]
    },
    {
      "cell_type": "code",
      "source": [
        "# accuracy of test set\n",
        "normalizedInput = (x_test - X_mu)/X_sigma\n",
        "yPred = predict(normalizedInput, w_out, b_out)\n",
        "acc = accuracy(yPred, y_test)\n",
        "print(f\"accuracy of test set = {acc}\")\n",
        "\n",
        "\n",
        "# accuracy of training set\n",
        "yPred = predict(x_train, w_out, b_out)\n",
        "acc = accuracy(yPred, y_train)\n",
        "print(f\"accuracy of training set = {acc}\")\n"
      ],
      "metadata": {
        "colab": {
          "base_uri": "https://localhost:8080/"
        },
        "id": "BbEEjmxJXx1a",
        "outputId": "13e50a48-8b51-4ec0-d76d-d2c0741b4547"
      },
      "id": "BbEEjmxJXx1a",
      "execution_count": 147,
      "outputs": [
        {
          "output_type": "stream",
          "name": "stdout",
          "text": [
            "accuracy of test set = 0.9\n",
            "accuracy of training set = 0.8366666666666667\n"
          ]
        }
      ]
    },
    {
      "cell_type": "code",
      "source": [
        "w_tmp  = np.zeros_like(x_train[0])\n",
        "b_tmp  = 0.\n",
        "alph = 0.0001\n",
        "iters = 10000\n",
        "\n",
        "\n",
        "w_out, b_out, J_history = gradient_descent(x_train, y_train, w_tmp, b_tmp, alph, iters) \n",
        "print(f\"\\nupdated parameters: w:{w_out}, b:{b_out}\")"
      ],
      "metadata": {
        "colab": {
          "base_uri": "https://localhost:8080/"
        },
        "id": "ZZgArQGDAO8f",
        "outputId": "c241d70b-3232-42d8-8c0f-d697c78702e6"
      },
      "id": "ZZgArQGDAO8f",
      "execution_count": 148,
      "outputs": [
        {
          "output_type": "stream",
          "name": "stdout",
          "text": [
            "Iteration    0: Cost 0.6931342979908237   \n",
            "Iteration 1000: Cost 0.6805941722146802   \n",
            "Iteration 2000: Cost 0.6687134844185453   \n",
            "Iteration 3000: Cost 0.6574559150310973   \n",
            "Iteration 4000: Cost 0.6467863654028577   \n",
            "Iteration 5000: Cost 0.6366710985410733   \n",
            "Iteration 6000: Cost 0.6270778383525799   \n",
            "Iteration 7000: Cost 0.6179758326402243   \n",
            "Iteration 8000: Cost 0.6093358851686137   \n",
            "Iteration 9000: Cost 0.6011303619389221   \n",
            "\n",
            "updated parameters: w:[0.26115211 0.13815205], b:-0.1092769439487288\n"
          ]
        }
      ]
    },
    {
      "cell_type": "code",
      "execution_count": 149,
      "metadata": {
        "colab": {
          "base_uri": "https://localhost:8080/"
        },
        "id": "wV_j7e9C5skL",
        "outputId": "53dbfd64-b3b2-472f-c483-95c9cf501a24"
      },
      "outputs": [
        {
          "output_type": "stream",
          "name": "stdout",
          "text": [
            "accuracy of test set = 0.89\n",
            "accuracy of training set = 0.8333333333333334\n"
          ]
        }
      ],
      "source": [
        "# accuracy of test set\n",
        "normalizedInput = (x_test - X_mu)/X_sigma\n",
        "yPred = predict(normalizedInput, w_out, b_out)\n",
        "acc = accuracy(yPred, y_test)\n",
        "print(f\"accuracy of test set = {acc}\")\n",
        "\n",
        "\n",
        "# accuracy of training set\n",
        "yPred = predict(x_train, w_out, b_out)\n",
        "acc = accuracy(yPred, y_train)\n",
        "print(f\"accuracy of training set = {acc}\")\n"
      ],
      "id": "wV_j7e9C5skL"
    },
    {
      "cell_type": "code",
      "source": [
        "w_tmp  = np.zeros_like(x_train[0])\n",
        "b_tmp  = 0.\n",
        "alph = 30\n",
        "iters = 10000\n",
        "\n",
        "\n",
        "w_out, b_out, J_history = gradient_descent(x_train, y_train, w_tmp, b_tmp, alph, iters) \n",
        "print(f\"\\nupdated parameters: w:{w_out}, b:{b_out}\")"
      ],
      "metadata": {
        "colab": {
          "base_uri": "https://localhost:8080/"
        },
        "id": "Yf2AEtbraajP",
        "outputId": "450e06a4-946e-4a9f-b031-692ed2c09660"
      },
      "id": "Yf2AEtbraajP",
      "execution_count": 155,
      "outputs": [
        {
          "output_type": "stream",
          "name": "stdout",
          "text": [
            "Iteration    0: Cost 0.6503472615324405   \n",
            "Iteration 1000: Cost 0.7558552618399975   \n",
            "Iteration 2000: Cost 0.7558552618399975   \n",
            "Iteration 3000: Cost 0.7558552618399975   \n",
            "Iteration 4000: Cost 0.7558552618399975   \n",
            "Iteration 5000: Cost 0.7558552618399975   \n",
            "Iteration 6000: Cost 0.7558552618399975   \n",
            "Iteration 7000: Cost 0.7558552618399975   \n",
            "Iteration 8000: Cost 0.7558552618399975   \n",
            "Iteration 9000: Cost 0.7558552618399975   \n",
            "\n",
            "updated parameters: w:[6.40322205 1.55770217], b:0.8164735390867204\n"
          ]
        }
      ]
    },
    {
      "cell_type": "code",
      "source": [
        "# accuracy of test set\n",
        "normalizedInput = (x_test - X_mu)/X_sigma\n",
        "yPred = predict(normalizedInput, w_out, b_out)\n",
        "acc = accuracy(yPred, y_test)\n",
        "print(f\"accuracy of test set = {acc}\")\n",
        "\n",
        "\n",
        "# accuracy of training set\n",
        "yPred = predict(x_train, w_out, b_out)\n",
        "acc = accuracy(yPred, y_train)\n",
        "print(f\"accuracy of training set = {acc}\")"
      ],
      "metadata": {
        "colab": {
          "base_uri": "https://localhost:8080/"
        },
        "id": "OpC_F2K_bX-2",
        "outputId": "3bf87ddf-397e-47a7-8cc0-37cee65a3eed"
      },
      "id": "OpC_F2K_bX-2",
      "execution_count": 156,
      "outputs": [
        {
          "output_type": "stream",
          "name": "stdout",
          "text": [
            "accuracy of test set = 0.78\n",
            "accuracy of training set = 0.7533333333333333\n"
          ]
        }
      ]
    },
    {
      "cell_type": "code",
      "source": [],
      "metadata": {
        "id": "SEv_nP28bYqJ"
      },
      "id": "SEv_nP28bYqJ",
      "execution_count": null,
      "outputs": []
    }
  ],
  "metadata": {
    "kernelspec": {
      "display_name": "Python 3",
      "language": "python",
      "name": "python3"
    },
    "language_info": {
      "codemirror_mode": {
        "name": "ipython",
        "version": 3
      },
      "file_extension": ".py",
      "mimetype": "text/x-python",
      "name": "python",
      "nbconvert_exporter": "python",
      "pygments_lexer": "ipython3",
      "version": "3.6.6"
    },
    "colab": {
      "provenance": []
    }
  },
  "nbformat": 4,
  "nbformat_minor": 5
}