{
  "cells": [
    {
      "cell_type": "code",
      "execution_count": 74,
      "metadata": {
        "id": "44AvT-Bz5sjo"
      },
      "outputs": [],
      "source": [
        "import pandas as pd\n",
        "import numpy as np\n",
        "import matplotlib.pyplot as plot\n",
        "from sklearn import linear_model\n",
        "import seaborn as sns\n",
        "import math\n",
        "from sklearn.model_selection import train_test_split\n",
        "import copy"
      ],
      "id": "44AvT-Bz5sjo"
    },
    {
      "cell_type": "code",
      "execution_count": 75,
      "metadata": {
        "id": "5KOZg3Cj5sjy"
      },
      "outputs": [],
      "source": [
        "data = pd.read_csv('customer_data.csv')"
      ],
      "id": "5KOZg3Cj5sjy"
    },
    {
      "cell_type": "code",
      "execution_count": 76,
      "metadata": {
        "colab": {
          "base_uri": "https://localhost:8080/"
        },
        "id": "xKM2wZIa5sjz",
        "outputId": "d6c2c95b-7d65-4038-825c-0d271fc0239e"
      },
      "outputs": [
        {
          "output_type": "stream",
          "name": "stdout",
          "text": [
            "<class 'pandas.core.frame.DataFrame'>\n",
            "RangeIndex: 400 entries, 0 to 399\n",
            "Data columns (total 3 columns):\n",
            " #   Column     Non-Null Count  Dtype\n",
            "---  ------     --------------  -----\n",
            " 0   age        400 non-null    int64\n",
            " 1   salary     400 non-null    int64\n",
            " 2   purchased  400 non-null    int64\n",
            "dtypes: int64(3)\n",
            "memory usage: 9.5 KB\n"
          ]
        }
      ],
      "source": [
        "data.info()"
      ],
      "id": "xKM2wZIa5sjz"
    },
    {
      "cell_type": "code",
      "execution_count": 77,
      "metadata": {
        "scrolled": true,
        "colab": {
          "base_uri": "https://localhost:8080/",
          "height": 206
        },
        "id": "OYSG-js95sj1",
        "outputId": "313a0473-f711-4939-cd14-bf961512a3ca"
      },
      "outputs": [
        {
          "output_type": "execute_result",
          "data": {
            "text/plain": [
              "   age  salary  purchased\n",
              "0   44   39000          0\n",
              "1   32  120000          1\n",
              "2   38   50000          0\n",
              "3   32  135000          1\n",
              "4   52   21000          1"
            ],
            "text/html": [
              "\n",
              "  <div id=\"df-99359e64-e942-4fea-9329-220d27e139e7\">\n",
              "    <div class=\"colab-df-container\">\n",
              "      <div>\n",
              "<style scoped>\n",
              "    .dataframe tbody tr th:only-of-type {\n",
              "        vertical-align: middle;\n",
              "    }\n",
              "\n",
              "    .dataframe tbody tr th {\n",
              "        vertical-align: top;\n",
              "    }\n",
              "\n",
              "    .dataframe thead th {\n",
              "        text-align: right;\n",
              "    }\n",
              "</style>\n",
              "<table border=\"1\" class=\"dataframe\">\n",
              "  <thead>\n",
              "    <tr style=\"text-align: right;\">\n",
              "      <th></th>\n",
              "      <th>age</th>\n",
              "      <th>salary</th>\n",
              "      <th>purchased</th>\n",
              "    </tr>\n",
              "  </thead>\n",
              "  <tbody>\n",
              "    <tr>\n",
              "      <th>0</th>\n",
              "      <td>44</td>\n",
              "      <td>39000</td>\n",
              "      <td>0</td>\n",
              "    </tr>\n",
              "    <tr>\n",
              "      <th>1</th>\n",
              "      <td>32</td>\n",
              "      <td>120000</td>\n",
              "      <td>1</td>\n",
              "    </tr>\n",
              "    <tr>\n",
              "      <th>2</th>\n",
              "      <td>38</td>\n",
              "      <td>50000</td>\n",
              "      <td>0</td>\n",
              "    </tr>\n",
              "    <tr>\n",
              "      <th>3</th>\n",
              "      <td>32</td>\n",
              "      <td>135000</td>\n",
              "      <td>1</td>\n",
              "    </tr>\n",
              "    <tr>\n",
              "      <th>4</th>\n",
              "      <td>52</td>\n",
              "      <td>21000</td>\n",
              "      <td>1</td>\n",
              "    </tr>\n",
              "  </tbody>\n",
              "</table>\n",
              "</div>\n",
              "      <button class=\"colab-df-convert\" onclick=\"convertToInteractive('df-99359e64-e942-4fea-9329-220d27e139e7')\"\n",
              "              title=\"Convert this dataframe to an interactive table.\"\n",
              "              style=\"display:none;\">\n",
              "        \n",
              "  <svg xmlns=\"http://www.w3.org/2000/svg\" height=\"24px\"viewBox=\"0 0 24 24\"\n",
              "       width=\"24px\">\n",
              "    <path d=\"M0 0h24v24H0V0z\" fill=\"none\"/>\n",
              "    <path d=\"M18.56 5.44l.94 2.06.94-2.06 2.06-.94-2.06-.94-.94-2.06-.94 2.06-2.06.94zm-11 1L8.5 8.5l.94-2.06 2.06-.94-2.06-.94L8.5 2.5l-.94 2.06-2.06.94zm10 10l.94 2.06.94-2.06 2.06-.94-2.06-.94-.94-2.06-.94 2.06-2.06.94z\"/><path d=\"M17.41 7.96l-1.37-1.37c-.4-.4-.92-.59-1.43-.59-.52 0-1.04.2-1.43.59L10.3 9.45l-7.72 7.72c-.78.78-.78 2.05 0 2.83L4 21.41c.39.39.9.59 1.41.59.51 0 1.02-.2 1.41-.59l7.78-7.78 2.81-2.81c.8-.78.8-2.07 0-2.86zM5.41 20L4 18.59l7.72-7.72 1.47 1.35L5.41 20z\"/>\n",
              "  </svg>\n",
              "      </button>\n",
              "      \n",
              "  <style>\n",
              "    .colab-df-container {\n",
              "      display:flex;\n",
              "      flex-wrap:wrap;\n",
              "      gap: 12px;\n",
              "    }\n",
              "\n",
              "    .colab-df-convert {\n",
              "      background-color: #E8F0FE;\n",
              "      border: none;\n",
              "      border-radius: 50%;\n",
              "      cursor: pointer;\n",
              "      display: none;\n",
              "      fill: #1967D2;\n",
              "      height: 32px;\n",
              "      padding: 0 0 0 0;\n",
              "      width: 32px;\n",
              "    }\n",
              "\n",
              "    .colab-df-convert:hover {\n",
              "      background-color: #E2EBFA;\n",
              "      box-shadow: 0px 1px 2px rgba(60, 64, 67, 0.3), 0px 1px 3px 1px rgba(60, 64, 67, 0.15);\n",
              "      fill: #174EA6;\n",
              "    }\n",
              "\n",
              "    [theme=dark] .colab-df-convert {\n",
              "      background-color: #3B4455;\n",
              "      fill: #D2E3FC;\n",
              "    }\n",
              "\n",
              "    [theme=dark] .colab-df-convert:hover {\n",
              "      background-color: #434B5C;\n",
              "      box-shadow: 0px 1px 3px 1px rgba(0, 0, 0, 0.15);\n",
              "      filter: drop-shadow(0px 1px 2px rgba(0, 0, 0, 0.3));\n",
              "      fill: #FFFFFF;\n",
              "    }\n",
              "  </style>\n",
              "\n",
              "      <script>\n",
              "        const buttonEl =\n",
              "          document.querySelector('#df-99359e64-e942-4fea-9329-220d27e139e7 button.colab-df-convert');\n",
              "        buttonEl.style.display =\n",
              "          google.colab.kernel.accessAllowed ? 'block' : 'none';\n",
              "\n",
              "        async function convertToInteractive(key) {\n",
              "          const element = document.querySelector('#df-99359e64-e942-4fea-9329-220d27e139e7');\n",
              "          const dataTable =\n",
              "            await google.colab.kernel.invokeFunction('convertToInteractive',\n",
              "                                                     [key], {});\n",
              "          if (!dataTable) return;\n",
              "\n",
              "          const docLinkHtml = 'Like what you see? Visit the ' +\n",
              "            '<a target=\"_blank\" href=https://colab.research.google.com/notebooks/data_table.ipynb>data table notebook</a>'\n",
              "            + ' to learn more about interactive tables.';\n",
              "          element.innerHTML = '';\n",
              "          dataTable['output_type'] = 'display_data';\n",
              "          await google.colab.output.renderOutput(dataTable, element);\n",
              "          const docLink = document.createElement('div');\n",
              "          docLink.innerHTML = docLinkHtml;\n",
              "          element.appendChild(docLink);\n",
              "        }\n",
              "      </script>\n",
              "    </div>\n",
              "  </div>\n",
              "  "
            ]
          },
          "metadata": {},
          "execution_count": 77
        }
      ],
      "source": [
        "data.head()"
      ],
      "id": "OYSG-js95sj1"
    },
    {
      "cell_type": "code",
      "source": [
        "data = data.sample(frac=1)"
      ],
      "metadata": {
        "id": "pbzQ9eYLOnKs"
      },
      "id": "pbzQ9eYLOnKs",
      "execution_count": 78,
      "outputs": []
    },
    {
      "cell_type": "code",
      "source": [
        "data.head()"
      ],
      "metadata": {
        "colab": {
          "base_uri": "https://localhost:8080/",
          "height": 206
        },
        "id": "KOk2f1rgOxOi",
        "outputId": "8f7f4c6e-49fa-4a48-c33a-76061ec07895"
      },
      "id": "KOk2f1rgOxOi",
      "execution_count": 79,
      "outputs": [
        {
          "output_type": "execute_result",
          "data": {
            "text/plain": [
              "     age  salary  purchased\n",
              "256   21   16000          0\n",
              "282   19   70000          0\n",
              "280   49   39000          1\n",
              "60    35   61000          0\n",
              "25    35   59000          0"
            ],
            "text/html": [
              "\n",
              "  <div id=\"df-98a9c211-a1f2-48f8-900f-101d07ffe53b\">\n",
              "    <div class=\"colab-df-container\">\n",
              "      <div>\n",
              "<style scoped>\n",
              "    .dataframe tbody tr th:only-of-type {\n",
              "        vertical-align: middle;\n",
              "    }\n",
              "\n",
              "    .dataframe tbody tr th {\n",
              "        vertical-align: top;\n",
              "    }\n",
              "\n",
              "    .dataframe thead th {\n",
              "        text-align: right;\n",
              "    }\n",
              "</style>\n",
              "<table border=\"1\" class=\"dataframe\">\n",
              "  <thead>\n",
              "    <tr style=\"text-align: right;\">\n",
              "      <th></th>\n",
              "      <th>age</th>\n",
              "      <th>salary</th>\n",
              "      <th>purchased</th>\n",
              "    </tr>\n",
              "  </thead>\n",
              "  <tbody>\n",
              "    <tr>\n",
              "      <th>256</th>\n",
              "      <td>21</td>\n",
              "      <td>16000</td>\n",
              "      <td>0</td>\n",
              "    </tr>\n",
              "    <tr>\n",
              "      <th>282</th>\n",
              "      <td>19</td>\n",
              "      <td>70000</td>\n",
              "      <td>0</td>\n",
              "    </tr>\n",
              "    <tr>\n",
              "      <th>280</th>\n",
              "      <td>49</td>\n",
              "      <td>39000</td>\n",
              "      <td>1</td>\n",
              "    </tr>\n",
              "    <tr>\n",
              "      <th>60</th>\n",
              "      <td>35</td>\n",
              "      <td>61000</td>\n",
              "      <td>0</td>\n",
              "    </tr>\n",
              "    <tr>\n",
              "      <th>25</th>\n",
              "      <td>35</td>\n",
              "      <td>59000</td>\n",
              "      <td>0</td>\n",
              "    </tr>\n",
              "  </tbody>\n",
              "</table>\n",
              "</div>\n",
              "      <button class=\"colab-df-convert\" onclick=\"convertToInteractive('df-98a9c211-a1f2-48f8-900f-101d07ffe53b')\"\n",
              "              title=\"Convert this dataframe to an interactive table.\"\n",
              "              style=\"display:none;\">\n",
              "        \n",
              "  <svg xmlns=\"http://www.w3.org/2000/svg\" height=\"24px\"viewBox=\"0 0 24 24\"\n",
              "       width=\"24px\">\n",
              "    <path d=\"M0 0h24v24H0V0z\" fill=\"none\"/>\n",
              "    <path d=\"M18.56 5.44l.94 2.06.94-2.06 2.06-.94-2.06-.94-.94-2.06-.94 2.06-2.06.94zm-11 1L8.5 8.5l.94-2.06 2.06-.94-2.06-.94L8.5 2.5l-.94 2.06-2.06.94zm10 10l.94 2.06.94-2.06 2.06-.94-2.06-.94-.94-2.06-.94 2.06-2.06.94z\"/><path d=\"M17.41 7.96l-1.37-1.37c-.4-.4-.92-.59-1.43-.59-.52 0-1.04.2-1.43.59L10.3 9.45l-7.72 7.72c-.78.78-.78 2.05 0 2.83L4 21.41c.39.39.9.59 1.41.59.51 0 1.02-.2 1.41-.59l7.78-7.78 2.81-2.81c.8-.78.8-2.07 0-2.86zM5.41 20L4 18.59l7.72-7.72 1.47 1.35L5.41 20z\"/>\n",
              "  </svg>\n",
              "      </button>\n",
              "      \n",
              "  <style>\n",
              "    .colab-df-container {\n",
              "      display:flex;\n",
              "      flex-wrap:wrap;\n",
              "      gap: 12px;\n",
              "    }\n",
              "\n",
              "    .colab-df-convert {\n",
              "      background-color: #E8F0FE;\n",
              "      border: none;\n",
              "      border-radius: 50%;\n",
              "      cursor: pointer;\n",
              "      display: none;\n",
              "      fill: #1967D2;\n",
              "      height: 32px;\n",
              "      padding: 0 0 0 0;\n",
              "      width: 32px;\n",
              "    }\n",
              "\n",
              "    .colab-df-convert:hover {\n",
              "      background-color: #E2EBFA;\n",
              "      box-shadow: 0px 1px 2px rgba(60, 64, 67, 0.3), 0px 1px 3px 1px rgba(60, 64, 67, 0.15);\n",
              "      fill: #174EA6;\n",
              "    }\n",
              "\n",
              "    [theme=dark] .colab-df-convert {\n",
              "      background-color: #3B4455;\n",
              "      fill: #D2E3FC;\n",
              "    }\n",
              "\n",
              "    [theme=dark] .colab-df-convert:hover {\n",
              "      background-color: #434B5C;\n",
              "      box-shadow: 0px 1px 3px 1px rgba(0, 0, 0, 0.15);\n",
              "      filter: drop-shadow(0px 1px 2px rgba(0, 0, 0, 0.3));\n",
              "      fill: #FFFFFF;\n",
              "    }\n",
              "  </style>\n",
              "\n",
              "      <script>\n",
              "        const buttonEl =\n",
              "          document.querySelector('#df-98a9c211-a1f2-48f8-900f-101d07ffe53b button.colab-df-convert');\n",
              "        buttonEl.style.display =\n",
              "          google.colab.kernel.accessAllowed ? 'block' : 'none';\n",
              "\n",
              "        async function convertToInteractive(key) {\n",
              "          const element = document.querySelector('#df-98a9c211-a1f2-48f8-900f-101d07ffe53b');\n",
              "          const dataTable =\n",
              "            await google.colab.kernel.invokeFunction('convertToInteractive',\n",
              "                                                     [key], {});\n",
              "          if (!dataTable) return;\n",
              "\n",
              "          const docLinkHtml = 'Like what you see? Visit the ' +\n",
              "            '<a target=\"_blank\" href=https://colab.research.google.com/notebooks/data_table.ipynb>data table notebook</a>'\n",
              "            + ' to learn more about interactive tables.';\n",
              "          element.innerHTML = '';\n",
              "          dataTable['output_type'] = 'display_data';\n",
              "          await google.colab.output.renderOutput(dataTable, element);\n",
              "          const docLink = document.createElement('div');\n",
              "          docLink.innerHTML = docLinkHtml;\n",
              "          element.appendChild(docLink);\n",
              "        }\n",
              "      </script>\n",
              "    </div>\n",
              "  </div>\n",
              "  "
            ]
          },
          "metadata": {},
          "execution_count": 79
        }
      ]
    },
    {
      "cell_type": "code",
      "execution_count": 80,
      "metadata": {
        "colab": {
          "base_uri": "https://localhost:8080/",
          "height": 803
        },
        "id": "dCDWE9lY5sj2",
        "outputId": "9e92b405-4afd-4330-dd0a-06ce67f16aa6"
      },
      "outputs": [
        {
          "output_type": "display_data",
          "data": {
            "text/plain": [
              "<Figure size 432x288 with 1 Axes>"
            ],
            "image/png": "[encoded data removed]"
          },
          "metadata": {
            "needs_background": "light"
          }
        },
        {
          "output_type": "display_data",
          "data": {
            "text/plain": [
              "<Figure size 432x288 with 1 Axes>"
            ],
            "image/png": "[encoded data removed]"
          },
          "metadata": {
            "needs_background": "light"
          }
        },
        {
          "output_type": "display_data",
          "data": {
            "text/plain": [
              "<Figure size 432x288 with 1 Axes>"
            ],
            "image/png": "[encoded data removed]"
          },
          "metadata": {
            "needs_background": "light"
          }
        }
      ],
      "source": [
        "getColor = lambda x: 'red' if x == 0 else 'blue'\n",
        "color = list(map(getColor, data['purchased']))\n",
        "\n",
        "data.plot(kind='scatter', x='age', y='salary', c=color)\n",
        "plot.show()\n",
        "\n",
        "data.plot(kind='scatter', x='age', y='purchased')\n",
        "plot.show()\n",
        "\n",
        "data.plot(kind='scatter', x='salary', y='purchased')\n",
        "plot.show()"
      ],
      "id": "dCDWE9lY5sj2"
    },
    {
      "cell_type": "code",
      "execution_count": 81,
      "metadata": {
        "colab": {
          "base_uri": "https://localhost:8080/",
          "height": 35
        },
        "id": "hJWPT4d95sj3",
        "outputId": "d2fe5f9f-bde9-4035-f41e-1bb4aff6ef1a"
      },
      "outputs": [
        {
          "output_type": "execute_result",
          "data": {
            "text/plain": [
              "'x_train = x[0:320]\\ny_train = y[0:320]\\nx_test = x[320:]\\ny_test = y[320:]'"
            ],
            "application/vnd.google.colaboratory.intrinsic+json": {
              "type": "string"
            }
          },
          "metadata": {},
          "execution_count": 81
        }
      ],
      "source": [
        "x = data.drop(columns = ['purchased']).to_numpy().reshape((-1,2))\n",
        "y = data['purchased'].to_numpy()\n",
        "\n",
        "x_train, x_test, y_train, y_test = train_test_split(x, y)\n",
        "\n",
        "'''x_train = x[0:320]\n",
        "y_train = y[0:320]\n",
        "x_test = x[320:]\n",
        "y_test = y[320:]'''"
      ],
      "id": "hJWPT4d95sj3"
    },
    {
      "cell_type": "code",
      "execution_count": 82,
      "metadata": {
        "colab": {
          "base_uri": "https://localhost:8080/"
        },
        "id": "cloSeeUe5sj5",
        "outputId": "1b36bb76-4dbd-4860-8283-0817e2371576"
      },
      "outputs": [
        {
          "output_type": "execute_result",
          "data": {
            "text/plain": [
              "(300, 2)"
            ]
          },
          "metadata": {},
          "execution_count": 82
        }
      ],
      "source": [
        "x_train.shape"
      ],
      "id": "cloSeeUe5sj5"
    },
    {
      "cell_type": "code",
      "execution_count": 83,
      "metadata": {
        "colab": {
          "base_uri": "https://localhost:8080/"
        },
        "id": "BDerm2jU5sj6",
        "outputId": "5a0746e4-8d0a-4502-d7dd-4197a60f9e46"
      },
      "outputs": [
        {
          "output_type": "execute_result",
          "data": {
            "text/plain": [
              "(100, 2)"
            ]
          },
          "metadata": {},
          "execution_count": 83
        }
      ],
      "source": [
        "x_test.shape"
      ],
      "id": "BDerm2jU5sj6"
    },
    {
      "cell_type": "code",
      "execution_count": 84,
      "metadata": {
        "id": "Kt3AZVl55sj8"
      },
      "outputs": [],
      "source": [
        "def zscore_normalize_features(X):\n",
        "    \"\"\"\n",
        "    computes  X, zcore normalized by column\n",
        "    \n",
        "    Args:\n",
        "      X (ndarray (m,n))     : input data, m examples, n features\n",
        "      \n",
        "    Returns:\n",
        "      X_norm (ndarray (m,n)): input normalized by column\n",
        "      mu (ndarray (n,))     : mean of each feature\n",
        "      sigma (ndarray (n,))  : standard deviation of each feature\n",
        "    \"\"\"\n",
        "    # find the mean of each column/feature\n",
        "    mu     = np.mean(X, axis=0)                 # mu will have shape (n,)\n",
        "    # find the standard deviation of each column/feature\n",
        "    sigma  = np.std(X, axis=0)                  # sigma will have shape (n,)\n",
        "    # element-wise, subtract mu for that column from each example, divide by std for that column\n",
        "    X_norm = (X - mu) / sigma      \n",
        "\n",
        "    return (X_norm, mu, sigma)"
      ],
      "id": "Kt3AZVl55sj8"
    },
    {
      "cell_type": "code",
      "execution_count": 85,
      "metadata": {
        "id": "z0Ahtz9t5sj-"
      },
      "outputs": [],
      "source": [
        "mu     = np.mean(x_train,axis=0)   \n",
        "sigma  = np.std(x_train,axis=0) \n",
        "X_mean = (x_train - mu)\n",
        "x_norm = (x_train - mu)/sigma  \n",
        "x_train = x_norm"
      ],
      "id": "z0Ahtz9t5sj-"
    },
    {
      "cell_type": "code",
      "execution_count": 86,
      "metadata": {
        "id": "IK35cZBA5sj_"
      },
      "outputs": [],
      "source": [
        "# UNQ_C1\n",
        "# GRADED FUNCTION: sigmoid\n",
        "\n",
        "def sigmoid(z):\n",
        "    return 1/(1+np.exp(-z))"
      ],
      "id": "IK35cZBA5sj_"
    },
    {
      "cell_type": "code",
      "execution_count": 87,
      "metadata": {
        "colab": {
          "base_uri": "https://localhost:8080/"
        },
        "id": "dEkNwVyP5skB",
        "outputId": "e13180dc-934b-47c6-b71b-ca594686a03d"
      },
      "outputs": [
        {
          "output_type": "execute_result",
          "data": {
            "text/plain": [
              "0.5"
            ]
          },
          "metadata": {},
          "execution_count": 87
        }
      ],
      "source": [
        "sigmoid(0)"
      ],
      "id": "dEkNwVyP5skB"
    },
    {
      "cell_type": "code",
      "execution_count": 88,
      "metadata": {
        "id": "R2O_1sn65skC"
      },
      "outputs": [],
      "source": [
        "def compute_cost(X, y, w, b, lambda_= 1): # why lambda_ arg??\n",
        "    m, n = X.shape\n",
        "    cost = 0.0\n",
        "    \n",
        "    for i in range(m):\n",
        "        z = np.dot(X[i],w) + b\n",
        "        f_wb = sigmoid(z)\n",
        "        cost += -y[i] * np.log(f_wb) - (1-y[i])*np.log(1-f_wb) # we may get nan beacuase of log(1-1) = inf so we will normalize data first\n",
        "    total_cost = cost/m\n",
        "    return total_cost"
      ],
      "id": "R2O_1sn65skC"
    },
    {
      "cell_type": "code",
      "execution_count": 89,
      "metadata": {
        "colab": {
          "base_uri": "https://localhost:8080/"
        },
        "id": "NxDyj9um5skD",
        "outputId": "5d1fdac3-3ce1-43e5-9fad-b685ff80dc39"
      },
      "outputs": [
        {
          "output_type": "stream",
          "name": "stdout",
          "text": [
            "Cost at initial w (zeros): 0.693\n"
          ]
        }
      ],
      "source": [
        "m, n = x_train.shape\n",
        "\n",
        "# Compute and display cost with w initialized to zeroes\n",
        "initial_w = np.zeros(n)\n",
        "initial_b = 0.\n",
        "cost = compute_cost(x_train, y_train, initial_w, initial_b)\n",
        "print('Cost at initial w (zeros): {:.3f}'.format(cost))"
      ],
      "id": "NxDyj9um5skD"
    },
    {
      "cell_type": "code",
      "execution_count": 90,
      "metadata": {
        "colab": {
          "base_uri": "https://localhost:8080/"
        },
        "id": "WS6a0l9b5skE",
        "outputId": "3ed7c394-b5e1-4c69-89cb-da8cd7641a21"
      },
      "outputs": [
        {
          "output_type": "stream",
          "name": "stdout",
          "text": [
            "Cost at test w,b: 0.733\n"
          ]
        }
      ],
      "source": [
        "w = np.array([0.2, 0.2])\n",
        "b = 0.5\n",
        "\n",
        "\n",
        "cost = compute_cost(x_train , y_train, w, b)\n",
        "\n",
        "print('Cost at test w,b: {:.3f}'.format(cost))"
      ],
      "id": "WS6a0l9b5skE"
    },
    {
      "cell_type": "code",
      "execution_count": 91,
      "metadata": {
        "id": "QUqgNuQu5skF"
      },
      "outputs": [],
      "source": [
        "def compute_gradient(X, y, w, b, lambda_=None): \n",
        "    m, n = X.shape\n",
        "    dj_dw = np.zeros(w.shape)\n",
        "    dj_db = 0.\n",
        "    for i in range(m):\n",
        "        f_wb_i = sigmoid(np.dot(X[i],w) + b)          \n",
        "        err_i  = f_wb_i  - y[i]                       \n",
        "        for j in range(n):\n",
        "            dj_dw[j] = dj_dw[j] + err_i * X[i,j]      \n",
        "        dj_db = dj_db + err_i\n",
        "    dj_dw = dj_dw/m                                   \n",
        "    dj_db = dj_db/m                                   \n",
        "        \n",
        "    return dj_db, dj_dw"
      ],
      "id": "QUqgNuQu5skF"
    },
    {
      "cell_type": "code",
      "execution_count": 92,
      "metadata": {
        "colab": {
          "base_uri": "https://localhost:8080/",
          "height": 174
        },
        "id": "2aLIwdR65skF",
        "outputId": "af2e9ed9-11d6-4b8c-f544-1aac23812fa5"
      },
      "outputs": [
        {
          "output_type": "execute_result",
          "data": {
            "text/plain": [
              "'def gradient_descent(X, y, w_in, b_in, cost_function, gradient_function, alpha, num_iters, lambda_): \\n    # number of training examples\\n    m = len(X)\\n    # An array to store cost J and w\\'s at each iteration primarily for graphing later\\n    J_history = []\\n    w_history = []\\n    for i in range(num_iters):\\n\\n        # Calculate the gradient and update the parameters\\n        dj_db, dj_dw = gradient_function(X, y, w_in, b_in, lambda_)   \\n\\n        # Update Parameters using w, b, alpha and gradient\\n        w_in = w_in - alpha * dj_dw               \\n        b_in = b_in - alpha * dj_db              \\n       \\n        # Save cost J at each iteration\\n        if i<100000:      # prevent resource exhaustion \\n            cost =  cost_function(X, y, w_in, b_in, lambda_)\\n            J_history.append(cost)\\n\\n        # Print cost every at intervals 10 times or as many iterations if < 10\\n        if i% math.ceil(num_iters/10) == 0 or i == (num_iters-1):\\n            w_history.apend(w_in)\\n            print(f\"Iteration {i:4}: Cost {float(J_history[-1]):8.2f}   \")\\n        \\n    return w_in, b_in, J_history, w_history #return w and J,w history for graphing'"
            ],
            "application/vnd.google.colaboratory.intrinsic+json": {
              "type": "string"
            }
          },
          "metadata": {},
          "execution_count": 92
        }
      ],
      "source": [
        "'''def gradient_descent(X, y, w_in, b_in, cost_function, gradient_function, alpha, num_iters, lambda_): \n",
        "    # number of training examples\n",
        "    m = len(X)\n",
        "    # An array to store cost J and w's at each iteration primarily for graphing later\n",
        "    J_history = []\n",
        "    w_history = []\n",
        "    for i in range(num_iters):\n",
        "\n",
        "        # Calculate the gradient and update the parameters\n",
        "        dj_db, dj_dw = gradient_function(X, y, w_in, b_in, lambda_)   \n",
        "\n",
        "        # Update Parameters using w, b, alpha and gradient\n",
        "        w_in = w_in - alpha * dj_dw               \n",
        "        b_in = b_in - alpha * dj_db              \n",
        "       \n",
        "        # Save cost J at each iteration\n",
        "        if i<100000:      # prevent resource exhaustion \n",
        "            cost =  cost_function(X, y, w_in, b_in, lambda_)\n",
        "            J_history.append(cost)\n",
        "\n",
        "        # Print cost every at intervals 10 times or as many iterations if < 10\n",
        "        if i% math.ceil(num_iters/10) == 0 or i == (num_iters-1):\n",
        "            w_history.apend(w_in)\n",
        "            print(f\"Iteration {i:4}: Cost {float(J_history[-1]):8.2f}   \")\n",
        "        \n",
        "    return w_in, b_in, J_history, w_history #return w and J,w history for graphing'''"
      ],
      "id": "2aLIwdR65skF"
    },
    {
      "cell_type": "code",
      "execution_count": 93,
      "metadata": {
        "id": "bQKY6D5X5skH"
      },
      "outputs": [],
      "source": [
        "def gradient_descent(X, y, w_in, b_in, alpha, num_iters): \n",
        "    \"\"\"\n",
        "    Performs batch gradient descent\n",
        "    \n",
        "    Args:\n",
        "      X (ndarray (m,n)   : Data, m examples with n features\n",
        "      y (ndarray (m,))   : target values\n",
        "      w_in (ndarray (n,)): Initial values of model parameters  \n",
        "      b_in (scalar)      : Initial values of model parameter\n",
        "      alpha (float)      : Learning rate\n",
        "      num_iters (scalar) : number of iterations to run gradient descent\n",
        "      \n",
        "    Returns:\n",
        "      w (ndarray (n,))   : Updated values of parameters\n",
        "      b (scalar)         : Updated value of parameter \n",
        "    \"\"\"\n",
        "    # An array to store cost J and w's at each iteration primarily for graphing later\n",
        "    J_history = []\n",
        "    w = copy.deepcopy(w_in)  #avoid modifying global w within function\n",
        "    b = b_in\n",
        "    \n",
        "    for i in range(num_iters):\n",
        "        # Calculate the gradient and update the parameters\n",
        "        dj_db, dj_dw = compute_gradient(X, y, w, b)   \n",
        "\n",
        "        # Update Parameters using w, b, alpha and gradient\n",
        "        w = w - alpha * dj_dw               \n",
        "        b = b - alpha * dj_db               \n",
        "      \n",
        "        # Save cost J at each iteration\n",
        "        if i<100000:      # prevent resource exhaustion \n",
        "            J_history.append( compute_cost(X, y, w, b) )\n",
        "\n",
        "        # Print cost every at intervals 10 times or as many iterations if < 10\n",
        "        if i% math.ceil(num_iters / 10) == 0:\n",
        "            print(f\"Iteration {i:4d}: Cost {J_history[-1]}   \")\n",
        "        \n",
        "    return w, b, J_history         #return final w,b and J history for graphing"
      ],
      "id": "bQKY6D5X5skH"
    },
    {
      "cell_type": "code",
      "execution_count": null,
      "metadata": {
        "colab": {
          "base_uri": "https://localhost:8080/"
        },
        "id": "qsWYollV5skI",
        "outputId": "d4947702-ebbc-4640-f2d9-69c03111c7de"
      },
      "outputs": [
        {
          "output_type": "stream",
          "name": "stdout",
          "text": [
            "Iteration    0: Cost 0.6799355906621887   \n",
            "Iteration 1000: Cost 0.365003229462149   \n",
            "Iteration 2000: Cost 0.3649774985847046   \n",
            "Iteration 3000: Cost 0.3649774623627533   \n",
            "Iteration 4000: Cost 0.36497746230959566   \n"
          ]
        }
      ],
      "source": [
        "w_tmp  = np.zeros_like(x_train[0])\n",
        "b_tmp  = 0.\n",
        "alph = 0.1\n",
        "iters = 10000\n",
        "lambda_ = 1\n",
        "\n",
        "w_out, b_out, J_history = gradient_descent(x_train, y_train, w_tmp, b_tmp, alph, iters) \n",
        "print(f\"\\nupdated parameters: w:{w_out}, b:{b_out}\")"
      ],
      "id": "qsWYollV5skI"
    },
    {
      "cell_type": "code",
      "execution_count": null,
      "metadata": {
        "id": "0-LoDV5O5skJ"
      },
      "outputs": [],
      "source": [
        "w_tmp  = np.zeros_like(x_train[0])\n",
        "b_tmp  = 0.\n",
        "alph = 0.01\n",
        "iters = 10000\n",
        "lambda_ = 1\n",
        "\n",
        "w_out, b_out, J_history = gradient_descent(x_train, y_train, w_tmp, b_tmp, alph, iters) \n",
        "print(f\"\\nupdated parameters: w:{w_out}, b:{b_out}\")"
      ],
      "id": "0-LoDV5O5skJ"
    },
    {
      "cell_type": "code",
      "execution_count": null,
      "metadata": {
        "id": "Vw_TQ-cP5skK"
      },
      "outputs": [],
      "source": [
        "fig, ax1 = plot.subplots(1, 1, constrained_layout=True, figsize=(12,4))\n",
        "ax1.plot(J_history)\n",
        "plot.show()"
      ],
      "id": "Vw_TQ-cP5skK"
    },
    {
      "cell_type": "code",
      "source": [
        "w_tmp  = np.zeros_like(x_train[0])\n",
        "b_tmp  = 0.\n",
        "alph = 0.001\n",
        "iters = 10000\n",
        "\n",
        "\n",
        "w_out, b_out, J_history = gradient_descent(x_train, y_train, w_tmp, b_tmp, alph, iters) \n",
        "print(f\"\\nupdated parameters: w:{w_out}, b:{b_out}\")"
      ],
      "metadata": {
        "id": "yq1bK4Of_1Dz"
      },
      "id": "yq1bK4Of_1Dz",
      "execution_count": null,
      "outputs": []
    },
    {
      "cell_type": "code",
      "source": [
        "w_tmp  = np.zeros_like(x_train[0])\n",
        "b_tmp  = 0.\n",
        "alph = 0.0001\n",
        "iters = 10000\n",
        "\n",
        "\n",
        "w_out, b_out, J_history = gradient_descent(x_train, y_train, w_tmp, b_tmp, alph, iters) \n",
        "print(f\"\\nupdated parameters: w:{w_out}, b:{b_out}\")"
      ],
      "metadata": {
        "id": "ZZgArQGDAO8f"
      },
      "id": "ZZgArQGDAO8f",
      "execution_count": null,
      "outputs": []
    },
    {
      "cell_type": "code",
      "execution_count": null,
      "metadata": {
        "id": "4THMCHLj5skK"
      },
      "outputs": [],
      "source": [
        "\n",
        "def predict(X, w, b): \n",
        "   \n",
        "    # number of training examples\n",
        "    m, n = X.shape   \n",
        "    p = np.zeros(m)\n",
        "   \n",
        "    ### START CODE HERE ### \n",
        "    # Loop over each example\n",
        "    for i in range(m):   \n",
        "        z_wb = np.dot(X[i],w) \n",
        "        # Loop over each feature\n",
        "        '''for j in range(n): \n",
        "            # Add the corresponding term to z_wb\n",
        "            z_wb += 0'''\n",
        "        \n",
        "        # Add bias term \n",
        "        z_wb += b\n",
        "        \n",
        "        # Calculate the prediction for this example\n",
        "        f_wb = sigmoid(z_wb)\n",
        "\n",
        "        # Apply the threshold\n",
        "        p[i] = 1 if f_wb>0.5 else 0\n",
        "        \n",
        "    ### END CODE HERE ### \n",
        "    return p"
      ],
      "id": "4THMCHLj5skK"
    },
    {
      "cell_type": "code",
      "execution_count": null,
      "metadata": {
        "id": "giELzi6X5skL"
      },
      "outputs": [],
      "source": [
        "\n",
        "def accurecy(yPred, yTrue):\n",
        "  return 1- np.sum(np.abs(yPred-yTrue))/len(yPred)"
      ],
      "id": "giELzi6X5skL"
    },
    {
      "cell_type": "code",
      "execution_count": null,
      "metadata": {
        "id": "wV_j7e9C5skL"
      },
      "outputs": [],
      "source": [
        "yPred = predict(x_test, w_out, b_out)\n",
        "acc = accurecy(yPred, y_test)\n",
        "print(f\"accurecy= {acc}\")\n"
      ],
      "id": "wV_j7e9C5skL"
    },
    {
      "cell_type": "code",
      "execution_count": null,
      "metadata": {
        "id": "xdSKcpLi5skM"
      },
      "outputs": [],
      "source": [
        "yPred = predict(x_train, w_out, b_out)\n",
        "acc = accurecy(yPred, y_train)\n",
        "print(f\"accurecy= {acc}\")\n"
      ],
      "id": "xdSKcpLi5skM"
    },
    {
      "cell_type": "code",
      "execution_count": null,
      "metadata": {
        "id": "mbWO66dT5skM"
      },
      "outputs": [],
      "source": [],
      "id": "mbWO66dT5skM"
    },
    {
      "cell_type": "code",
      "execution_count": null,
      "metadata": {
        "id": "XvNp5jKD5skM"
      },
      "outputs": [],
      "source": [],
      "id": "XvNp5jKD5skM"
    }
  ],
  "metadata": {
    "kernelspec": {
      "display_name": "Python 3",
      "language": "python",
      "name": "python3"
    },
    "language_info": {
      "codemirror_mode": {
        "name": "ipython",
        "version": 3
      },
      "file_extension": ".py",
      "mimetype": "text/x-python",
      "name": "python",
      "nbconvert_exporter": "python",
      "pygments_lexer": "ipython3",
      "version": "3.6.6"
    },
    "colab": {
      "provenance": []
    }
  },
  "nbformat": 4,
  "nbformat_minor": 5
}