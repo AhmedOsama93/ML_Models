{
  "nbformat": 4,
  "nbformat_minor": 0,
  "metadata": {
    "colab": {
      "provenance": []
    },
    "kernelspec": {
      "name": "python3",
      "display_name": "Python 3"
    },
    "language_info": {
      "name": "python"
    },
    "accelerator": "GPU",
    "gpuClass": "standard"
  },
  "cells": [
    {
      "cell_type": "markdown",
      "source": [
        "**OSSSSSSSSSSSS**\n",
        "\n",
        "**Source: https://www.techwithtim.net/tutorials/python-neural-networks/creating-a-model/**"
      ],
      "metadata": {
        "id": "N7DEvwFi9woT"
      }
    },
    {
      "cell_type": "code",
      "source": [
        "!git clone https://github.com/ardamavi/Sign-Language-Digits-Dataset.git"
      ],
      "metadata": {
        "id": "74pKR11DySaD",
        "colab": {
          "base_uri": "https://localhost:8080/"
        },
        "outputId": "dcc4076f-3c37-477f-d983-d8b5bfea45dd"
      },
      "execution_count": null,
      "outputs": [
        {
          "output_type": "stream",
          "name": "stdout",
          "text": [
            "Cloning into 'Sign-Language-Digits-Dataset'...\n",
            "remote: Enumerating objects: 2095, done.\u001b[K\n",
            "remote: Counting objects: 100% (6/6), done.\u001b[K\n",
            "remote: Compressing objects: 100% (6/6), done.\u001b[K\n",
            "remote: Total 2095 (delta 2), reused 0 (delta 0), pack-reused 2089\u001b[K\n",
            "Receiving objects: 100% (2095/2095), 15.07 MiB | 5.19 MiB/s, done.\n",
            "Resolving deltas: 100% (660/660), done.\n"
          ]
        }
      ]
    },
    {
      "cell_type": "code",
      "source": [],
      "metadata": {
        "id": "gjjm_cO8ZXqJ"
      },
      "execution_count": null,
      "outputs": []
    },
    {
      "cell_type": "code",
      "source": [
        "import numpy as np\n",
        "import matplotlib.pyplot as plt\n",
        "import os\n",
        "import cv2\n",
        "import random\n",
        "from sklearn.model_selection import train_test_split\n",
        "import tensorflow as tf\n",
        "from tensorflow import keras\n",
        "from keras import layers\n",
        "from sklearn.model_selection import KFold\n",
        "from sklearn import metrics as mt\n",
        "from sklearn.metrics import confusion_matrix,precision_score,recall_score,f1_score,classification_report\n",
        "from sklearn.model_selection import KFold, cross_val_score\n",
        "import tensorflow as tf\n",
        "from sklearn.metrics import confusion_matrix,precision_score,recall_score,f1_score,classification_report\n"
      ],
      "metadata": {
        "id": "x-hrQCSh9vkO"
      },
      "execution_count": null,
      "outputs": []
    },
    {
      "cell_type": "code",
      "source": [],
      "metadata": {
        "id": "w4lJi-1LEk74"
      },
      "execution_count": null,
      "outputs": []
    },
    {
      "cell_type": "code",
      "source": [
        "folder_dir = 'Sign-Language-Digits-Dataset/Dataset/'\n",
        "i=0\n",
        "data=[]\n",
        "for image_class in os.listdir(folder_dir):#Big_folders\n",
        "    for image in os.listdir(os.path.join(folder_dir,image_class)):#small_folders\n",
        "        image_path =os.path.join(folder_dir,image_class,image)\n",
        "        img = cv2.imread(image_path, cv2.IMREAD_GRAYSCALE) # read image and convert to gray scale\n",
        "        img = cv2.resize(img,(100,100))# resize image\n",
        "        img =img/255#scale image /255\n",
        "        data.append([i,img]) #data\n",
        "    i+=1 #label\n"
      ],
      "metadata": {
        "id": "Ys3dtkrKziH2"
      },
      "execution_count": null,
      "outputs": []
    },
    {
      "cell_type": "code",
      "source": [
        "# shuffling data\n",
        "random.shuffle(data)"
      ],
      "metadata": {
        "id": "87UyJUL8EFWA"
      },
      "execution_count": null,
      "outputs": []
    },
    {
      "cell_type": "code",
      "source": [
        "#split data to x(image) and y(label)\n",
        "x=[]\n",
        "y=[]\n",
        "for label, img in data:\n",
        "  x.append(img)\n",
        "  y.append(label)\n",
        "x=np.array(x)\n",
        "y=np.array(y)"
      ],
      "metadata": {
        "id": "qvz1B76KE7N9"
      },
      "execution_count": null,
      "outputs": []
    },
    {
      "cell_type": "code",
      "source": [
        "x_train, x_test, y_train, y_test = train_test_split(x,y, random_state = 50, train_size=0.8)"
      ],
      "metadata": {
        "id": "TOmKhiuFwFZx"
      },
      "execution_count": null,
      "outputs": []
    },
    {
      "cell_type": "code",
      "source": [
        "x_train.shape"
      ],
      "metadata": {
        "colab": {
          "base_uri": "https://localhost:8080/"
        },
        "id": "mfZlAKecX9yL",
        "outputId": "8e5eaa00-fd1f-49f5-a641-093e9f521e65"
      },
      "execution_count": null,
      "outputs": [
        {
          "output_type": "execute_result",
          "data": {
            "text/plain": [
              "(1649, 100, 100)"
            ]
          },
          "metadata": {},
          "execution_count": 12
        }
      ]
    },
    {
      "cell_type": "code",
      "source": [
        "x_train.shape"
      ],
      "metadata": {
        "colab": {
          "base_uri": "https://localhost:8080/"
        },
        "id": "DIVS425YoYdl",
        "outputId": "a692c678-f329-4141-b5e2-f2ffd50ad4f5"
      },
      "execution_count": null,
      "outputs": [
        {
          "output_type": "execute_result",
          "data": {
            "text/plain": [
              "(1649, 100, 100)"
            ]
          },
          "metadata": {},
          "execution_count": 13
        }
      ]
    },
    {
      "cell_type": "code",
      "source": [
        "\n",
        "STmodel = keras.Sequential([\n",
        "\tkeras.layers.Flatten(input_shape=(100,100)),\n",
        "\tkeras.layers.Dense(1000, activation=\"relu\"),\n",
        "\tkeras.layers.Dense(10, activation=\"softmax\")\n",
        "\t])\n",
        "STmodel.compile(optimizer=\"adam\", loss=\"sparse_categorical_crossentropy\", metrics=['accuracy'])\n",
        "STmodel.fit(x_train, y_train, epochs=100, validation_data=( x_test, y_test))"
      ],
      "metadata": {
        "colab": {
          "base_uri": "https://localhost:8080/"
        },
        "id": "HA1DOesVF8xu",
        "outputId": "d0718069-bd35-4b25-f5ae-f316b575b9d4"
      },
      "execution_count": null,
      "outputs": [
        {
          "output_type": "stream",
          "name": "stdout",
          "text": [
            "Epoch 1/100\n",
            "52/52 [==============================] - 3s 10ms/step - loss: 7.5868 - accuracy: 0.1395 - val_loss: 2.4043 - val_accuracy: 0.0993\n",
            "Epoch 2/100\n",
            "52/52 [==============================] - 0s 5ms/step - loss: 2.1341 - accuracy: 0.2638 - val_loss: 1.9156 - val_accuracy: 0.3414\n",
            "Epoch 3/100\n",
            "52/52 [==============================] - 0s 6ms/step - loss: 1.8587 - accuracy: 0.3469 - val_loss: 1.7996 - val_accuracy: 0.3826\n",
            "Epoch 4/100\n",
            "52/52 [==============================] - 0s 5ms/step - loss: 1.6722 - accuracy: 0.4427 - val_loss: 1.5845 - val_accuracy: 0.4794\n",
            "Epoch 5/100\n",
            "52/52 [==============================] - 0s 5ms/step - loss: 1.4825 - accuracy: 0.5264 - val_loss: 1.5434 - val_accuracy: 0.4843\n",
            "Epoch 6/100\n",
            "52/52 [==============================] - 0s 6ms/step - loss: 1.4216 - accuracy: 0.5209 - val_loss: 1.6221 - val_accuracy: 0.4552\n",
            "Epoch 7/100\n",
            "52/52 [==============================] - 0s 5ms/step - loss: 1.2839 - accuracy: 0.5846 - val_loss: 1.4235 - val_accuracy: 0.5327\n",
            "Epoch 8/100\n",
            "52/52 [==============================] - 0s 6ms/step - loss: 1.1894 - accuracy: 0.6101 - val_loss: 1.5152 - val_accuracy: 0.5472\n",
            "Epoch 9/100\n",
            "52/52 [==============================] - 0s 5ms/step - loss: 1.1523 - accuracy: 0.6167 - val_loss: 1.1586 - val_accuracy: 0.6199\n",
            "Epoch 10/100\n",
            "52/52 [==============================] - 0s 6ms/step - loss: 1.0349 - accuracy: 0.6768 - val_loss: 1.1086 - val_accuracy: 0.6247\n",
            "Epoch 11/100\n",
            "52/52 [==============================] - 0s 6ms/step - loss: 0.9827 - accuracy: 0.6847 - val_loss: 1.1278 - val_accuracy: 0.6053\n",
            "Epoch 12/100\n",
            "52/52 [==============================] - 0s 6ms/step - loss: 0.9631 - accuracy: 0.6938 - val_loss: 1.1734 - val_accuracy: 0.6077\n",
            "Epoch 13/100\n",
            "52/52 [==============================] - 0s 6ms/step - loss: 0.8450 - accuracy: 0.7423 - val_loss: 0.9774 - val_accuracy: 0.6852\n",
            "Epoch 14/100\n",
            "52/52 [==============================] - 0s 6ms/step - loss: 0.8779 - accuracy: 0.7144 - val_loss: 1.1538 - val_accuracy: 0.6247\n",
            "Epoch 15/100\n",
            "52/52 [==============================] - 0s 6ms/step - loss: 0.8485 - accuracy: 0.7271 - val_loss: 1.2152 - val_accuracy: 0.5884\n",
            "Epoch 16/100\n",
            "52/52 [==============================] - 0s 5ms/step - loss: 0.9009 - accuracy: 0.7119 - val_loss: 1.1090 - val_accuracy: 0.6295\n",
            "Epoch 17/100\n",
            "52/52 [==============================] - 0s 6ms/step - loss: 0.8149 - accuracy: 0.7404 - val_loss: 1.0193 - val_accuracy: 0.6562\n",
            "Epoch 18/100\n",
            "52/52 [==============================] - 0s 5ms/step - loss: 0.7853 - accuracy: 0.7398 - val_loss: 1.0612 - val_accuracy: 0.6247\n",
            "Epoch 19/100\n",
            "52/52 [==============================] - 0s 5ms/step - loss: 0.7832 - accuracy: 0.7404 - val_loss: 0.8820 - val_accuracy: 0.7191\n",
            "Epoch 20/100\n",
            "52/52 [==============================] - 0s 6ms/step - loss: 0.7787 - accuracy: 0.7386 - val_loss: 1.4222 - val_accuracy: 0.5400\n",
            "Epoch 21/100\n",
            "52/52 [==============================] - 0s 6ms/step - loss: 0.7331 - accuracy: 0.7526 - val_loss: 0.8891 - val_accuracy: 0.7143\n",
            "Epoch 22/100\n",
            "52/52 [==============================] - 0s 6ms/step - loss: 0.6612 - accuracy: 0.7853 - val_loss: 1.0695 - val_accuracy: 0.6562\n",
            "Epoch 23/100\n",
            "52/52 [==============================] - 0s 5ms/step - loss: 0.7197 - accuracy: 0.7556 - val_loss: 0.8063 - val_accuracy: 0.7433\n",
            "Epoch 24/100\n",
            "52/52 [==============================] - 0s 6ms/step - loss: 0.7216 - accuracy: 0.7683 - val_loss: 0.8586 - val_accuracy: 0.7143\n",
            "Epoch 25/100\n",
            "52/52 [==============================] - 0s 6ms/step - loss: 0.6871 - accuracy: 0.7690 - val_loss: 0.8663 - val_accuracy: 0.7312\n",
            "Epoch 26/100\n",
            "52/52 [==============================] - 0s 5ms/step - loss: 0.6407 - accuracy: 0.7920 - val_loss: 0.8382 - val_accuracy: 0.7288\n",
            "Epoch 27/100\n",
            "52/52 [==============================] - 0s 5ms/step - loss: 0.6049 - accuracy: 0.8108 - val_loss: 0.8018 - val_accuracy: 0.7264\n",
            "Epoch 28/100\n",
            "52/52 [==============================] - 0s 6ms/step - loss: 0.5907 - accuracy: 0.8120 - val_loss: 0.8195 - val_accuracy: 0.7361\n",
            "Epoch 29/100\n",
            "52/52 [==============================] - 0s 5ms/step - loss: 0.5305 - accuracy: 0.8290 - val_loss: 0.8528 - val_accuracy: 0.7264\n",
            "Epoch 30/100\n",
            "52/52 [==============================] - 0s 5ms/step - loss: 0.5375 - accuracy: 0.8284 - val_loss: 0.8352 - val_accuracy: 0.7119\n",
            "Epoch 31/100\n",
            "52/52 [==============================] - 0s 6ms/step - loss: 0.5610 - accuracy: 0.8114 - val_loss: 0.8357 - val_accuracy: 0.7191\n",
            "Epoch 32/100\n",
            "52/52 [==============================] - 0s 6ms/step - loss: 0.6112 - accuracy: 0.7926 - val_loss: 0.9479 - val_accuracy: 0.6707\n",
            "Epoch 33/100\n",
            "52/52 [==============================] - 0s 6ms/step - loss: 0.5492 - accuracy: 0.8102 - val_loss: 0.8012 - val_accuracy: 0.7312\n",
            "Epoch 34/100\n",
            "52/52 [==============================] - 0s 6ms/step - loss: 0.5584 - accuracy: 0.8047 - val_loss: 0.8452 - val_accuracy: 0.7361\n",
            "Epoch 35/100\n",
            "52/52 [==============================] - 0s 5ms/step - loss: 0.5143 - accuracy: 0.8369 - val_loss: 1.2608 - val_accuracy: 0.6005\n",
            "Epoch 36/100\n",
            "52/52 [==============================] - 0s 5ms/step - loss: 0.6444 - accuracy: 0.7835 - val_loss: 0.7957 - val_accuracy: 0.7579\n",
            "Epoch 37/100\n",
            "52/52 [==============================] - 0s 5ms/step - loss: 0.5321 - accuracy: 0.8399 - val_loss: 0.9083 - val_accuracy: 0.6901\n",
            "Epoch 38/100\n",
            "52/52 [==============================] - 0s 5ms/step - loss: 0.4651 - accuracy: 0.8520 - val_loss: 0.7676 - val_accuracy: 0.7482\n",
            "Epoch 39/100\n",
            "52/52 [==============================] - 0s 5ms/step - loss: 0.4531 - accuracy: 0.8429 - val_loss: 0.8635 - val_accuracy: 0.7240\n",
            "Epoch 40/100\n",
            "52/52 [==============================] - 0s 6ms/step - loss: 0.5239 - accuracy: 0.8247 - val_loss: 0.8977 - val_accuracy: 0.7240\n",
            "Epoch 41/100\n",
            "52/52 [==============================] - 0s 6ms/step - loss: 0.4805 - accuracy: 0.8508 - val_loss: 0.8972 - val_accuracy: 0.7046\n",
            "Epoch 42/100\n",
            "52/52 [==============================] - 0s 5ms/step - loss: 0.4737 - accuracy: 0.8466 - val_loss: 0.9734 - val_accuracy: 0.7119\n",
            "Epoch 43/100\n",
            "52/52 [==============================] - 0s 6ms/step - loss: 0.5329 - accuracy: 0.8302 - val_loss: 1.0420 - val_accuracy: 0.6634\n",
            "Epoch 44/100\n",
            "52/52 [==============================] - 0s 6ms/step - loss: 0.4554 - accuracy: 0.8563 - val_loss: 0.8414 - val_accuracy: 0.7191\n",
            "Epoch 45/100\n",
            "52/52 [==============================] - 0s 6ms/step - loss: 0.3812 - accuracy: 0.8848 - val_loss: 0.7803 - val_accuracy: 0.7506\n",
            "Epoch 46/100\n",
            "52/52 [==============================] - 0s 5ms/step - loss: 0.4604 - accuracy: 0.8411 - val_loss: 0.8626 - val_accuracy: 0.7337\n",
            "Epoch 47/100\n",
            "52/52 [==============================] - 0s 5ms/step - loss: 0.3985 - accuracy: 0.8648 - val_loss: 0.7096 - val_accuracy: 0.7821\n",
            "Epoch 48/100\n",
            "52/52 [==============================] - 0s 5ms/step - loss: 0.4661 - accuracy: 0.8454 - val_loss: 1.0505 - val_accuracy: 0.6925\n",
            "Epoch 49/100\n",
            "52/52 [==============================] - 0s 6ms/step - loss: 0.3964 - accuracy: 0.8690 - val_loss: 0.7950 - val_accuracy: 0.7433\n",
            "Epoch 50/100\n",
            "52/52 [==============================] - 0s 6ms/step - loss: 0.4336 - accuracy: 0.8569 - val_loss: 0.9141 - val_accuracy: 0.6852\n",
            "Epoch 51/100\n",
            "52/52 [==============================] - 0s 5ms/step - loss: 0.4808 - accuracy: 0.8351 - val_loss: 0.9453 - val_accuracy: 0.7240\n",
            "Epoch 52/100\n",
            "52/52 [==============================] - 0s 5ms/step - loss: 0.4688 - accuracy: 0.8417 - val_loss: 1.1082 - val_accuracy: 0.6610\n",
            "Epoch 53/100\n",
            "52/52 [==============================] - 0s 5ms/step - loss: 0.4607 - accuracy: 0.8320 - val_loss: 0.8192 - val_accuracy: 0.7458\n",
            "Epoch 54/100\n",
            "52/52 [==============================] - 0s 6ms/step - loss: 0.3921 - accuracy: 0.8775 - val_loss: 0.7618 - val_accuracy: 0.7458\n",
            "Epoch 55/100\n",
            "52/52 [==============================] - 0s 6ms/step - loss: 0.4044 - accuracy: 0.8599 - val_loss: 0.8490 - val_accuracy: 0.7530\n",
            "Epoch 56/100\n",
            "52/52 [==============================] - 0s 7ms/step - loss: 0.4021 - accuracy: 0.8666 - val_loss: 0.8606 - val_accuracy: 0.7240\n",
            "Epoch 57/100\n",
            "52/52 [==============================] - 0s 7ms/step - loss: 0.3363 - accuracy: 0.8811 - val_loss: 0.8183 - val_accuracy: 0.7724\n",
            "Epoch 58/100\n",
            "52/52 [==============================] - 1s 12ms/step - loss: 0.3824 - accuracy: 0.8817 - val_loss: 0.7686 - val_accuracy: 0.7724\n",
            "Epoch 59/100\n",
            "52/52 [==============================] - 0s 6ms/step - loss: 0.3276 - accuracy: 0.8878 - val_loss: 0.8364 - val_accuracy: 0.7482\n",
            "Epoch 60/100\n",
            "52/52 [==============================] - 0s 6ms/step - loss: 0.3736 - accuracy: 0.8684 - val_loss: 1.0317 - val_accuracy: 0.7191\n",
            "Epoch 61/100\n",
            "52/52 [==============================] - 0s 7ms/step - loss: 0.3985 - accuracy: 0.8666 - val_loss: 0.9659 - val_accuracy: 0.7337\n",
            "Epoch 62/100\n",
            "52/52 [==============================] - 0s 6ms/step - loss: 0.3833 - accuracy: 0.8745 - val_loss: 0.7768 - val_accuracy: 0.7385\n",
            "Epoch 63/100\n",
            "52/52 [==============================] - 0s 5ms/step - loss: 0.3099 - accuracy: 0.8939 - val_loss: 0.7724 - val_accuracy: 0.7579\n",
            "Epoch 64/100\n",
            "52/52 [==============================] - 0s 6ms/step - loss: 0.3489 - accuracy: 0.8842 - val_loss: 0.7554 - val_accuracy: 0.7845\n",
            "Epoch 65/100\n",
            "52/52 [==============================] - 0s 6ms/step - loss: 0.3867 - accuracy: 0.8617 - val_loss: 0.8629 - val_accuracy: 0.7458\n",
            "Epoch 66/100\n",
            "52/52 [==============================] - 0s 5ms/step - loss: 0.3764 - accuracy: 0.8654 - val_loss: 0.7584 - val_accuracy: 0.7603\n",
            "Epoch 67/100\n",
            "52/52 [==============================] - 0s 6ms/step - loss: 0.3314 - accuracy: 0.8884 - val_loss: 1.0526 - val_accuracy: 0.6998\n",
            "Epoch 68/100\n",
            "52/52 [==============================] - 0s 6ms/step - loss: 0.3620 - accuracy: 0.8690 - val_loss: 1.5082 - val_accuracy: 0.5835\n",
            "Epoch 69/100\n",
            "52/52 [==============================] - 0s 6ms/step - loss: 0.4207 - accuracy: 0.8520 - val_loss: 0.7944 - val_accuracy: 0.7918\n",
            "Epoch 70/100\n",
            "52/52 [==============================] - 0s 6ms/step - loss: 0.2633 - accuracy: 0.9206 - val_loss: 0.8063 - val_accuracy: 0.7700\n",
            "Epoch 71/100\n",
            "52/52 [==============================] - 0s 6ms/step - loss: 0.2631 - accuracy: 0.9145 - val_loss: 0.8391 - val_accuracy: 0.7385\n",
            "Epoch 72/100\n",
            "52/52 [==============================] - 0s 6ms/step - loss: 0.3220 - accuracy: 0.8945 - val_loss: 0.8050 - val_accuracy: 0.7458\n",
            "Epoch 73/100\n",
            "52/52 [==============================] - 0s 5ms/step - loss: 0.3548 - accuracy: 0.8684 - val_loss: 1.0022 - val_accuracy: 0.7094\n",
            "Epoch 74/100\n",
            "52/52 [==============================] - 0s 6ms/step - loss: 0.2960 - accuracy: 0.8963 - val_loss: 0.9005 - val_accuracy: 0.7288\n",
            "Epoch 75/100\n",
            "52/52 [==============================] - 0s 6ms/step - loss: 0.2938 - accuracy: 0.8975 - val_loss: 0.7209 - val_accuracy: 0.8015\n",
            "Epoch 76/100\n",
            "52/52 [==============================] - 0s 6ms/step - loss: 0.2986 - accuracy: 0.9036 - val_loss: 0.8736 - val_accuracy: 0.7482\n",
            "Epoch 77/100\n",
            "52/52 [==============================] - 0s 6ms/step - loss: 0.2568 - accuracy: 0.9200 - val_loss: 0.7910 - val_accuracy: 0.7772\n",
            "Epoch 78/100\n",
            "52/52 [==============================] - 0s 5ms/step - loss: 0.2793 - accuracy: 0.9090 - val_loss: 0.7849 - val_accuracy: 0.7700\n",
            "Epoch 79/100\n",
            "52/52 [==============================] - 0s 6ms/step - loss: 0.3124 - accuracy: 0.8927 - val_loss: 0.9660 - val_accuracy: 0.7288\n",
            "Epoch 80/100\n",
            "52/52 [==============================] - 0s 5ms/step - loss: 0.2642 - accuracy: 0.9139 - val_loss: 1.1094 - val_accuracy: 0.7191\n",
            "Epoch 81/100\n",
            "52/52 [==============================] - 0s 5ms/step - loss: 0.2992 - accuracy: 0.9024 - val_loss: 1.0114 - val_accuracy: 0.6659\n",
            "Epoch 82/100\n",
            "52/52 [==============================] - 0s 5ms/step - loss: 0.2953 - accuracy: 0.9036 - val_loss: 1.1403 - val_accuracy: 0.7119\n",
            "Epoch 83/100\n",
            "52/52 [==============================] - 0s 6ms/step - loss: 0.2351 - accuracy: 0.9297 - val_loss: 0.8379 - val_accuracy: 0.7603\n",
            "Epoch 84/100\n",
            "52/52 [==============================] - 0s 5ms/step - loss: 0.2613 - accuracy: 0.9024 - val_loss: 1.0195 - val_accuracy: 0.7094\n",
            "Epoch 85/100\n",
            "52/52 [==============================] - 0s 5ms/step - loss: 0.2807 - accuracy: 0.9024 - val_loss: 0.8121 - val_accuracy: 0.7748\n",
            "Epoch 86/100\n",
            "52/52 [==============================] - 0s 5ms/step - loss: 0.2108 - accuracy: 0.9303 - val_loss: 0.8751 - val_accuracy: 0.7506\n",
            "Epoch 87/100\n",
            "52/52 [==============================] - 0s 5ms/step - loss: 0.2524 - accuracy: 0.9193 - val_loss: 0.9297 - val_accuracy: 0.7506\n",
            "Epoch 88/100\n",
            "52/52 [==============================] - 0s 5ms/step - loss: 0.2311 - accuracy: 0.9200 - val_loss: 0.8175 - val_accuracy: 0.7797\n",
            "Epoch 89/100\n",
            "52/52 [==============================] - 0s 6ms/step - loss: 0.3116 - accuracy: 0.8884 - val_loss: 0.8589 - val_accuracy: 0.7748\n",
            "Epoch 90/100\n",
            "52/52 [==============================] - 0s 5ms/step - loss: 0.2313 - accuracy: 0.9248 - val_loss: 0.8419 - val_accuracy: 0.7821\n",
            "Epoch 91/100\n",
            "52/52 [==============================] - 0s 5ms/step - loss: 0.2388 - accuracy: 0.9175 - val_loss: 0.9554 - val_accuracy: 0.7191\n",
            "Epoch 92/100\n",
            "52/52 [==============================] - 0s 5ms/step - loss: 0.1765 - accuracy: 0.9521 - val_loss: 0.9108 - val_accuracy: 0.7651\n",
            "Epoch 93/100\n",
            "52/52 [==============================] - 0s 6ms/step - loss: 0.2770 - accuracy: 0.8987 - val_loss: 0.8434 - val_accuracy: 0.7579\n",
            "Epoch 94/100\n",
            "52/52 [==============================] - 0s 6ms/step - loss: 0.2882 - accuracy: 0.8951 - val_loss: 0.9037 - val_accuracy: 0.7482\n",
            "Epoch 95/100\n",
            "52/52 [==============================] - 0s 5ms/step - loss: 0.1785 - accuracy: 0.9472 - val_loss: 0.7892 - val_accuracy: 0.7603\n",
            "Epoch 96/100\n",
            "52/52 [==============================] - 0s 5ms/step - loss: 0.2068 - accuracy: 0.9309 - val_loss: 0.9737 - val_accuracy: 0.7554\n",
            "Epoch 97/100\n",
            "52/52 [==============================] - 0s 5ms/step - loss: 0.2411 - accuracy: 0.9133 - val_loss: 1.0333 - val_accuracy: 0.7143\n",
            "Epoch 98/100\n",
            "52/52 [==============================] - 0s 5ms/step - loss: 0.3947 - accuracy: 0.8581 - val_loss: 1.0445 - val_accuracy: 0.7046\n",
            "Epoch 99/100\n",
            "52/52 [==============================] - 0s 5ms/step - loss: 0.2390 - accuracy: 0.9115 - val_loss: 1.1578 - val_accuracy: 0.6973\n",
            "Epoch 100/100\n",
            "52/52 [==============================] - 0s 5ms/step - loss: 0.2191 - accuracy: 0.9333 - val_loss: 0.7265 - val_accuracy: 0.7942\n"
          ]
        },
        {
          "output_type": "execute_result",
          "data": {
            "text/plain": [
              "<keras.callbacks.History at 0x7f5ed0886670>"
            ]
          },
          "metadata": {},
          "execution_count": 14
        }
      ]
    },
    {
      "cell_type": "code",
      "source": [
        "test_loss1, test_acc1 = STmodel.evaluate(x_test, y_test)\n",
        "\n",
        "print('\\nTest accuracy for first model = :', test_acc1)"
      ],
      "metadata": {
        "id": "begtI2hooFx3",
        "colab": {
          "base_uri": "https://localhost:8080/"
        },
        "outputId": "d564ab23-f393-4caa-b6af-c730596e2381"
      },
      "execution_count": null,
      "outputs": [
        {
          "output_type": "stream",
          "name": "stdout",
          "text": [
            "13/13 [==============================] - 0s 3ms/step - loss: 0.7265 - accuracy: 0.7942\n",
            "\n",
            "Test accuracy for first model = : 0.7941888570785522\n"
          ]
        }
      ]
    },
    {
      "cell_type": "code",
      "source": [
        "def whichClass(x):\n",
        "    index=0\n",
        "    max=x[0]\n",
        "    for i in range(10):\n",
        "        if max<x[i]:\n",
        "            max=x[i]\n",
        "            index=i\n",
        "    return index"
      ],
      "metadata": {
        "id": "_hxwe-P-ffYu"
      },
      "execution_count": null,
      "outputs": []
    },
    {
      "cell_type": "code",
      "source": [
        "#Apply cross validation during training MODEL_1\n",
        "y_pred = []\n",
        "y_true = []\n",
        "kf = KFold(n_splits = 3, random_state=None, shuffle = False)\n",
        "def crossValidation(models):\n",
        "  \n",
        "  for train_index, test_index in kf.split(x_train):\n",
        "    X2_train, X2_test = x_train[train_index], x_train[test_index]\n",
        "    y2_train, y2_test = y_train[train_index], y_train[test_index]\n",
        "    models.fit(X2_train, y2_train, epochs=5)\n",
        "    loss, acc = STmodel.evaluate(X2_test, y2_test)\n",
        "    pred = models.predict(X2_test)\n",
        "  for i in range(len(pred)):\n",
        "    x = whichClass(pred[i])\n",
        "    y_pred.append(x)\n",
        "    y_true.append(y2_test[i])\n",
        "  print(\"loss= \"+ str(loss) + \" , \" + \" accuracy= \" + str(acc))"
      ],
      "metadata": {
        "id": "BIn_Z-xggixI"
      },
      "execution_count": null,
      "outputs": []
    },
    {
      "cell_type": "code",
      "source": [
        "crossValidation(STmodel)\n"
      ],
      "metadata": {
        "colab": {
          "base_uri": "https://localhost:8080/"
        },
        "id": "_FsgDGbRhw8I",
        "outputId": "ef1b172f-89e9-4a54-9e5f-87b7139ee05d"
      },
      "execution_count": null,
      "outputs": [
        {
          "output_type": "stream",
          "name": "stdout",
          "text": [
            "Epoch 1/5\n",
            "35/35 [==============================] - 0s 5ms/step - loss: 0.1814 - accuracy: 0.9463\n",
            "Epoch 2/5\n",
            "35/35 [==============================] - 0s 5ms/step - loss: 0.2815 - accuracy: 0.9008\n",
            "Epoch 3/5\n",
            "35/35 [==============================] - 0s 4ms/step - loss: 0.2571 - accuracy: 0.9035\n",
            "Epoch 4/5\n",
            "35/35 [==============================] - 0s 4ms/step - loss: 0.1465 - accuracy: 0.9591\n",
            "Epoch 5/5\n",
            "35/35 [==============================] - 0s 4ms/step - loss: 0.1673 - accuracy: 0.9545\n",
            "18/18 [==============================] - 0s 3ms/step - loss: 0.2919 - accuracy: 0.8927\n",
            "18/18 [==============================] - 0s 2ms/step\n",
            "Epoch 1/5\n",
            "35/35 [==============================] - 0s 4ms/step - loss: 0.2300 - accuracy: 0.9190\n",
            "Epoch 2/5\n",
            "35/35 [==============================] - 0s 5ms/step - loss: 0.2133 - accuracy: 0.9281\n",
            "Epoch 3/5\n",
            "35/35 [==============================] - 0s 4ms/step - loss: 0.1812 - accuracy: 0.9399\n",
            "Epoch 4/5\n",
            "35/35 [==============================] - 0s 5ms/step - loss: 0.1518 - accuracy: 0.9509\n",
            "Epoch 5/5\n",
            "35/35 [==============================] - 0s 4ms/step - loss: 0.1244 - accuracy: 0.9654\n",
            "18/18 [==============================] - 0s 3ms/step - loss: 0.1493 - accuracy: 0.9655\n",
            "18/18 [==============================] - 0s 2ms/step\n",
            "Epoch 1/5\n",
            "35/35 [==============================] - 0s 5ms/step - loss: 0.1552 - accuracy: 0.9536\n",
            "Epoch 2/5\n",
            "35/35 [==============================] - 0s 4ms/step - loss: 0.1413 - accuracy: 0.9564\n",
            "Epoch 3/5\n",
            "35/35 [==============================] - 0s 5ms/step - loss: 0.1366 - accuracy: 0.9618\n",
            "Epoch 4/5\n",
            "35/35 [==============================] - 0s 4ms/step - loss: 0.1292 - accuracy: 0.9645\n",
            "Epoch 5/5\n",
            "35/35 [==============================] - 0s 4ms/step - loss: 0.1371 - accuracy: 0.9591\n",
            "18/18 [==============================] - 0s 3ms/step - loss: 0.1243 - accuracy: 0.9654\n",
            "18/18 [==============================] - 0s 2ms/step\n",
            "loss= 0.12434349954128265 ,  accuracy= 0.9653916358947754\n"
          ]
        }
      ]
    },
    {
      "cell_type": "code",
      "source": [
        "print('models using different measurements for second model',)\n",
        "print('\\naccuracy = :', test_acc1)\n",
        "print(\"precision : \",precision_score(y_true, y_pred,average='macro'))\n",
        "print(\"recall    : \",recall_score(y_true, y_pred,average='macro'))\n",
        "print(\"f1_score  : \",f1_score(y_true, y_pred,average='macro'))"
      ],
      "metadata": {
        "colab": {
          "base_uri": "https://localhost:8080/"
        },
        "id": "wMzhKwChz-kx",
        "outputId": "b415bc5b-a002-47e0-8b0d-dc2cf6fa2693"
      },
      "execution_count": null,
      "outputs": [
        {
          "output_type": "stream",
          "name": "stdout",
          "text": [
            "models using different measurements for second model\n",
            "\n",
            "accuracy = : 0.7941888570785522\n",
            "precision :  0.9689568589689654\n",
            "recall    :  0.9632053869719164\n",
            "f1_score  :  0.9644726455274235\n"
          ]
        }
      ]
    },
    {
      "cell_type": "code",
      "source": [
        "y_pred = []\n",
        "y_true = []\n",
        "NDmodel = keras.Sequential([\n",
        "\tkeras.layers.Flatten(input_shape=(100,100)),\n",
        "\tkeras.layers.Dense(2000, activation=\"relu\"),\n",
        "  keras.layers.Dense(1000, activation=\"relu\"),\n",
        "\tkeras.layers.Dense(1000, activation=\"relu\"),\n",
        "\tkeras.layers.Dense(10, activation=\"softmax\")\n",
        "\t])\n",
        "NDmodel.compile(optimizer=\"adam\", loss=\"sparse_categorical_crossentropy\", metrics=[\"accuracy\"])\n",
        "\n",
        "NDmodel.fit(x_train, y_train, epochs=100)"
      ],
      "metadata": {
        "id": "IlOwDS0PoF0T",
        "colab": {
          "base_uri": "https://localhost:8080/"
        },
        "outputId": "0b9c2ed4-aa70-4e2f-ebbc-f0d26fa5c3f6"
      },
      "execution_count": null,
      "outputs": [
        {
          "output_type": "stream",
          "name": "stdout",
          "text": [
            "Epoch 1/100\n",
            "52/52 [==============================] - 1s 7ms/step - loss: 5.7133 - accuracy: 0.1013\n",
            "Epoch 2/100\n",
            "52/52 [==============================] - 0s 8ms/step - loss: 2.3076 - accuracy: 0.1231\n",
            "Epoch 3/100\n",
            "52/52 [==============================] - 0s 7ms/step - loss: 2.1383 - accuracy: 0.2347\n",
            "Epoch 4/100\n",
            "52/52 [==============================] - 0s 7ms/step - loss: 1.8769 - accuracy: 0.3220\n",
            "Epoch 5/100\n",
            "52/52 [==============================] - 0s 7ms/step - loss: 1.6495 - accuracy: 0.4124\n",
            "Epoch 6/100\n",
            "52/52 [==============================] - 0s 7ms/step - loss: 1.3508 - accuracy: 0.5167\n",
            "Epoch 7/100\n",
            "52/52 [==============================] - 0s 7ms/step - loss: 1.2994 - accuracy: 0.5518\n",
            "Epoch 8/100\n",
            "52/52 [==============================] - 0s 7ms/step - loss: 1.1767 - accuracy: 0.5785\n",
            "Epoch 9/100\n",
            "52/52 [==============================] - 0s 8ms/step - loss: 1.0497 - accuracy: 0.6367\n",
            "Epoch 10/100\n",
            "52/52 [==============================] - 0s 7ms/step - loss: 1.0884 - accuracy: 0.6192\n",
            "Epoch 11/100\n",
            "52/52 [==============================] - 0s 7ms/step - loss: 1.0014 - accuracy: 0.6549\n",
            "Epoch 12/100\n",
            "52/52 [==============================] - 0s 7ms/step - loss: 0.8816 - accuracy: 0.6950\n",
            "Epoch 13/100\n",
            "52/52 [==============================] - 0s 7ms/step - loss: 0.8516 - accuracy: 0.6998\n",
            "Epoch 14/100\n",
            "52/52 [==============================] - 0s 7ms/step - loss: 0.8428 - accuracy: 0.7107\n",
            "Epoch 15/100\n",
            "52/52 [==============================] - 0s 7ms/step - loss: 0.7957 - accuracy: 0.7235\n",
            "Epoch 16/100\n",
            "52/52 [==============================] - 0s 7ms/step - loss: 0.7601 - accuracy: 0.7374\n",
            "Epoch 17/100\n",
            "52/52 [==============================] - 0s 7ms/step - loss: 0.6319 - accuracy: 0.7817\n",
            "Epoch 18/100\n",
            "52/52 [==============================] - 0s 7ms/step - loss: 0.6554 - accuracy: 0.7690\n",
            "Epoch 19/100\n",
            "52/52 [==============================] - 0s 7ms/step - loss: 0.7430 - accuracy: 0.7556\n",
            "Epoch 20/100\n",
            "52/52 [==============================] - 0s 7ms/step - loss: 0.6385 - accuracy: 0.7665\n",
            "Epoch 21/100\n",
            "52/52 [==============================] - 0s 7ms/step - loss: 0.5677 - accuracy: 0.8023\n",
            "Epoch 22/100\n",
            "52/52 [==============================] - 0s 7ms/step - loss: 0.7369 - accuracy: 0.7429\n",
            "Epoch 23/100\n",
            "52/52 [==============================] - 0s 7ms/step - loss: 0.6176 - accuracy: 0.7865\n",
            "Epoch 24/100\n",
            "52/52 [==============================] - 0s 7ms/step - loss: 0.5882 - accuracy: 0.7975\n",
            "Epoch 25/100\n",
            "52/52 [==============================] - 0s 7ms/step - loss: 0.5267 - accuracy: 0.8132\n",
            "Epoch 26/100\n",
            "52/52 [==============================] - 0s 8ms/step - loss: 0.4748 - accuracy: 0.8369\n",
            "Epoch 27/100\n",
            "52/52 [==============================] - 0s 7ms/step - loss: 0.4683 - accuracy: 0.8344\n",
            "Epoch 28/100\n",
            "52/52 [==============================] - 0s 7ms/step - loss: 0.4882 - accuracy: 0.8266\n",
            "Epoch 29/100\n",
            "52/52 [==============================] - 0s 7ms/step - loss: 0.4446 - accuracy: 0.8375\n",
            "Epoch 30/100\n",
            "52/52 [==============================] - 0s 7ms/step - loss: 0.4815 - accuracy: 0.8247\n",
            "Epoch 31/100\n",
            "52/52 [==============================] - 0s 7ms/step - loss: 0.6989 - accuracy: 0.7647\n",
            "Epoch 32/100\n",
            "52/52 [==============================] - 0s 7ms/step - loss: 0.5345 - accuracy: 0.8053\n",
            "Epoch 33/100\n",
            "52/52 [==============================] - 0s 8ms/step - loss: 0.5027 - accuracy: 0.8065\n",
            "Epoch 34/100\n",
            "52/52 [==============================] - 0s 7ms/step - loss: 0.4949 - accuracy: 0.8284\n",
            "Epoch 35/100\n",
            "52/52 [==============================] - 0s 7ms/step - loss: 0.4713 - accuracy: 0.8223\n",
            "Epoch 36/100\n",
            "52/52 [==============================] - 0s 7ms/step - loss: 0.4682 - accuracy: 0.8320\n",
            "Epoch 37/100\n",
            "52/52 [==============================] - 0s 7ms/step - loss: 0.4063 - accuracy: 0.8508\n",
            "Epoch 38/100\n",
            "52/52 [==============================] - 0s 7ms/step - loss: 0.4951 - accuracy: 0.8351\n",
            "Epoch 39/100\n",
            "52/52 [==============================] - 0s 7ms/step - loss: 0.5344 - accuracy: 0.8163\n",
            "Epoch 40/100\n",
            "52/52 [==============================] - 0s 7ms/step - loss: 0.4723 - accuracy: 0.8266\n",
            "Epoch 41/100\n",
            "52/52 [==============================] - 0s 7ms/step - loss: 0.3888 - accuracy: 0.8714\n",
            "Epoch 42/100\n",
            "52/52 [==============================] - 0s 7ms/step - loss: 0.4468 - accuracy: 0.8417\n",
            "Epoch 43/100\n",
            "52/52 [==============================] - 0s 7ms/step - loss: 0.4143 - accuracy: 0.8484\n",
            "Epoch 44/100\n",
            "52/52 [==============================] - 0s 7ms/step - loss: 0.3713 - accuracy: 0.8702\n",
            "Epoch 45/100\n",
            "52/52 [==============================] - 0s 7ms/step - loss: 0.3375 - accuracy: 0.8654\n",
            "Epoch 46/100\n",
            "52/52 [==============================] - 0s 7ms/step - loss: 0.3937 - accuracy: 0.8545\n",
            "Epoch 47/100\n",
            "52/52 [==============================] - 0s 7ms/step - loss: 0.3439 - accuracy: 0.8763\n",
            "Epoch 48/100\n",
            "52/52 [==============================] - 0s 7ms/step - loss: 0.2631 - accuracy: 0.9018\n",
            "Epoch 49/100\n",
            "52/52 [==============================] - 0s 7ms/step - loss: 0.4315 - accuracy: 0.8338\n",
            "Epoch 50/100\n",
            "52/52 [==============================] - 0s 8ms/step - loss: 0.7843 - accuracy: 0.7411\n",
            "Epoch 51/100\n",
            "52/52 [==============================] - 0s 7ms/step - loss: 0.4141 - accuracy: 0.8472\n",
            "Epoch 52/100\n",
            "52/52 [==============================] - 0s 7ms/step - loss: 0.3309 - accuracy: 0.8757\n",
            "Epoch 53/100\n",
            "52/52 [==============================] - 0s 7ms/step - loss: 0.2471 - accuracy: 0.9048\n",
            "Epoch 54/100\n",
            "52/52 [==============================] - 0s 7ms/step - loss: 0.2503 - accuracy: 0.9060\n",
            "Epoch 55/100\n",
            "52/52 [==============================] - 0s 7ms/step - loss: 0.2592 - accuracy: 0.9133\n",
            "Epoch 56/100\n",
            "52/52 [==============================] - 0s 7ms/step - loss: 0.3473 - accuracy: 0.8763\n",
            "Epoch 57/100\n",
            "52/52 [==============================] - 0s 8ms/step - loss: 0.5006 - accuracy: 0.8302\n",
            "Epoch 58/100\n",
            "52/52 [==============================] - 0s 7ms/step - loss: 0.2470 - accuracy: 0.9139\n",
            "Epoch 59/100\n",
            "52/52 [==============================] - 0s 7ms/step - loss: 0.2456 - accuracy: 0.9133\n",
            "Epoch 60/100\n",
            "52/52 [==============================] - 0s 8ms/step - loss: 0.3556 - accuracy: 0.8714\n",
            "Epoch 61/100\n",
            "52/52 [==============================] - 0s 9ms/step - loss: 0.2751 - accuracy: 0.9005\n",
            "Epoch 62/100\n",
            "52/52 [==============================] - 0s 9ms/step - loss: 0.3817 - accuracy: 0.8551\n",
            "Epoch 63/100\n",
            "52/52 [==============================] - 1s 10ms/step - loss: 0.3337 - accuracy: 0.8848\n",
            "Epoch 64/100\n",
            "52/52 [==============================] - 0s 7ms/step - loss: 0.4951 - accuracy: 0.8320\n",
            "Epoch 65/100\n",
            "52/52 [==============================] - 0s 7ms/step - loss: 0.2829 - accuracy: 0.9012\n",
            "Epoch 66/100\n",
            "52/52 [==============================] - 0s 7ms/step - loss: 0.1526 - accuracy: 0.9497\n",
            "Epoch 67/100\n",
            "52/52 [==============================] - 0s 7ms/step - loss: 0.1814 - accuracy: 0.9357\n",
            "Epoch 68/100\n",
            "52/52 [==============================] - 0s 7ms/step - loss: 0.3666 - accuracy: 0.8642\n",
            "Epoch 69/100\n",
            "52/52 [==============================] - 0s 7ms/step - loss: 0.1621 - accuracy: 0.9460\n",
            "Epoch 70/100\n",
            "52/52 [==============================] - 0s 7ms/step - loss: 0.2383 - accuracy: 0.9151\n",
            "Epoch 71/100\n",
            "52/52 [==============================] - 0s 7ms/step - loss: 0.3087 - accuracy: 0.8963\n",
            "Epoch 72/100\n",
            "52/52 [==============================] - 0s 7ms/step - loss: 0.1748 - accuracy: 0.9321\n",
            "Epoch 73/100\n",
            "52/52 [==============================] - 1s 10ms/step - loss: 0.1560 - accuracy: 0.9503\n",
            "Epoch 74/100\n",
            "52/52 [==============================] - 0s 7ms/step - loss: 0.2248 - accuracy: 0.9193\n",
            "Epoch 75/100\n",
            "52/52 [==============================] - 1s 10ms/step - loss: 0.2629 - accuracy: 0.9127\n",
            "Epoch 76/100\n",
            "52/52 [==============================] - 0s 8ms/step - loss: 0.2691 - accuracy: 0.9005\n",
            "Epoch 77/100\n",
            "52/52 [==============================] - 0s 9ms/step - loss: 0.2470 - accuracy: 0.9151\n",
            "Epoch 78/100\n",
            "52/52 [==============================] - 0s 7ms/step - loss: 0.1812 - accuracy: 0.9327\n",
            "Epoch 79/100\n",
            "52/52 [==============================] - 0s 7ms/step - loss: 0.1619 - accuracy: 0.9406\n",
            "Epoch 80/100\n",
            "52/52 [==============================] - 0s 7ms/step - loss: 0.1387 - accuracy: 0.9497\n",
            "Epoch 81/100\n",
            "52/52 [==============================] - 0s 7ms/step - loss: 0.5573 - accuracy: 0.8223\n",
            "Epoch 82/100\n",
            "52/52 [==============================] - 0s 7ms/step - loss: 0.1768 - accuracy: 0.9424\n",
            "Epoch 83/100\n",
            "52/52 [==============================] - 0s 7ms/step - loss: 0.3893 - accuracy: 0.8629\n",
            "Epoch 84/100\n",
            "52/52 [==============================] - 0s 7ms/step - loss: 0.1177 - accuracy: 0.9612\n",
            "Epoch 85/100\n",
            "52/52 [==============================] - 0s 8ms/step - loss: 0.0956 - accuracy: 0.9654\n",
            "Epoch 86/100\n",
            "52/52 [==============================] - 0s 7ms/step - loss: 0.1897 - accuracy: 0.9333\n",
            "Epoch 87/100\n",
            "52/52 [==============================] - 0s 7ms/step - loss: 0.2114 - accuracy: 0.9236\n",
            "Epoch 88/100\n",
            "52/52 [==============================] - 0s 7ms/step - loss: 0.0862 - accuracy: 0.9745\n",
            "Epoch 89/100\n",
            "52/52 [==============================] - 0s 7ms/step - loss: 0.0793 - accuracy: 0.9733\n",
            "Epoch 90/100\n",
            "52/52 [==============================] - 0s 7ms/step - loss: 0.1476 - accuracy: 0.9466\n",
            "Epoch 91/100\n",
            "52/52 [==============================] - 0s 7ms/step - loss: 0.3621 - accuracy: 0.8866\n",
            "Epoch 92/100\n",
            "52/52 [==============================] - 0s 7ms/step - loss: 0.2229 - accuracy: 0.9218\n",
            "Epoch 93/100\n",
            "52/52 [==============================] - 0s 7ms/step - loss: 0.1480 - accuracy: 0.9424\n",
            "Epoch 94/100\n",
            "52/52 [==============================] - 0s 7ms/step - loss: 0.1672 - accuracy: 0.9394\n",
            "Epoch 95/100\n",
            "52/52 [==============================] - 0s 7ms/step - loss: 0.1027 - accuracy: 0.9660\n",
            "Epoch 96/100\n",
            "52/52 [==============================] - 0s 7ms/step - loss: 0.1905 - accuracy: 0.9369\n",
            "Epoch 97/100\n",
            "52/52 [==============================] - 0s 7ms/step - loss: 0.5791 - accuracy: 0.8102\n",
            "Epoch 98/100\n",
            "52/52 [==============================] - 0s 8ms/step - loss: 0.4715 - accuracy: 0.8326\n",
            "Epoch 99/100\n",
            "52/52 [==============================] - 0s 7ms/step - loss: 0.4312 - accuracy: 0.8496\n",
            "Epoch 100/100\n",
            "52/52 [==============================] - 0s 7ms/step - loss: 0.3691 - accuracy: 0.8745\n"
          ]
        },
        {
          "output_type": "execute_result",
          "data": {
            "text/plain": [
              "<keras.callbacks.History at 0x7f5ed04d48b0>"
            ]
          },
          "metadata": {},
          "execution_count": 20
        }
      ]
    },
    {
      "cell_type": "code",
      "source": [
        "test_loss2, test_acc2 = NDmodel.evaluate(x_test, y_test)"
      ],
      "metadata": {
        "id": "L4ynPEBu_Tsd",
        "colab": {
          "base_uri": "https://localhost:8080/"
        },
        "outputId": "353a45bd-e1f4-4ef5-c417-2a0a32e7a487"
      },
      "execution_count": null,
      "outputs": [
        {
          "output_type": "stream",
          "name": "stdout",
          "text": [
            "13/13 [==============================] - 0s 3ms/step - loss: 1.0128 - accuracy: 0.7579\n"
          ]
        }
      ]
    },
    {
      "cell_type": "code",
      "source": [
        "crossValidation(NDmodel)"
      ],
      "metadata": {
        "colab": {
          "base_uri": "https://localhost:8080/"
        },
        "id": "oF6IU4rLzKCz",
        "outputId": "e91953c9-2ed1-4eff-8967-60ece3c07ede"
      },
      "execution_count": null,
      "outputs": [
        {
          "output_type": "stream",
          "name": "stdout",
          "text": [
            "Epoch 1/5\n",
            "35/35 [==============================] - 0s 8ms/step - loss: 0.1745 - accuracy: 0.9454\n",
            "Epoch 2/5\n",
            "35/35 [==============================] - 0s 7ms/step - loss: 0.1168 - accuracy: 0.9572\n",
            "Epoch 3/5\n",
            "35/35 [==============================] - 0s 7ms/step - loss: 0.4044 - accuracy: 0.8681\n",
            "Epoch 4/5\n",
            "35/35 [==============================] - 0s 7ms/step - loss: 0.1790 - accuracy: 0.9299\n",
            "Epoch 5/5\n",
            "35/35 [==============================] - 0s 7ms/step - loss: 0.1956 - accuracy: 0.9236\n",
            "18/18 [==============================] - 0s 4ms/step - loss: 0.1369 - accuracy: 0.9600\n",
            "18/18 [==============================] - 0s 2ms/step\n",
            "Epoch 1/5\n",
            "35/35 [==============================] - 0s 8ms/step - loss: 0.2539 - accuracy: 0.9108\n",
            "Epoch 2/5\n",
            "35/35 [==============================] - 0s 8ms/step - loss: 0.2319 - accuracy: 0.9199\n",
            "Epoch 3/5\n",
            "35/35 [==============================] - 0s 7ms/step - loss: 0.4559 - accuracy: 0.8581\n",
            "Epoch 4/5\n",
            "35/35 [==============================] - 0s 7ms/step - loss: 0.1483 - accuracy: 0.9509\n",
            "Epoch 5/5\n",
            "35/35 [==============================] - 0s 7ms/step - loss: 0.1481 - accuracy: 0.9500\n",
            "18/18 [==============================] - 0s 3ms/step - loss: 0.1187 - accuracy: 0.9691\n",
            "18/18 [==============================] - 0s 2ms/step\n",
            "Epoch 1/5\n",
            "35/35 [==============================] - 0s 7ms/step - loss: 0.1438 - accuracy: 0.9545\n",
            "Epoch 2/5\n",
            "35/35 [==============================] - 0s 7ms/step - loss: 0.2331 - accuracy: 0.9164\n",
            "Epoch 3/5\n",
            "35/35 [==============================] - 0s 8ms/step - loss: 0.2980 - accuracy: 0.8855\n",
            "Epoch 4/5\n",
            "35/35 [==============================] - 0s 7ms/step - loss: 0.5343 - accuracy: 0.8136\n",
            "Epoch 5/5\n",
            "35/35 [==============================] - 0s 7ms/step - loss: 0.3683 - accuracy: 0.8709\n",
            "18/18 [==============================] - 0s 3ms/step - loss: 0.1243 - accuracy: 0.9654\n",
            "18/18 [==============================] - 0s 2ms/step\n",
            "loss= 0.12434349954128265 ,  accuracy= 0.9653916358947754\n"
          ]
        }
      ]
    },
    {
      "cell_type": "code",
      "source": [
        "print('models using different measurements for second model',)\n",
        "print('\\naccuracy = :', test_acc2)\n",
        "print(\"precision : \",precision_score(y_true, y_pred,average='macro'))\n",
        "print(\"recall    : \",recall_score(y_true, y_pred,average='macro'))\n",
        "print(\"f1_score  : \",f1_score(y_true, y_pred,average='macro'))"
      ],
      "metadata": {
        "id": "4c5s7bZUU4lV",
        "colab": {
          "base_uri": "https://localhost:8080/"
        },
        "outputId": "9ba6f333-8de6-4c38-9668-734e129a1c52"
      },
      "execution_count": null,
      "outputs": [
        {
          "output_type": "stream",
          "name": "stdout",
          "text": [
            "models using different measurements for second model\n",
            "\n",
            "accuracy = : 0.7578692436218262\n",
            "precision :  0.8732912491334798\n",
            "recall    :  0.8517510867720504\n",
            "f1_score  :  0.8531099769784015\n"
          ]
        }
      ]
    },
    {
      "cell_type": "code",
      "source": [
        "# check if file exists\n",
        "if os.path.isfile('report.txt'):\n",
        "    os.remove('report.txt')\n",
        "\n",
        "with open(\"report.txt\", \"a\") as file:\n",
        "    file.write(f'Model 1:  {(test_acc1 * 100.0)} \\n')\n",
        "    file.write(f'Model 2:  {(test_acc2 * 100.0)} \\n')\n",
        "\n",
        "print('Model 1: %.3f' % (test_acc1 * 100.0))\n",
        "print('Model 2: %.3f' % (test_acc2 * 100.0))\n",
        "\n",
        "y_pred1 = STmodel.predict(x_test)\n",
        "y_pred1 = np.argmax(y_pred1, axis=1)\n",
        "y_pred2 = NDmodel.predict(x_test)\n",
        "y_pred2 = np.argmax(y_pred2, axis=1)\n",
        "\n",
        "print('Model 1 classification report: ')\n",
        "print(classification_report(y_test, y_pred1))\n",
        "print('Model 2 classification report: ')\n",
        "print(classification_report(y_test, y_pred2))\n",
        "\n",
        "with open(\"report.txt\", \"a\") as file:\n",
        "    file.write('Model 1 classification report: \\n')\n",
        "    file.write(classification_report(y_test, y_pred1))\n",
        "    file.write('\\n')\n",
        "    file.write('Model 2 classification report: \\n')\n",
        "    file.write(classification_report(y_test, y_pred2))\n",
        "    file.write('\\n')\n",
        "    file.write('\\n')"
      ],
      "metadata": {
        "id": "_vy9FVFrdd1P",
        "colab": {
          "base_uri": "https://localhost:8080/"
        },
        "outputId": "063f6d9f-2578-47f9-8e19-490b4b8de525"
      },
      "execution_count": null,
      "outputs": [
        {
          "output_type": "stream",
          "name": "stdout",
          "text": [
            "Model 1: 79.419\n",
            "Model 2: 75.787\n",
            "13/13 [==============================] - 0s 2ms/step\n",
            "13/13 [==============================] - 0s 2ms/step\n",
            "Model 1 classification report: \n",
            "              precision    recall  f1-score   support\n",
            "\n",
            "           0       0.63      0.74      0.68        39\n",
            "           1       0.91      0.86      0.88        35\n",
            "           2       0.81      0.81      0.81        43\n",
            "           3       0.62      0.82      0.70        38\n",
            "           4       0.94      0.59      0.72        29\n",
            "           5       0.77      0.95      0.85        43\n",
            "           6       0.84      0.74      0.79        43\n",
            "           7       0.94      0.60      0.73        52\n",
            "           8       0.89      0.89      0.89        44\n",
            "           9       0.71      0.83      0.76        47\n",
            "\n",
            "    accuracy                           0.78       413\n",
            "   macro avg       0.81      0.78      0.78       413\n",
            "weighted avg       0.81      0.78      0.78       413\n",
            "\n",
            "Model 2 classification report: \n",
            "              precision    recall  f1-score   support\n",
            "\n",
            "           0       0.71      0.64      0.68        39\n",
            "           1       0.91      0.89      0.90        35\n",
            "           2       1.00      0.67      0.81        43\n",
            "           3       0.46      0.71      0.56        38\n",
            "           4       0.86      0.62      0.72        29\n",
            "           5       0.83      0.91      0.87        43\n",
            "           6       0.74      0.93      0.82        43\n",
            "           7       1.00      0.38      0.56        52\n",
            "           8       0.71      0.89      0.79        44\n",
            "           9       0.54      0.68      0.60        47\n",
            "\n",
            "    accuracy                           0.73       413\n",
            "   macro avg       0.78      0.73      0.73       413\n",
            "weighted avg       0.78      0.73      0.72       413\n",
            "\n"
          ]
        }
      ]
    }
  ]
}